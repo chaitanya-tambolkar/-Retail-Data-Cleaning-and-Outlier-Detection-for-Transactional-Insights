{
 "cells": [
  {
   "cell_type": "markdown",
   "id": "f8d46225",
   "metadata": {},
   "source": [
    "# FIT 5196: Assignment 2\n",
    "\n",
    "## Task 1: Data Cleaning <br><br>\n",
    "\n",
    "**Name:** Chaitanya Tambolkar   \n",
    "\n",
    "**Student ID:** 34093117\n",
    "\n",
    "**Name:** Fahmid Tawsif Khan Chowdhury \n",
    "\n",
    "**Student ID:** 34121315"
   ]
  },
  {
   "cell_type": "markdown",
   "id": "46a536b9",
   "metadata": {},
   "source": [
    "# 1. Introduction"
   ]
  },
  {
   "cell_type": "markdown",
   "id": "c32a15e0",
   "metadata": {},
   "source": [
    "In this task, we were assigned to analyze, identify, and address issues in three datasets. The problems fell into three main categories:\n",
    "\n",
    "- Correcting incorrect data and anomalies.\n",
    "- Detecting and removing outliers.\n",
    "- Imputing missing data.\n",
    "\n",
    "We began with an exploratory data analysis (EDA) to gain an initial understanding of the dataset’s structure and guide us in identifying errors. The initial EDA revealed some errors, and by closely examining relationships between columns, we were able to uncover additional issues.\n",
    "\n",
    "After resolving these errors, we moved on to outlier detection and removal. While trying various univariate approaches, we realized that one column, delivery_charges, was influenced by multiple features. As a result, we opted for a multivariate approach, using linear regression to identify and remove outliers effectively.\n",
    "\n",
    "Finally, detecting missing values was straightforward. By applying functions and methods from previous steps, we successfully handled all imputations and ensured the datasets were complete."
   ]
  },
  {
   "cell_type": "markdown",
   "id": "151118c5",
   "metadata": {
    "id": "151118c5"
   },
   "source": [
    "**Import Libraries**"
   ]
  },
  {
   "cell_type": "code",
   "execution_count": 1,
   "id": "ced67c44",
   "metadata": {
    "colab": {
     "base_uri": "https://localhost:8080/",
     "height": 0
    },
    "id": "ced67c44",
    "outputId": "c7c82058-aed1-4a82-ef33-4f7300b0af2d"
   },
   "outputs": [
    {
     "name": "stderr",
     "output_type": "stream",
     "text": [
      "[nltk_data] Downloading package vader_lexicon to\n",
      "[nltk_data]     /Users/fahmidtawsifkhanchowdhury/nltk_data...\n",
      "[nltk_data]   Package vader_lexicon is already up-to-date!\n"
     ]
    }
   ],
   "source": [
    "# Load libraries\n",
    "import pandas as pd\n",
    "import matplotlib.pyplot as plt\n",
    "import seaborn as sns\n",
    "from math import radians, cos, sin, asin, sqrt\n",
    "import numpy as np\n",
    "from datetime import datetime\n",
    "import nltk\n",
    "nltk.download('vader_lexicon')\n",
    "import pandas as pd\n",
    "from sklearn.model_selection import train_test_split\n",
    "from sklearn.linear_model import LinearRegression\n",
    "from sklearn.metrics import r2_score\n",
    "from sklearn.preprocessing import OneHotEncoder\n",
    "from sklearn.preprocessing import PolynomialFeatures\n",
    "import pandas as pd\n",
    "import matplotlib.pyplot as plt\n",
    "import ast\n",
    "from sklearn.model_selection import train_test_split\n",
    "from sklearn.linear_model import LinearRegression\n",
    "import statsmodels.api as sm\n",
    "from nltk.sentiment.vader import SentimentIntensityAnalyzer\n",
    "import warnings\n",
    "warnings.filterwarnings(\"ignore\")"
   ]
  },
  {
   "cell_type": "code",
   "execution_count": 2,
   "id": "e772d548",
   "metadata": {
    "id": "e772d548"
   },
   "outputs": [],
   "source": [
    "# Load the dataset\n",
    "df_dirty = pd.read_csv('Group130_dirty_data.csv')"
   ]
  },
  {
   "cell_type": "markdown",
   "id": "08fcd1d8",
   "metadata": {
    "id": "08fcd1d8"
   },
   "source": [
    "# 2. Dirty Data: Exploratory Data Analysis"
   ]
  },
  {
   "cell_type": "code",
   "execution_count": 3,
   "id": "c78f0d95",
   "metadata": {
    "colab": {
     "base_uri": "https://localhost:8080/",
     "height": 434
    },
    "id": "c78f0d95",
    "outputId": "20b49684-e54b-4f55-8527-08ce2276ee80",
    "scrolled": true
   },
   "outputs": [
    {
     "data": {
      "text/html": [
       "<div>\n",
       "<style scoped>\n",
       "    .dataframe tbody tr th:only-of-type {\n",
       "        vertical-align: middle;\n",
       "    }\n",
       "\n",
       "    .dataframe tbody tr th {\n",
       "        vertical-align: top;\n",
       "    }\n",
       "\n",
       "    .dataframe thead th {\n",
       "        text-align: right;\n",
       "    }\n",
       "</style>\n",
       "<table border=\"1\" class=\"dataframe\">\n",
       "  <thead>\n",
       "    <tr style=\"text-align: right;\">\n",
       "      <th></th>\n",
       "      <th>order_id</th>\n",
       "      <th>customer_id</th>\n",
       "      <th>date</th>\n",
       "      <th>nearest_warehouse</th>\n",
       "      <th>shopping_cart</th>\n",
       "      <th>order_price</th>\n",
       "      <th>delivery_charges</th>\n",
       "      <th>customer_lat</th>\n",
       "      <th>customer_long</th>\n",
       "      <th>coupon_discount</th>\n",
       "      <th>order_total</th>\n",
       "      <th>season</th>\n",
       "      <th>is_expedited_delivery</th>\n",
       "      <th>distance_to_nearest_warehouse</th>\n",
       "      <th>latest_customer_review</th>\n",
       "      <th>is_happy_customer</th>\n",
       "    </tr>\n",
       "  </thead>\n",
       "  <tbody>\n",
       "    <tr>\n",
       "      <th>0</th>\n",
       "      <td>ORD021989</td>\n",
       "      <td>ID0591408809</td>\n",
       "      <td>2019-09-22</td>\n",
       "      <td>Nickolson</td>\n",
       "      <td>[('pearTV', 2), ('Candle Inferno', 2), ('iAssi...</td>\n",
       "      <td>11280</td>\n",
       "      <td>84.06</td>\n",
       "      <td>-37.819774</td>\n",
       "      <td>144.961375</td>\n",
       "      <td>25</td>\n",
       "      <td>14450.31</td>\n",
       "      <td>Spring</td>\n",
       "      <td>True</td>\n",
       "      <td>0.7308</td>\n",
       "      <td>did not last long barely a month after getting...</td>\n",
       "      <td>False</td>\n",
       "    </tr>\n",
       "    <tr>\n",
       "      <th>1</th>\n",
       "      <td>ORD365253</td>\n",
       "      <td>ID0331420064</td>\n",
       "      <td>2019-01-27</td>\n",
       "      <td>Bakers</td>\n",
       "      <td>[('Alcon 10', 1), ('iStream', 1), ('Toshika 75...</td>\n",
       "      <td>17740</td>\n",
       "      <td>62.75</td>\n",
       "      <td>-37.820335</td>\n",
       "      <td>145.001718</td>\n",
       "      <td>5</td>\n",
       "      <td>16915.75</td>\n",
       "      <td>Summer</td>\n",
       "      <td>False</td>\n",
       "      <td>1.2845</td>\n",
       "      <td>microphone not working! people on the other en...</td>\n",
       "      <td>False</td>\n",
       "    </tr>\n",
       "  </tbody>\n",
       "</table>\n",
       "</div>"
      ],
      "text/plain": [
       "    order_id   customer_id        date nearest_warehouse  \\\n",
       "0  ORD021989  ID0591408809  2019-09-22         Nickolson   \n",
       "1  ORD365253  ID0331420064  2019-01-27            Bakers   \n",
       "\n",
       "                                       shopping_cart  order_price  \\\n",
       "0  [('pearTV', 2), ('Candle Inferno', 2), ('iAssi...        11280   \n",
       "1  [('Alcon 10', 1), ('iStream', 1), ('Toshika 75...        17740   \n",
       "\n",
       "   delivery_charges  customer_lat  customer_long  coupon_discount  \\\n",
       "0             84.06    -37.819774     144.961375               25   \n",
       "1             62.75    -37.820335     145.001718                5   \n",
       "\n",
       "   order_total  season  is_expedited_delivery  distance_to_nearest_warehouse  \\\n",
       "0     14450.31  Spring                   True                         0.7308   \n",
       "1     16915.75  Summer                  False                         1.2845   \n",
       "\n",
       "                              latest_customer_review  is_happy_customer  \n",
       "0  did not last long barely a month after getting...              False  \n",
       "1  microphone not working! people on the other en...              False  "
      ]
     },
     "execution_count": 3,
     "metadata": {},
     "output_type": "execute_result"
    }
   ],
   "source": [
    "df_dirty.head(2)"
   ]
  },
  {
   "cell_type": "code",
   "execution_count": 4,
   "id": "4b6c8aa4",
   "metadata": {
    "colab": {
     "base_uri": "https://localhost:8080/",
     "height": 300
    },
    "id": "4b6c8aa4",
    "outputId": "7ec2d22c-2464-4ef3-dbd8-909610737cab",
    "scrolled": true
   },
   "outputs": [
    {
     "data": {
      "text/html": [
       "<div>\n",
       "<style scoped>\n",
       "    .dataframe tbody tr th:only-of-type {\n",
       "        vertical-align: middle;\n",
       "    }\n",
       "\n",
       "    .dataframe tbody tr th {\n",
       "        vertical-align: top;\n",
       "    }\n",
       "\n",
       "    .dataframe thead th {\n",
       "        text-align: right;\n",
       "    }\n",
       "</style>\n",
       "<table border=\"1\" class=\"dataframe\">\n",
       "  <thead>\n",
       "    <tr style=\"text-align: right;\">\n",
       "      <th></th>\n",
       "      <th>order_price</th>\n",
       "      <th>delivery_charges</th>\n",
       "      <th>customer_lat</th>\n",
       "      <th>customer_long</th>\n",
       "      <th>coupon_discount</th>\n",
       "      <th>order_total</th>\n",
       "      <th>distance_to_nearest_warehouse</th>\n",
       "    </tr>\n",
       "  </thead>\n",
       "  <tbody>\n",
       "    <tr>\n",
       "      <th>count</th>\n",
       "      <td>500.000000</td>\n",
       "      <td>500.000000</td>\n",
       "      <td>500.000000</td>\n",
       "      <td>500.000000</td>\n",
       "      <td>500.00000</td>\n",
       "      <td>500.000000</td>\n",
       "      <td>500.000000</td>\n",
       "    </tr>\n",
       "    <tr>\n",
       "      <th>mean</th>\n",
       "      <td>14003.710000</td>\n",
       "      <td>76.237320</td>\n",
       "      <td>-27.942727</td>\n",
       "      <td>135.095500</td>\n",
       "      <td>11.12000</td>\n",
       "      <td>12704.429700</td>\n",
       "      <td>1.103460</td>\n",
       "    </tr>\n",
       "    <tr>\n",
       "      <th>std</th>\n",
       "      <td>7792.338009</td>\n",
       "      <td>14.298834</td>\n",
       "      <td>41.353091</td>\n",
       "      <td>41.352510</td>\n",
       "      <td>8.79775</td>\n",
       "      <td>7229.074939</td>\n",
       "      <td>0.513740</td>\n",
       "    </tr>\n",
       "    <tr>\n",
       "      <th>min</th>\n",
       "      <td>1010.000000</td>\n",
       "      <td>47.660000</td>\n",
       "      <td>-37.831769</td>\n",
       "      <td>-37.827984</td>\n",
       "      <td>0.00000</td>\n",
       "      <td>964.690000</td>\n",
       "      <td>0.026500</td>\n",
       "    </tr>\n",
       "    <tr>\n",
       "      <th>25%</th>\n",
       "      <td>8130.000000</td>\n",
       "      <td>65.622500</td>\n",
       "      <td>-37.818726</td>\n",
       "      <td>144.947888</td>\n",
       "      <td>5.00000</td>\n",
       "      <td>7477.242500</td>\n",
       "      <td>0.730300</td>\n",
       "    </tr>\n",
       "    <tr>\n",
       "      <th>50%</th>\n",
       "      <td>12400.000000</td>\n",
       "      <td>76.660000</td>\n",
       "      <td>-37.813071</td>\n",
       "      <td>144.963299</td>\n",
       "      <td>10.00000</td>\n",
       "      <td>11317.930000</td>\n",
       "      <td>1.058100</td>\n",
       "    </tr>\n",
       "    <tr>\n",
       "      <th>75%</th>\n",
       "      <td>19530.000000</td>\n",
       "      <td>83.030000</td>\n",
       "      <td>-37.804831</td>\n",
       "      <td>144.978216</td>\n",
       "      <td>15.00000</td>\n",
       "      <td>17019.840000</td>\n",
       "      <td>1.436575</td>\n",
       "    </tr>\n",
       "    <tr>\n",
       "      <th>max</th>\n",
       "      <td>43520.000000</td>\n",
       "      <td>116.630000</td>\n",
       "      <td>145.011618</td>\n",
       "      <td>145.016573</td>\n",
       "      <td>25.00000</td>\n",
       "      <td>39256.310000</td>\n",
       "      <td>2.781600</td>\n",
       "    </tr>\n",
       "  </tbody>\n",
       "</table>\n",
       "</div>"
      ],
      "text/plain": [
       "        order_price  delivery_charges  customer_lat  customer_long  \\\n",
       "count    500.000000        500.000000    500.000000     500.000000   \n",
       "mean   14003.710000         76.237320    -27.942727     135.095500   \n",
       "std     7792.338009         14.298834     41.353091      41.352510   \n",
       "min     1010.000000         47.660000    -37.831769     -37.827984   \n",
       "25%     8130.000000         65.622500    -37.818726     144.947888   \n",
       "50%    12400.000000         76.660000    -37.813071     144.963299   \n",
       "75%    19530.000000         83.030000    -37.804831     144.978216   \n",
       "max    43520.000000        116.630000    145.011618     145.016573   \n",
       "\n",
       "       coupon_discount   order_total  distance_to_nearest_warehouse  \n",
       "count        500.00000    500.000000                     500.000000  \n",
       "mean          11.12000  12704.429700                       1.103460  \n",
       "std            8.79775   7229.074939                       0.513740  \n",
       "min            0.00000    964.690000                       0.026500  \n",
       "25%            5.00000   7477.242500                       0.730300  \n",
       "50%           10.00000  11317.930000                       1.058100  \n",
       "75%           15.00000  17019.840000                       1.436575  \n",
       "max           25.00000  39256.310000                       2.781600  "
      ]
     },
     "execution_count": 4,
     "metadata": {},
     "output_type": "execute_result"
    }
   ],
   "source": [
    "df_dirty.describe()"
   ]
  },
  {
   "cell_type": "code",
   "execution_count": 5,
   "id": "5e805148",
   "metadata": {
    "colab": {
     "base_uri": "https://localhost:8080/",
     "height": 799
    },
    "id": "5e805148",
    "outputId": "d7fb9a1a-a433-4710-f03f-68548b669c85"
   },
   "outputs": [
    {
     "data": {
      "text/html": [
       "<div>\n",
       "<style scoped>\n",
       "    .dataframe tbody tr th:only-of-type {\n",
       "        vertical-align: middle;\n",
       "    }\n",
       "\n",
       "    .dataframe tbody tr th {\n",
       "        vertical-align: top;\n",
       "    }\n",
       "\n",
       "    .dataframe thead th {\n",
       "        text-align: right;\n",
       "    }\n",
       "</style>\n",
       "<table border=\"1\" class=\"dataframe\">\n",
       "  <thead>\n",
       "    <tr style=\"text-align: right;\">\n",
       "      <th></th>\n",
       "      <th>order_id</th>\n",
       "      <th>customer_id</th>\n",
       "      <th>date</th>\n",
       "      <th>nearest_warehouse</th>\n",
       "      <th>shopping_cart</th>\n",
       "      <th>order_price</th>\n",
       "      <th>delivery_charges</th>\n",
       "      <th>customer_lat</th>\n",
       "      <th>customer_long</th>\n",
       "      <th>coupon_discount</th>\n",
       "      <th>order_total</th>\n",
       "      <th>season</th>\n",
       "      <th>is_expedited_delivery</th>\n",
       "      <th>distance_to_nearest_warehouse</th>\n",
       "      <th>latest_customer_review</th>\n",
       "      <th>is_happy_customer</th>\n",
       "    </tr>\n",
       "  </thead>\n",
       "  <tbody>\n",
       "    <tr>\n",
       "      <th>316</th>\n",
       "      <td>ORD477513</td>\n",
       "      <td>ID1897799257</td>\n",
       "      <td>2019-11-27</td>\n",
       "      <td>Nickolson</td>\n",
       "      <td>[('Toshika 750', 2), ('iStream', 1), ('Lucent ...</td>\n",
       "      <td>13430</td>\n",
       "      <td>93.30</td>\n",
       "      <td>144.955002</td>\n",
       "      <td>-37.827984</td>\n",
       "      <td>0</td>\n",
       "      <td>13523.30</td>\n",
       "      <td>Spring</td>\n",
       "      <td>True</td>\n",
       "      <td>1.6519</td>\n",
       "      <td>totally stinks. takes 10 hrs. to charge. ... t...</td>\n",
       "      <td>False</td>\n",
       "    </tr>\n",
       "    <tr>\n",
       "      <th>341</th>\n",
       "      <td>ORD393585</td>\n",
       "      <td>ID0107156453</td>\n",
       "      <td>2019-03-26</td>\n",
       "      <td>Nickolson</td>\n",
       "      <td>[('iAssist Line', 2), ('Lucent 330S', 2), ('iS...</td>\n",
       "      <td>7060</td>\n",
       "      <td>81.81</td>\n",
       "      <td>144.983476</td>\n",
       "      <td>-37.827631</td>\n",
       "      <td>0</td>\n",
       "      <td>7141.81</td>\n",
       "      <td>Autumn</td>\n",
       "      <td>True</td>\n",
       "      <td>1.5846</td>\n",
       "      <td>best black friday deal :) i'm not a \"bandwagon...</td>\n",
       "      <td>True</td>\n",
       "    </tr>\n",
       "    <tr>\n",
       "      <th>59</th>\n",
       "      <td>ORD085987</td>\n",
       "      <td>ID4380043595</td>\n",
       "      <td>2019-07-22</td>\n",
       "      <td>Bakers</td>\n",
       "      <td>[('Olivia x460', 2), ('pearTV', 1), ('iAssist ...</td>\n",
       "      <td>13210</td>\n",
       "      <td>82.64</td>\n",
       "      <td>144.988835</td>\n",
       "      <td>-37.825322</td>\n",
       "      <td>15</td>\n",
       "      <td>11311.14</td>\n",
       "      <td>Winter</td>\n",
       "      <td>True</td>\n",
       "      <td>1.7963</td>\n",
       "      <td>five stars great phone got it the next day!</td>\n",
       "      <td>True</td>\n",
       "    </tr>\n",
       "    <tr>\n",
       "      <th>32</th>\n",
       "      <td>ORD408195</td>\n",
       "      <td>ID6202471409</td>\n",
       "      <td>2019-02-24</td>\n",
       "      <td>Nickolson</td>\n",
       "      <td>[('Candle Inferno', 2), ('Universe Note', 1), ...</td>\n",
       "      <td>4460</td>\n",
       "      <td>61.09</td>\n",
       "      <td>144.980524</td>\n",
       "      <td>-37.821566</td>\n",
       "      <td>0</td>\n",
       "      <td>4521.09</td>\n",
       "      <td>Summer</td>\n",
       "      <td>False</td>\n",
       "      <td>1.0200</td>\n",
       "      <td>made a mistake of buying this xperia xa1. the ...</td>\n",
       "      <td>False</td>\n",
       "    </tr>\n",
       "    <tr>\n",
       "      <th>355</th>\n",
       "      <td>ORD089498</td>\n",
       "      <td>ID0589500304</td>\n",
       "      <td>2019-02-04</td>\n",
       "      <td>Nickolson</td>\n",
       "      <td>[('Universe Note', 2), ('iAssist Line', 2), ('...</td>\n",
       "      <td>12575</td>\n",
       "      <td>96.34</td>\n",
       "      <td>144.957411</td>\n",
       "      <td>-37.820228</td>\n",
       "      <td>10</td>\n",
       "      <td>11413.84</td>\n",
       "      <td>Summer</td>\n",
       "      <td>True</td>\n",
       "      <td>1.0829</td>\n",
       "      <td>the camera is awesome for the price! love this...</td>\n",
       "      <td>True</td>\n",
       "    </tr>\n",
       "    <tr>\n",
       "      <th>163</th>\n",
       "      <td>ORD431002</td>\n",
       "      <td>ID0846547082</td>\n",
       "      <td>2019-05-22</td>\n",
       "      <td>Nickolson</td>\n",
       "      <td>[('pearTV', 1), ('Olivia x460', 2), ('iStream'...</td>\n",
       "      <td>8910</td>\n",
       "      <td>63.19</td>\n",
       "      <td>144.968759</td>\n",
       "      <td>-37.820149</td>\n",
       "      <td>15</td>\n",
       "      <td>7636.69</td>\n",
       "      <td>Autumn</td>\n",
       "      <td>True</td>\n",
       "      <td>0.1865</td>\n",
       "      <td>two stars the charger never come</td>\n",
       "      <td>False</td>\n",
       "    </tr>\n",
       "    <tr>\n",
       "      <th>303</th>\n",
       "      <td>ORD127956</td>\n",
       "      <td>ID6167191702</td>\n",
       "      <td>2019-06-21</td>\n",
       "      <td>Thompson</td>\n",
       "      <td>[('Universe Note', 1), ('Thunder line', 1), ('...</td>\n",
       "      <td>27850</td>\n",
       "      <td>51.00</td>\n",
       "      <td>144.954940</td>\n",
       "      <td>-37.818801</td>\n",
       "      <td>10</td>\n",
       "      <td>25116.00</td>\n",
       "      <td>Winter</td>\n",
       "      <td>False</td>\n",
       "      <td>0.9718</td>\n",
       "      <td>two stars almost impossible to hook up to any ...</td>\n",
       "      <td>False</td>\n",
       "    </tr>\n",
       "    <tr>\n",
       "      <th>110</th>\n",
       "      <td>ORD444220</td>\n",
       "      <td>ID1560149460</td>\n",
       "      <td>2019-11-09</td>\n",
       "      <td>Thompson</td>\n",
       "      <td>[('Lucent 330S', 2), ('iAssist Line', 2), ('Un...</td>\n",
       "      <td>11585</td>\n",
       "      <td>102.61</td>\n",
       "      <td>144.938397</td>\n",
       "      <td>-37.816116</td>\n",
       "      <td>0</td>\n",
       "      <td>11687.61</td>\n",
       "      <td>Spring</td>\n",
       "      <td>True</td>\n",
       "      <td>0.8535</td>\n",
       "      <td>everything was everything not bad, fast shippi...</td>\n",
       "      <td>True</td>\n",
       "    </tr>\n",
       "    <tr>\n",
       "      <th>370</th>\n",
       "      <td>ORD236867</td>\n",
       "      <td>ID6167489473</td>\n",
       "      <td>2019-01-19</td>\n",
       "      <td>Nickolson</td>\n",
       "      <td>[('pearTV', 1), ('Lucent 330S', 1)]</td>\n",
       "      <td>7540</td>\n",
       "      <td>73.28</td>\n",
       "      <td>144.961098</td>\n",
       "      <td>-37.816019</td>\n",
       "      <td>15</td>\n",
       "      <td>6482.28</td>\n",
       "      <td>Summer</td>\n",
       "      <td>False</td>\n",
       "      <td>0.7968</td>\n",
       "      <td>no accessories but still a great deal didn't c...</td>\n",
       "      <td>True</td>\n",
       "    </tr>\n",
       "    <tr>\n",
       "      <th>164</th>\n",
       "      <td>ORD239935</td>\n",
       "      <td>ID6167344558</td>\n",
       "      <td>2019-10-07</td>\n",
       "      <td>Nickolson</td>\n",
       "      <td>[('iStream', 2), ('Candle Inferno', 2), ('pear...</td>\n",
       "      <td>25370</td>\n",
       "      <td>83.32</td>\n",
       "      <td>144.972188</td>\n",
       "      <td>-37.815933</td>\n",
       "      <td>10</td>\n",
       "      <td>22916.32</td>\n",
       "      <td>Spring</td>\n",
       "      <td>True</td>\n",
       "      <td>0.3763</td>\n",
       "      <td>one star these phones aren't for verizon ... i...</td>\n",
       "      <td>False</td>\n",
       "    </tr>\n",
       "  </tbody>\n",
       "</table>\n",
       "</div>"
      ],
      "text/plain": [
       "      order_id   customer_id        date nearest_warehouse  \\\n",
       "316  ORD477513  ID1897799257  2019-11-27         Nickolson   \n",
       "341  ORD393585  ID0107156453  2019-03-26         Nickolson   \n",
       "59   ORD085987  ID4380043595  2019-07-22            Bakers   \n",
       "32   ORD408195  ID6202471409  2019-02-24         Nickolson   \n",
       "355  ORD089498  ID0589500304  2019-02-04         Nickolson   \n",
       "163  ORD431002  ID0846547082  2019-05-22         Nickolson   \n",
       "303  ORD127956  ID6167191702  2019-06-21          Thompson   \n",
       "110  ORD444220  ID1560149460  2019-11-09          Thompson   \n",
       "370  ORD236867  ID6167489473  2019-01-19         Nickolson   \n",
       "164  ORD239935  ID6167344558  2019-10-07         Nickolson   \n",
       "\n",
       "                                         shopping_cart  order_price  \\\n",
       "316  [('Toshika 750', 2), ('iStream', 1), ('Lucent ...        13430   \n",
       "341  [('iAssist Line', 2), ('Lucent 330S', 2), ('iS...         7060   \n",
       "59   [('Olivia x460', 2), ('pearTV', 1), ('iAssist ...        13210   \n",
       "32   [('Candle Inferno', 2), ('Universe Note', 1), ...         4460   \n",
       "355  [('Universe Note', 2), ('iAssist Line', 2), ('...        12575   \n",
       "163  [('pearTV', 1), ('Olivia x460', 2), ('iStream'...         8910   \n",
       "303  [('Universe Note', 1), ('Thunder line', 1), ('...        27850   \n",
       "110  [('Lucent 330S', 2), ('iAssist Line', 2), ('Un...        11585   \n",
       "370                [('pearTV', 1), ('Lucent 330S', 1)]         7540   \n",
       "164  [('iStream', 2), ('Candle Inferno', 2), ('pear...        25370   \n",
       "\n",
       "     delivery_charges  customer_lat  customer_long  coupon_discount  \\\n",
       "316             93.30    144.955002     -37.827984                0   \n",
       "341             81.81    144.983476     -37.827631                0   \n",
       "59              82.64    144.988835     -37.825322               15   \n",
       "32              61.09    144.980524     -37.821566                0   \n",
       "355             96.34    144.957411     -37.820228               10   \n",
       "163             63.19    144.968759     -37.820149               15   \n",
       "303             51.00    144.954940     -37.818801               10   \n",
       "110            102.61    144.938397     -37.816116                0   \n",
       "370             73.28    144.961098     -37.816019               15   \n",
       "164             83.32    144.972188     -37.815933               10   \n",
       "\n",
       "     order_total  season  is_expedited_delivery  \\\n",
       "316     13523.30  Spring                   True   \n",
       "341      7141.81  Autumn                   True   \n",
       "59      11311.14  Winter                   True   \n",
       "32       4521.09  Summer                  False   \n",
       "355     11413.84  Summer                   True   \n",
       "163      7636.69  Autumn                   True   \n",
       "303     25116.00  Winter                  False   \n",
       "110     11687.61  Spring                   True   \n",
       "370      6482.28  Summer                  False   \n",
       "164     22916.32  Spring                   True   \n",
       "\n",
       "     distance_to_nearest_warehouse  \\\n",
       "316                         1.6519   \n",
       "341                         1.5846   \n",
       "59                          1.7963   \n",
       "32                          1.0200   \n",
       "355                         1.0829   \n",
       "163                         0.1865   \n",
       "303                         0.9718   \n",
       "110                         0.8535   \n",
       "370                         0.7968   \n",
       "164                         0.3763   \n",
       "\n",
       "                                latest_customer_review  is_happy_customer  \n",
       "316  totally stinks. takes 10 hrs. to charge. ... t...              False  \n",
       "341  best black friday deal :) i'm not a \"bandwagon...               True  \n",
       "59         five stars great phone got it the next day!               True  \n",
       "32   made a mistake of buying this xperia xa1. the ...              False  \n",
       "355  the camera is awesome for the price! love this...               True  \n",
       "163                   two stars the charger never come              False  \n",
       "303  two stars almost impossible to hook up to any ...              False  \n",
       "110  everything was everything not bad, fast shippi...               True  \n",
       "370  no accessories but still a great deal didn't c...               True  \n",
       "164  one star these phones aren't for verizon ... i...              False  "
      ]
     },
     "execution_count": 5,
     "metadata": {},
     "output_type": "execute_result"
    }
   ],
   "source": [
    "# Sort the dataframe by 'customer_lat' in ascending order\n",
    "df_sorted_by_long = df_dirty.sort_values(by='customer_long', ascending=True)\n",
    "\n",
    "# View the first 10 rows of the sorted dataframe\n",
    "df_sorted_by_long.head(10)"
   ]
  },
  {
   "cell_type": "markdown",
   "id": "47f05691",
   "metadata": {
    "id": "47f05691"
   },
   "source": [
    "- Some of the values in customer_lat and customer_long appear to be outside their valid ranges. The maximum customer_lat is 145.011618, which should be impossible as latitude is confined to [-90, 90].<br><br>\n",
    "\n",
    "- The minimum value of customer_long is -37.827984. This can a valid value for latitude, however, this value is very far away from the mean of 135.095500. This suggest potential anomalies. <br><br>\n",
    "\n",
    "- After further inspection, we see that the values for customer_lat and customer_long have been swapped at certain instances, specifically where customer_long is around -37.  "
   ]
  },
  {
   "cell_type": "code",
   "execution_count": 6,
   "id": "ff8c1198",
   "metadata": {
    "colab": {
     "base_uri": "https://localhost:8080/",
     "height": 175
    },
    "id": "ff8c1198",
    "outputId": "f744d542-4f52-403f-a78b-99180f01e81e"
   },
   "outputs": [
    {
     "data": {
      "text/html": [
       "<div>\n",
       "<style scoped>\n",
       "    .dataframe tbody tr th:only-of-type {\n",
       "        vertical-align: middle;\n",
       "    }\n",
       "\n",
       "    .dataframe tbody tr th {\n",
       "        vertical-align: top;\n",
       "    }\n",
       "\n",
       "    .dataframe thead th {\n",
       "        text-align: right;\n",
       "    }\n",
       "</style>\n",
       "<table border=\"1\" class=\"dataframe\">\n",
       "  <thead>\n",
       "    <tr style=\"text-align: right;\">\n",
       "      <th></th>\n",
       "      <th>order_id</th>\n",
       "      <th>customer_id</th>\n",
       "      <th>date</th>\n",
       "      <th>nearest_warehouse</th>\n",
       "      <th>shopping_cart</th>\n",
       "      <th>season</th>\n",
       "      <th>latest_customer_review</th>\n",
       "    </tr>\n",
       "  </thead>\n",
       "  <tbody>\n",
       "    <tr>\n",
       "      <th>count</th>\n",
       "      <td>500</td>\n",
       "      <td>500</td>\n",
       "      <td>500</td>\n",
       "      <td>500</td>\n",
       "      <td>500</td>\n",
       "      <td>500</td>\n",
       "      <td>500</td>\n",
       "    </tr>\n",
       "    <tr>\n",
       "      <th>unique</th>\n",
       "      <td>500</td>\n",
       "      <td>492</td>\n",
       "      <td>295</td>\n",
       "      <td>6</td>\n",
       "      <td>466</td>\n",
       "      <td>8</td>\n",
       "      <td>500</td>\n",
       "    </tr>\n",
       "    <tr>\n",
       "      <th>top</th>\n",
       "      <td>ORD021989</td>\n",
       "      <td>ID0579508239</td>\n",
       "      <td>2019-01-04</td>\n",
       "      <td>Thompson</td>\n",
       "      <td>[('Alcon 10', 1), ('Olivia x460', 2)]</td>\n",
       "      <td>Spring</td>\n",
       "      <td>did not last long barely a month after getting...</td>\n",
       "    </tr>\n",
       "    <tr>\n",
       "      <th>freq</th>\n",
       "      <td>1</td>\n",
       "      <td>2</td>\n",
       "      <td>5</td>\n",
       "      <td>204</td>\n",
       "      <td>4</td>\n",
       "      <td>132</td>\n",
       "      <td>1</td>\n",
       "    </tr>\n",
       "  </tbody>\n",
       "</table>\n",
       "</div>"
      ],
      "text/plain": [
       "         order_id   customer_id        date nearest_warehouse  \\\n",
       "count         500           500         500               500   \n",
       "unique        500           492         295                 6   \n",
       "top     ORD021989  ID0579508239  2019-01-04          Thompson   \n",
       "freq            1             2           5               204   \n",
       "\n",
       "                                shopping_cart  season  \\\n",
       "count                                     500     500   \n",
       "unique                                    466       8   \n",
       "top     [('Alcon 10', 1), ('Olivia x460', 2)]  Spring   \n",
       "freq                                        4     132   \n",
       "\n",
       "                                   latest_customer_review  \n",
       "count                                                 500  \n",
       "unique                                                500  \n",
       "top     did not last long barely a month after getting...  \n",
       "freq                                                    1  "
      ]
     },
     "execution_count": 6,
     "metadata": {},
     "output_type": "execute_result"
    }
   ],
   "source": [
    "df_dirty.describe(include = 'O')"
   ]
  },
  {
   "cell_type": "markdown",
   "id": "75127c0c",
   "metadata": {
    "id": "75127c0c"
   },
   "source": [
    "An error counter (error_count) is initialized to 0. This counter will be incremented each time an anomaly is detected and fixed.\n",
    "\n",
    "change_order_ids is a list created to track the chnages made in each row by order_id. Duplicate order_ids in the list would suggest more than one value fixed in a row represented by the respetive order_id."
   ]
  },
  {
   "cell_type": "markdown",
   "id": "afae670c",
   "metadata": {
    "id": "afae670c"
   },
   "source": [
    "- The presence of 8 unique values suggests some potential issues here. Typically, we would expect only four seasons: Spring, Summer, Autumn, and Winter.<br><br>\n",
    "\n",
    "- nearest_warehouse says 6 unique values whereas, there should be only 3."
   ]
  },
  {
   "cell_type": "code",
   "execution_count": 7,
   "id": "ce173059",
   "metadata": {
    "colab": {
     "base_uri": "https://localhost:8080/",
     "height": 304
    },
    "id": "ce173059",
    "outputId": "1604f72b-a4ee-46f7-bce4-0a09526cc7ce"
   },
   "outputs": [
    {
     "data": {
      "text/plain": [
       "Thompson     204\n",
       "Nickolson    180\n",
       "Bakers       101\n",
       "bakers         8\n",
       "thompson       4\n",
       "nickolson      3\n",
       "Name: nearest_warehouse, dtype: int64"
      ]
     },
     "execution_count": 7,
     "metadata": {},
     "output_type": "execute_result"
    }
   ],
   "source": [
    "# View all unique values in 'nearest_warehouse'\n",
    "df_dirty['nearest_warehouse'].value_counts()"
   ]
  },
  {
   "cell_type": "code",
   "execution_count": 8,
   "id": "b2fb7bec",
   "metadata": {
    "colab": {
     "base_uri": "https://localhost:8080/",
     "height": 366
    },
    "id": "b2fb7bec",
    "outputId": "bbe190a8-3d53-417f-b355-91c928708ac3"
   },
   "outputs": [
    {
     "data": {
      "text/plain": [
       "Spring    132\n",
       "Summer    122\n",
       "Autumn    114\n",
       "Winter    113\n",
       "summer      6\n",
       "autumn      5\n",
       "spring      5\n",
       "winter      3\n",
       "Name: season, dtype: int64"
      ]
     },
     "execution_count": 8,
     "metadata": {},
     "output_type": "execute_result"
    }
   ],
   "source": [
    "# View all unique values in 'season' column\n",
    "df_dirty['season'].value_counts()"
   ]
  },
  {
   "cell_type": "code",
   "execution_count": 9,
   "id": "91661362",
   "metadata": {
    "id": "91661362"
   },
   "outputs": [],
   "source": [
    "check_date_type = df_dirty.copy()\n",
    "check_date_type['copy_date'] = pd.to_datetime(check_date_type['date'], errors='coerce')"
   ]
  },
  {
   "cell_type": "code",
   "execution_count": 10,
   "id": "f37088b1",
   "metadata": {
    "colab": {
     "base_uri": "https://localhost:8080/",
     "height": 0
    },
    "id": "f37088b1",
    "outputId": "91f32c8a-5e92-4f93-b57d-20500da895c2"
   },
   "outputs": [
    {
     "name": "stdout",
     "output_type": "stream",
     "text": [
      "<class 'pandas.core.frame.DataFrame'>\n",
      "RangeIndex: 500 entries, 0 to 499\n",
      "Data columns (total 17 columns):\n",
      " #   Column                         Non-Null Count  Dtype         \n",
      "---  ------                         --------------  -----         \n",
      " 0   order_id                       500 non-null    object        \n",
      " 1   customer_id                    500 non-null    object        \n",
      " 2   date                           500 non-null    object        \n",
      " 3   nearest_warehouse              500 non-null    object        \n",
      " 4   shopping_cart                  500 non-null    object        \n",
      " 5   order_price                    500 non-null    int64         \n",
      " 6   delivery_charges               500 non-null    float64       \n",
      " 7   customer_lat                   500 non-null    float64       \n",
      " 8   customer_long                  500 non-null    float64       \n",
      " 9   coupon_discount                500 non-null    int64         \n",
      " 10  order_total                    500 non-null    float64       \n",
      " 11  season                         500 non-null    object        \n",
      " 12  is_expedited_delivery          500 non-null    bool          \n",
      " 13  distance_to_nearest_warehouse  500 non-null    float64       \n",
      " 14  latest_customer_review         500 non-null    object        \n",
      " 15  is_happy_customer              500 non-null    bool          \n",
      " 16  copy_date                      478 non-null    datetime64[ns]\n",
      "dtypes: bool(2), datetime64[ns](1), float64(5), int64(2), object(7)\n",
      "memory usage: 59.7+ KB\n"
     ]
    }
   ],
   "source": [
    "check_date_type.info()"
   ]
  },
  {
   "cell_type": "code",
   "execution_count": 11,
   "id": "710056a4",
   "metadata": {
    "colab": {
     "base_uri": "https://localhost:8080/",
     "height": 0
    },
    "id": "710056a4",
    "outputId": "45eb7aaa-5485-401a-f45d-833c28ab8737"
   },
   "outputs": [
    {
     "name": "stdout",
     "output_type": "stream",
     "text": [
      "Invalid dates (could not be converted to datetime):\n",
      "      order_id copy_date        date\n",
      "13   ORD141248       NaT  2019-25-07\n",
      "45   ORD136362       NaT  2019-17-05\n",
      "51   ORD185820       NaT  2019-19-07\n",
      "71   ORD336942       NaT  2019-13-05\n",
      "80   ORD394540       NaT  2019-25-10\n",
      "119  ORD297665       NaT  2019-30-01\n",
      "151  ORD478503       NaT  2019-24-01\n",
      "154  ORD094686       NaT  2019-30-09\n",
      "155  ORD275612       NaT  2019-23-10\n",
      "168  ORD382416       NaT  2019-15-10\n",
      "175  ORD195030       NaT  2019-21-05\n",
      "255  ORD289814       NaT  2019-26-05\n",
      "268  ORD424320       NaT  2019-17-07\n",
      "285  ORD485363       NaT  2019-15-07\n",
      "304  ORD402565       NaT  2019-27-03\n",
      "391  ORD171494       NaT  2019-26-08\n",
      "398  ORD280966       NaT  2019-26-04\n",
      "401  ORD480080       NaT  2019-23-04\n",
      "427  ORD463755       NaT  2019-18-01\n",
      "434  ORD015979       NaT  2019-19-02\n",
      "461  ORD453312       NaT  2019-28-04\n",
      "466  ORD158175       NaT  2019-24-10\n"
     ]
    }
   ],
   "source": [
    "invalid_dates = check_date_type[check_date_type['copy_date'].isna()]\n",
    "print(f\"Invalid dates (could not be converted to datetime):\")\n",
    "print(invalid_dates[['order_id', 'copy_date','date']])"
   ]
  },
  {
   "cell_type": "code",
   "execution_count": 12,
   "id": "ec1dc3f6",
   "metadata": {
    "id": "ec1dc3f6"
   },
   "outputs": [],
   "source": [
    "# List of incorrect dates with their corresponding order IDs\n",
    "incorrect_dates = {\n",
    "    'ORD453312': '2019-28-04', 'ORD275612': '2019-23-10', 'ORD136362': '2019-17-05',\n",
    "    'ORD015979': '2019-19-02', 'ORD382416': '2019-15-10', 'ORD485363': '2019-15-07',\n",
    "    'ORD402565': '2019-27-03', 'ORD297665': '2019-30-01', 'ORD424320': '2019-17-07',\n",
    "    'ORD478503': '2019-24-01', 'ORD480080': '2019-23-04', 'ORD094686': '2019-30-09',\n",
    "    'ORD394540': '2019-25-10', 'ORD463755': '2019-18-01', 'ORD289814': '2019-26-05',\n",
    "    'ORD185820': '2019-19-07', 'ORD158175': '2019-24-10', 'ORD195030': '2019-21-05',\n",
    "    'ORD141248': '2019-25-07', 'ORD336942': '2019-13-05', 'ORD171494': '2019-26-08',\n",
    "    'ORD280966': '2019-26-04'\n",
    "}"
   ]
  },
  {
   "cell_type": "markdown",
   "id": "ef8e2767",
   "metadata": {
    "id": "ef8e2767"
   },
   "source": [
    "## 2.1 Error Tracking"
   ]
  },
  {
   "cell_type": "markdown",
   "id": "dcac4f29",
   "metadata": {
    "id": "dcac4f29"
   },
   "source": [
    "We initialized the error counter to track the number of errors found and corrected throughout the data processing. This was done by setting error_count to zero. Additionally, we created a list, changed_order_ids, to record the order IDs of rows where any changes were made. This allowed us to track which specific records had been updated during the process. As we iterated through the dataset, each time an error was identified and corrected, the respective order ID was added to the list, helping us monitor all modifications and ensuring the accuracy of our corrections. This approach provided a structured way to monitor the improvements made."
   ]
  },
  {
   "cell_type": "code",
   "execution_count": 13,
   "id": "d3bd6cd3",
   "metadata": {
    "id": "d3bd6cd3"
   },
   "outputs": [],
   "source": [
    "# Initialize error counter\n",
    "error_count = 0\n",
    "\n",
    "# Initialize a list to track order_ids with changes\n",
    "changed_order_ids = []"
   ]
  },
  {
   "cell_type": "markdown",
   "id": "c99b8b04",
   "metadata": {
    "id": "c99b8b04"
   },
   "source": [
    "## 2.2 Errors in `date` column"
   ]
  },
  {
   "cell_type": "markdown",
   "id": "myqMElV-Cg6T",
   "metadata": {
    "id": "myqMElV-Cg6T"
   },
   "source": [
    "The primary objective of this code is to clean the date column in the dataset by identifying and correcting invalid date formats. The approach involves copying the original date column to preserve it for reference and then using the pd.to_datetime() function to convert the dates to the correct format. Invalid entries that fail this conversion are identified as NaT.\n",
    "\n",
    "Next, a custom function is applied to fix these incorrect date formats, which were originally entered as YYYY-DD-MM. This function rearranges the components into the correct YYYY-MM-DD format. Once corrected, the date column is updated, and the temporary column (copy_date) is removed. Finally, the process checks for the uniqueness of order_ids to ensure no duplicates, confirming that the corrections were successful."
   ]
  },
  {
   "cell_type": "code",
   "execution_count": 14,
   "id": "a2ae53ba",
   "metadata": {
    "id": "a2ae53ba"
   },
   "outputs": [],
   "source": [
    "# Preserve original date column\n",
    "df_dirty['copy_date'] = df_dirty['date']\n",
    "\n",
    "# Step 1: Parse the dates assuming the correct format is day-first (DD/MM/YYYY)\n",
    "df_dirty['copy_date'] = pd.to_datetime(df_dirty['copy_date'], dayfirst=True, errors='coerce')"
   ]
  },
  {
   "cell_type": "code",
   "execution_count": 15,
   "id": "9b7481dd",
   "metadata": {
    "id": "9b7481dd"
   },
   "outputs": [],
   "source": [
    "# Replace the original 'date' column with 'copy_date' values\n",
    "df_dirty['date'] = df_dirty['copy_date']\n",
    "\n",
    "# Optionally, if you want to drop the 'copy_date' column after replacing\n",
    "df_dirty.drop(columns=['copy_date'], inplace=True)"
   ]
  },
  {
   "cell_type": "code",
   "execution_count": 16,
   "id": "7ef9bb5c",
   "metadata": {
    "id": "7ef9bb5c"
   },
   "outputs": [],
   "source": [
    "# Updating the changed_order_ids list with incorrect order IDs\n",
    "changed_order_ids.extend(incorrect_dates.keys())\n",
    "changed_order_ids = list(set(changed_order_ids))\n",
    "error_count = len(changed_order_ids)"
   ]
  },
  {
   "cell_type": "code",
   "execution_count": 17,
   "id": "1782c5f3",
   "metadata": {
    "colab": {
     "base_uri": "https://localhost:8080/",
     "height": 0
    },
    "id": "1782c5f3",
    "outputId": "c7568fcc-035b-4ea4-d3e2-df905e86cb25"
   },
   "outputs": [
    {
     "name": "stdout",
     "output_type": "stream",
     "text": [
      "Total errors fixed: 22\n",
      "\n",
      "Changed order IDs: ['ORD185820', 'ORD485363', 'ORD394540', 'ORD195030', 'ORD094686', 'ORD463755', 'ORD141248', 'ORD480080', 'ORD382416', 'ORD453312', 'ORD158175', 'ORD136362', 'ORD297665', 'ORD402565', 'ORD478503', 'ORD280966', 'ORD336942', 'ORD015979', 'ORD289814', 'ORD171494', 'ORD424320', 'ORD275612']\n",
      "\n",
      "Are all order IDs in changed_order_ids unique? True\n"
     ]
    }
   ],
   "source": [
    "# Check if all order_ids in changed_order_ids are unique\n",
    "are_ids_unique = len(changed_order_ids) == len(set(changed_order_ids))\n",
    "\n",
    "# Step 3: Print the results\n",
    "print(f\"Total errors fixed: {error_count}\")\n",
    "print()\n",
    "print(f\"Changed order IDs: {changed_order_ids}\")\n",
    "print()\n",
    "print(f\"Are all order IDs in changed_order_ids unique? {are_ids_unique}\")"
   ]
  },
  {
   "cell_type": "code",
   "execution_count": 18,
   "id": "99064e4c",
   "metadata": {
    "colab": {
     "base_uri": "https://localhost:8080/",
     "height": 0
    },
    "id": "99064e4c",
    "outputId": "c1f5a43b-d2d2-40a4-c236-b6d89e284480"
   },
   "outputs": [
    {
     "name": "stdout",
     "output_type": "stream",
     "text": [
      "<class 'pandas.core.frame.DataFrame'>\n",
      "RangeIndex: 500 entries, 0 to 499\n",
      "Data columns (total 16 columns):\n",
      " #   Column                         Non-Null Count  Dtype         \n",
      "---  ------                         --------------  -----         \n",
      " 0   order_id                       500 non-null    object        \n",
      " 1   customer_id                    500 non-null    object        \n",
      " 2   date                           500 non-null    datetime64[ns]\n",
      " 3   nearest_warehouse              500 non-null    object        \n",
      " 4   shopping_cart                  500 non-null    object        \n",
      " 5   order_price                    500 non-null    int64         \n",
      " 6   delivery_charges               500 non-null    float64       \n",
      " 7   customer_lat                   500 non-null    float64       \n",
      " 8   customer_long                  500 non-null    float64       \n",
      " 9   coupon_discount                500 non-null    int64         \n",
      " 10  order_total                    500 non-null    float64       \n",
      " 11  season                         500 non-null    object        \n",
      " 12  is_expedited_delivery          500 non-null    bool          \n",
      " 13  distance_to_nearest_warehouse  500 non-null    float64       \n",
      " 14  latest_customer_review         500 non-null    object        \n",
      " 15  is_happy_customer              500 non-null    bool          \n",
      "dtypes: bool(2), datetime64[ns](1), float64(5), int64(2), object(6)\n",
      "memory usage: 55.8+ KB\n"
     ]
    }
   ],
   "source": [
    "df_dirty.info()"
   ]
  },
  {
   "cell_type": "markdown",
   "id": "8f1a8cf6",
   "metadata": {},
   "source": [
    "The process identified and corrected invalid date formats in the dataset, ensuring all date values now adhere to the correct YYYY-MM-DD format. This ensures that the dataset's temporal data is consistent, which is essential for analysis involving timelines, trends, or other date-related computations."
   ]
  },
  {
   "cell_type": "markdown",
   "id": "475c97d3",
   "metadata": {
    "id": "475c97d3"
   },
   "source": [
    "## 2.3 Errros in `season` column"
   ]
  },
  {
   "cell_type": "markdown",
   "id": "d1107c38",
   "metadata": {
    "id": "d1107c38"
   },
   "source": [
    "In Australia, the seasons are grouped by calendar months in the following way:\n",
    "\n",
    "* Spring - September, October and November.\n",
    "* Summer - December, January and February.\n",
    "* Autumn - March, April and May.\n",
    "* Winter - June, July and August.\n",
    "\n",
    "(Ref: Bureau of Meteorology: Australia)"
   ]
  },
  {
   "cell_type": "markdown",
   "id": "_S_fNSxNCs08",
   "metadata": {
    "id": "_S_fNSxNCs08"
   },
   "source": [
    "The primary goal of this code is to ensure that the season field in the dataset is accurate based on the order dates. Since Australian seasons are grouped by specific calendar months, a function was created to map each date to its correct season. The function get_season_from_date was applied to generate a new column, correct_season, which holds the expected season based on the month of the order date.\n",
    "\n",
    "A comparison between the season column and correct_season was conducted to identify mismatches. For rows with discrepancies, the season field was updated to the correct value derived from the date. The code tracked all errors corrected and logged the associated order_id for validation. Once the errors were fixed, temporary columns used for comparison were removed to keep the dataset clean."
   ]
  },
  {
   "cell_type": "code",
   "execution_count": 19,
   "id": "41a1e78a",
   "metadata": {
    "id": "41a1e78a"
   },
   "outputs": [],
   "source": [
    "df_dirty['date'] = pd.to_datetime(df_dirty['date'], format='%d/%m/%Y', errors='coerce')\n",
    "\n",
    "# Function to map months to seasons in Australia\n",
    "def get_season_from_date(date):\n",
    "    if pd.isna(date):  # If the date is NaT, return NaN for the season\n",
    "        return None\n",
    "    month = date.month\n",
    "    if month in [9, 10, 11]:\n",
    "        return 'Spring'\n",
    "    elif month in [12, 1, 2]:\n",
    "        return 'Summer'\n",
    "    elif month in [3, 4, 5]:\n",
    "        return 'Autumn'\n",
    "    elif month in [6, 7, 8]:\n",
    "        return 'Winter'\n",
    "\n",
    "# Applying the function to create a new column 'correct_season'\n",
    "df_dirty['correct_season'] = df_dirty['date'].apply(get_season_from_date)\n",
    "\n",
    "# Compare 'correct_season' with the existing 'season' column to identify mismatches\n",
    "df_dirty['season_mismatch'] = df_dirty['season'] != df_dirty['correct_season']\n",
    "\n",
    "# Fix the rows with mismatches and track errors\n",
    "for idx, row in df_dirty[df_dirty['season_mismatch'] == True].iterrows():\n",
    "    df_dirty.at[idx, 'season'] = row['correct_season']  # Fix the season\n",
    "    error_count += 1  # Increment the error count\n",
    "    changed_order_ids.append(row['order_id'])  # Track the changed order ID"
   ]
  },
  {
   "cell_type": "code",
   "execution_count": 20,
   "id": "b144c63b",
   "metadata": {
    "colab": {
     "base_uri": "https://localhost:8080/",
     "height": 0
    },
    "id": "b144c63b",
    "outputId": "0166ee27-3ca4-479e-e0d5-4fee05ae97fa"
   },
   "outputs": [
    {
     "name": "stdout",
     "output_type": "stream",
     "text": [
      "Total errors fixed: 49\n",
      "\n",
      "Changed order IDs: ['ORD185820', 'ORD485363', 'ORD394540', 'ORD195030', 'ORD094686', 'ORD463755', 'ORD141248', 'ORD480080', 'ORD382416', 'ORD453312', 'ORD158175', 'ORD136362', 'ORD297665', 'ORD402565', 'ORD478503', 'ORD280966', 'ORD336942', 'ORD015979', 'ORD289814', 'ORD171494', 'ORD424320', 'ORD275612', 'ORD203552', 'ORD155932', 'ORD381492', 'ORD336209', 'ORD039305', 'ORD461512', 'ORD463529', 'ORD010125', 'ORD167565', 'ORD330628', 'ORD319742', 'ORD284876', 'ORD042242', 'ORD232016', 'ORD083672', 'ORD305556', 'ORD312349', 'ORD235025', 'ORD365301', 'ORD351733', 'ORD374931', 'ORD367888', 'ORD471394', 'ORD190308', 'ORD197459', 'ORD253048', 'ORD355012']\n",
      "\n",
      "Are all order IDs in changed_order_ids unique? True\n"
     ]
    }
   ],
   "source": [
    "# Check if all order IDs in changed_order_ids are unique\n",
    "are_ids_unique = len(changed_order_ids) == len(set(changed_order_ids))\n",
    "\n",
    "# Step 7: Print the results\n",
    "print(f\"Total errors fixed: {error_count}\")\n",
    "print()\n",
    "print(f\"Changed order IDs: {changed_order_ids}\")\n",
    "print()\n",
    "print(f\"Are all order IDs in changed_order_ids unique? {are_ids_unique}\")"
   ]
  },
  {
   "cell_type": "code",
   "execution_count": 21,
   "id": "3d9b7b53",
   "metadata": {
    "id": "3d9b7b53"
   },
   "outputs": [],
   "source": [
    "# Drop the temporary columns if no longer needed\n",
    "df_dirty.drop(columns=['correct_season', 'season_mismatch'], inplace=True)"
   ]
  },
  {
   "cell_type": "code",
   "execution_count": 22,
   "id": "1097daa0",
   "metadata": {
    "colab": {
     "base_uri": "https://localhost:8080/",
     "height": 0
    },
    "id": "1097daa0",
    "outputId": "69ebfa64-7ab3-4633-c29a-08b0cb62f7de"
   },
   "outputs": [
    {
     "name": "stdout",
     "output_type": "stream",
     "text": [
      "Unique values in 'season' column:\n",
      "['Spring' 'Summer' 'Winter' 'Autumn']\n"
     ]
    }
   ],
   "source": [
    "# View all unique values in 'season' column\n",
    "unique_seasons = df_dirty['season'].unique()\n",
    "\n",
    "print(\"Unique values in 'season' column:\")\n",
    "print(unique_seasons)"
   ]
  },
  {
   "cell_type": "markdown",
   "id": "rZpK_XWvCyd4",
   "metadata": {
    "id": "rZpK_XWvCyd4"
   },
   "source": [
    "The process successfully updated the season field for all records where discrepancies between the date and the season were found. This correction ensures that the season field is consistent with the order dates, providing accurate seasonal data for future analysis or reporting."
   ]
  },
  {
   "cell_type": "markdown",
   "id": "f4171807",
   "metadata": {
    "id": "f4171807"
   },
   "source": [
    "## 2.4 Errors in `customer_lat` and `customer_long` columns"
   ]
  },
  {
   "cell_type": "markdown",
   "id": "HMc8PYkrC3Xq",
   "metadata": {
    "id": "HMc8PYkrC3Xq"
   },
   "source": [
    "The objective of this code is to fix incorrect latitude and longitude values in the dataset, which may have been swapped. The latitude values must lie between -90 and 90, so any latitude that falls outside this range is considered incorrect and likely swapped with the longitude value. The approach involves checking each row in the dataset for invalid latitude values and, when found, swapping the latitude and longitude values to correct the error. After the correction, the affected order_id is logged, and the total number of errors fixed is tracked. Finally, the code validates that all order_ids in the changed list are unique."
   ]
  },
  {
   "cell_type": "code",
   "execution_count": 23,
   "id": "11d74fe7",
   "metadata": {
    "id": "11d74fe7"
   },
   "outputs": [],
   "source": [
    "# Function to detect and fix latitude that is out of range\n",
    "def fix_invalid_lat_long(row):\n",
    "    global error_count\n",
    "\n",
    "    # Check if latitude is outside the valid range [-90, 90]\n",
    "    if row['customer_lat'] > 90 or row['customer_lat'] < -90:\n",
    "        # Swap latitude and longitude if they are in the wrong positions\n",
    "        row['customer_lat'], row['customer_long'] = row['customer_long'], row['customer_lat']\n",
    "        error_count += 1  # Count this as one error fixed\n",
    "\n",
    "        # Track order_id where the fix was applied\n",
    "        changed_order_ids.append(row['order_id'])\n",
    "\n",
    "    return row\n",
    "\n",
    "# Apply the function to each row in the dataframe\n",
    "df_dirty = df_dirty.apply(fix_invalid_lat_long, axis=1)"
   ]
  },
  {
   "cell_type": "code",
   "execution_count": 24,
   "id": "0144f7c6",
   "metadata": {
    "colab": {
     "base_uri": "https://localhost:8080/",
     "height": 0
    },
    "id": "0144f7c6",
    "outputId": "739b54e3-d4f6-4593-a64a-f910d4a9c013"
   },
   "outputs": [
    {
     "name": "stdout",
     "output_type": "stream",
     "text": [
      "Total number of errors fixed: 76\n",
      "\n",
      "Changed Order IDs: ['ORD185820', 'ORD485363', 'ORD394540', 'ORD195030', 'ORD094686', 'ORD463755', 'ORD141248', 'ORD480080', 'ORD382416', 'ORD453312', 'ORD158175', 'ORD136362', 'ORD297665', 'ORD402565', 'ORD478503', 'ORD280966', 'ORD336942', 'ORD015979', 'ORD289814', 'ORD171494', 'ORD424320', 'ORD275612', 'ORD203552', 'ORD155932', 'ORD381492', 'ORD336209', 'ORD039305', 'ORD461512', 'ORD463529', 'ORD010125', 'ORD167565', 'ORD330628', 'ORD319742', 'ORD284876', 'ORD042242', 'ORD232016', 'ORD083672', 'ORD305556', 'ORD312349', 'ORD235025', 'ORD365301', 'ORD351733', 'ORD374931', 'ORD367888', 'ORD471394', 'ORD190308', 'ORD197459', 'ORD253048', 'ORD355012', 'ORD049067', 'ORD438840', 'ORD408195', 'ORD361998', 'ORD085987', 'ORD187103', 'ORD198424', 'ORD444220', 'ORD212759', 'ORD260893', 'ORD431002', 'ORD239935', 'ORD326859', 'ORD059700', 'ORD127956', 'ORD477513', 'ORD393585', 'ORD089498', 'ORD270067', 'ORD245708', 'ORD236867', 'ORD287518', 'ORD352337', 'ORD361016', 'ORD050178', 'ORD001519', 'ORD349686']\n",
      "\n",
      "Are all order IDs in changed_order_ids unique? True\n"
     ]
    }
   ],
   "source": [
    "# Check if all values in changed_order_ids are unique\n",
    "are_ids_unique = len(changed_order_ids) == len(set(changed_order_ids))\n",
    "\n",
    "# Print the result\n",
    "print(f\"Total number of errors fixed: {error_count}\")\n",
    "print()\n",
    "print(f\"Changed Order IDs: {changed_order_ids}\")\n",
    "print()\n",
    "print(f\"Are all order IDs in changed_order_ids unique? {are_ids_unique}\")"
   ]
  },
  {
   "cell_type": "code",
   "execution_count": 25,
   "id": "93ea06e3",
   "metadata": {
    "colab": {
     "base_uri": "https://localhost:8080/",
     "height": 300
    },
    "id": "93ea06e3",
    "outputId": "aadb366a-8655-4434-addd-0d4d918cac58"
   },
   "outputs": [
    {
     "data": {
      "text/html": [
       "<div>\n",
       "<style scoped>\n",
       "    .dataframe tbody tr th:only-of-type {\n",
       "        vertical-align: middle;\n",
       "    }\n",
       "\n",
       "    .dataframe tbody tr th {\n",
       "        vertical-align: top;\n",
       "    }\n",
       "\n",
       "    .dataframe thead th {\n",
       "        text-align: right;\n",
       "    }\n",
       "</style>\n",
       "<table border=\"1\" class=\"dataframe\">\n",
       "  <thead>\n",
       "    <tr style=\"text-align: right;\">\n",
       "      <th></th>\n",
       "      <th>customer_lat</th>\n",
       "      <th>customer_long</th>\n",
       "    </tr>\n",
       "  </thead>\n",
       "  <tbody>\n",
       "    <tr>\n",
       "      <th>count</th>\n",
       "      <td>500.000000</td>\n",
       "      <td>500.000000</td>\n",
       "    </tr>\n",
       "    <tr>\n",
       "      <th>mean</th>\n",
       "      <td>-37.812888</td>\n",
       "      <td>144.965662</td>\n",
       "    </tr>\n",
       "    <tr>\n",
       "      <th>std</th>\n",
       "      <td>0.007912</td>\n",
       "      <td>0.020856</td>\n",
       "    </tr>\n",
       "    <tr>\n",
       "      <th>min</th>\n",
       "      <td>-37.831769</td>\n",
       "      <td>144.919491</td>\n",
       "    </tr>\n",
       "    <tr>\n",
       "      <th>25%</th>\n",
       "      <td>-37.818903</td>\n",
       "      <td>144.950170</td>\n",
       "    </tr>\n",
       "    <tr>\n",
       "      <th>50%</th>\n",
       "      <td>-37.813522</td>\n",
       "      <td>144.964051</td>\n",
       "    </tr>\n",
       "    <tr>\n",
       "      <th>75%</th>\n",
       "      <td>-37.806291</td>\n",
       "      <td>144.980622</td>\n",
       "    </tr>\n",
       "    <tr>\n",
       "      <th>max</th>\n",
       "      <td>-37.788784</td>\n",
       "      <td>145.016573</td>\n",
       "    </tr>\n",
       "  </tbody>\n",
       "</table>\n",
       "</div>"
      ],
      "text/plain": [
       "       customer_lat  customer_long\n",
       "count    500.000000     500.000000\n",
       "mean     -37.812888     144.965662\n",
       "std        0.007912       0.020856\n",
       "min      -37.831769     144.919491\n",
       "25%      -37.818903     144.950170\n",
       "50%      -37.813522     144.964051\n",
       "75%      -37.806291     144.980622\n",
       "max      -37.788784     145.016573"
      ]
     },
     "execution_count": 25,
     "metadata": {},
     "output_type": "execute_result"
    }
   ],
   "source": [
    "df_dirty[['customer_lat', 'customer_long']].describe()"
   ]
  },
  {
   "cell_type": "markdown",
   "id": "Zn2DSSLnC_Js",
   "metadata": {
    "id": "Zn2DSSLnC_Js"
   },
   "source": [
    " The latitude and longitude values in the dataset were corrected where they were swapped or incorrect.These rows had latitude values that were outside the acceptable range of [-90, 90], and the values were corrected by swapping the latitude with the longitude. All the order_ids of the corrected rows were unique, confirming that no duplicate corrections were made. As a result, the dataset now contains valid latitude and longitude values, ensuring geographic accuracy."
   ]
  },
  {
   "cell_type": "markdown",
   "id": "963d55aa",
   "metadata": {
    "id": "963d55aa"
   },
   "source": [
    "## 2.5 Errors in `nearest warehouse` column"
   ]
  },
  {
   "cell_type": "markdown",
   "id": "OCzdlOwHDFdR",
   "metadata": {
    "id": "OCzdlOwHDFdR"
   },
   "source": [
    "The purpose of this code is to correct any errors in the nearest_warehouse field by calculating the actual nearest warehouse based on the customer’s latitude and longitude. Using the Haversine formula, the distance between the customer’s location and each of the three warehouses is calculated. For each row, the nearest warehouse is identified, and if it differs from the current value in the nearest_warehouse column, the field is updated. The process also tracks the number of corrections made and logs the order_id of each corrected entry. Finally, a check is performed to ensure the order_ids of the corrected rows are unique."
   ]
  },
  {
   "cell_type": "code",
   "execution_count": 26,
   "id": "105fd252",
   "metadata": {
    "colab": {
     "base_uri": "https://localhost:8080/",
     "height": 304
    },
    "id": "105fd252",
    "outputId": "5d3b4a2a-3525-4e66-8ca0-b1df6270ae6a"
   },
   "outputs": [
    {
     "data": {
      "text/plain": [
       "Thompson     204\n",
       "Nickolson    180\n",
       "Bakers       101\n",
       "bakers         8\n",
       "thompson       4\n",
       "nickolson      3\n",
       "Name: nearest_warehouse, dtype: int64"
      ]
     },
     "execution_count": 26,
     "metadata": {},
     "output_type": "execute_result"
    }
   ],
   "source": [
    "df_dirty['nearest_warehouse'].value_counts()"
   ]
  },
  {
   "cell_type": "code",
   "execution_count": 27,
   "id": "0f72f9f0",
   "metadata": {
    "id": "0f72f9f0"
   },
   "outputs": [],
   "source": [
    "# Latitude and Longitude of warehouses\n",
    "warehouse_locations = {\n",
    "    'Nickolson': (-37.818595, 144.969551),\n",
    "    'Thompson': (-37.8126732, 144.9470689),\n",
    "    'Bakers': (-37.8099961, 144.995232)\n",
    "}"
   ]
  },
  {
   "cell_type": "code",
   "execution_count": 28,
   "id": "f220c433",
   "metadata": {
    "id": "f220c433"
   },
   "outputs": [],
   "source": [
    "# Haversine function\n",
    "def haversine(lon1, lat1, lon2, lat2):\n",
    "    \"\"\"\n",
    "    Calculate the great circle distance in kilometers between two points\n",
    "    on the earth (specified in decimal degrees)\n",
    "    \"\"\"\n",
    "    # convert decimal degrees to radians\n",
    "    lon1, lat1, lon2, lat2 = map(radians, [lon1, lat1, lon2, lat2])\n",
    "\n",
    "    # haversine formula\n",
    "    dlon = lon2 - lon1\n",
    "    dlat = lat2 - lat1\n",
    "    a = sin(dlat/2)**2 + cos(lat1) * cos(lat2) * sin(dlon/2)**2\n",
    "    c = 2 * asin(sqrt(a))\n",
    "    r = 6378 # Radius of earth in kilometers.\n",
    "    return c * r"
   ]
  },
  {
   "cell_type": "code",
   "execution_count": 29,
   "id": "9b8fc236",
   "metadata": {
    "id": "9b8fc236"
   },
   "outputs": [],
   "source": [
    "# Function to find the nearest warehouse for each customer\n",
    "def find_nearest_warehouse_and_fix(row):\n",
    "    global error_count\n",
    "    customer_lat = row['customer_lat']\n",
    "    customer_long = row['customer_long']\n",
    "\n",
    "    # Calculate distances to all warehouses\n",
    "    distances = {warehouse: haversine(customer_long, customer_lat, lon, lat)\n",
    "                 for warehouse, (lat, lon) in warehouse_locations.items()}\n",
    "\n",
    "    # Find the nearest warehouse\n",
    "    nearest_warehouse = min(distances, key=distances.get)\n",
    "\n",
    "    # If the nearest warehouse differs from the current value, fix it\n",
    "    if row['nearest_warehouse'] != nearest_warehouse:\n",
    "        row['nearest_warehouse'] = nearest_warehouse\n",
    "        error_count += 1  # Increment error count\n",
    "        changed_order_ids.append(row['order_id'])  # Track the order_id\n",
    "\n",
    "    return row\n",
    "\n",
    "# Apply the function to find and fix incorrect nearest_warehouse\n",
    "df_dirty = df_dirty.apply(find_nearest_warehouse_and_fix, axis=1)"
   ]
  },
  {
   "cell_type": "code",
   "execution_count": 30,
   "id": "a48f0aa0",
   "metadata": {
    "colab": {
     "base_uri": "https://localhost:8080/",
     "height": 0
    },
    "id": "a48f0aa0",
    "outputId": "66180e61-0586-4ebc-ac8d-cb46fe057a54"
   },
   "outputs": [
    {
     "name": "stdout",
     "output_type": "stream",
     "text": [
      "Total errors fixed: 103\n",
      "\n",
      "Changed order IDs: ['ORD185820', 'ORD485363', 'ORD394540', 'ORD195030', 'ORD094686', 'ORD463755', 'ORD141248', 'ORD480080', 'ORD382416', 'ORD453312', 'ORD158175', 'ORD136362', 'ORD297665', 'ORD402565', 'ORD478503', 'ORD280966', 'ORD336942', 'ORD015979', 'ORD289814', 'ORD171494', 'ORD424320', 'ORD275612', 'ORD203552', 'ORD155932', 'ORD381492', 'ORD336209', 'ORD039305', 'ORD461512', 'ORD463529', 'ORD010125', 'ORD167565', 'ORD330628', 'ORD319742', 'ORD284876', 'ORD042242', 'ORD232016', 'ORD083672', 'ORD305556', 'ORD312349', 'ORD235025', 'ORD365301', 'ORD351733', 'ORD374931', 'ORD367888', 'ORD471394', 'ORD190308', 'ORD197459', 'ORD253048', 'ORD355012', 'ORD049067', 'ORD438840', 'ORD408195', 'ORD361998', 'ORD085987', 'ORD187103', 'ORD198424', 'ORD444220', 'ORD212759', 'ORD260893', 'ORD431002', 'ORD239935', 'ORD326859', 'ORD059700', 'ORD127956', 'ORD477513', 'ORD393585', 'ORD089498', 'ORD270067', 'ORD245708', 'ORD236867', 'ORD287518', 'ORD352337', 'ORD361016', 'ORD050178', 'ORD001519', 'ORD349686', 'ORD424967', 'ORD431437', 'ORD402646', 'ORD333065', 'ORD474737', 'ORD336584', 'ORD147409', 'ORD083738', 'ORD047239', 'ORD218992', 'ORD331508', 'ORD278436', 'ORD461030', 'ORD343844', 'ORD348070', 'ORD102812', 'ORD408144', 'ORD372145', 'ORD164690', 'ORD236908', 'ORD365914', 'ORD400846', 'ORD307345', 'ORD276798', 'ORD185295', 'ORD392655', 'ORD076524']\n",
      "\n",
      "Are all order IDs unique?: True\n"
     ]
    }
   ],
   "source": [
    "# Check if all values in changed_order_ids are unique\n",
    "are_ids_unique = len(changed_order_ids) == len(set(changed_order_ids))\n",
    "\n",
    "# Print the results\n",
    "print(f\"Total errors fixed: {error_count}\")\n",
    "print()\n",
    "print(f\"Changed order IDs: {changed_order_ids}\")\n",
    "print()\n",
    "print(f\"Are all order IDs unique?: {are_ids_unique}\")"
   ]
  },
  {
   "cell_type": "code",
   "execution_count": 31,
   "id": "0ec320f1",
   "metadata": {
    "colab": {
     "base_uri": "https://localhost:8080/",
     "height": 210
    },
    "id": "0ec320f1",
    "outputId": "02c5c103-4b1a-463a-a551-6bcfe5d41b4a"
   },
   "outputs": [
    {
     "data": {
      "text/plain": [
       "Thompson     211\n",
       "Nickolson    182\n",
       "Bakers       107\n",
       "Name: nearest_warehouse, dtype: int64"
      ]
     },
     "execution_count": 31,
     "metadata": {},
     "output_type": "execute_result"
    }
   ],
   "source": [
    "df_dirty['nearest_warehouse'].value_counts()"
   ]
  },
  {
   "cell_type": "markdown",
   "id": "AgeWd0JADXN3",
   "metadata": {
    "id": "AgeWd0JADXN3"
   },
   "source": [
    "The code recalculated and corrected the nearest_warehouse values for customers based on their latitude and longitude.The Haversine formula was used to calculate the distances, ensuring accurate results. All corrected order_ids were unique, verifying that no duplicate corrections were made. The dataset now contains accurate warehouse assignments, improving the reliability of location-based analysis and logistics planning."
   ]
  },
  {
   "cell_type": "markdown",
   "id": "7db2fecb",
   "metadata": {
    "id": "7db2fecb"
   },
   "source": [
    "## 2.6 Errors in `distance_to_nearest_warehouse` column"
   ]
  },
  {
   "cell_type": "markdown",
   "id": "LEdjtbyvDYtM",
   "metadata": {
    "id": "LEdjtbyvDYtM"
   },
   "source": [
    "The goal of this code is to verify and correct the distance_to_nearest_warehouse field by recalculating the distance between each customer’s location and their nearest warehouse using the Haversine formula. The recalculated distance is compared to the value in the dataset, and if there is a discrepancy, the incorrect distance is replaced with the correct one. The code tracks the number of corrections and logs the order_id of each row that was fixed. Finally, a check is performed to ensure that all corrected order_ids are unique"
   ]
  },
  {
   "cell_type": "code",
   "execution_count": 32,
   "id": "089f1b29",
   "metadata": {
    "colab": {
     "base_uri": "https://localhost:8080/",
     "height": 335
    },
    "id": "089f1b29",
    "outputId": "601a9431-d596-4694-d50d-9c5cf8f4ddb3"
   },
   "outputs": [
    {
     "data": {
      "text/plain": [
       "count    500.000000\n",
       "mean       1.103460\n",
       "std        0.513740\n",
       "min        0.026500\n",
       "25%        0.730300\n",
       "50%        1.058100\n",
       "75%        1.436575\n",
       "max        2.781600\n",
       "Name: distance_to_nearest_warehouse, dtype: float64"
      ]
     },
     "execution_count": 32,
     "metadata": {},
     "output_type": "execute_result"
    }
   ],
   "source": [
    "df_dirty['distance_to_nearest_warehouse'].describe()"
   ]
  },
  {
   "cell_type": "code",
   "execution_count": 33,
   "id": "c28bb399",
   "metadata": {
    "id": "c28bb399"
   },
   "outputs": [],
   "source": [
    "# Function to check and correct distance_to_nearest_warehouse (optimized for row-wise processing)\n",
    "def fix_distance_to_nearest_warehouse(row):\n",
    "    global error_count\n",
    "\n",
    "    # Get the nearest warehouse lat and long from the pre-defined warehouse_locations dictionary\n",
    "    nearest_warehouse = row['nearest_warehouse']\n",
    "    if nearest_warehouse not in warehouse_locations:\n",
    "        return row  # If the nearest warehouse is not found, return the row as is\n",
    "\n",
    "    # Extract the latitude and longitude for both the customer and the warehouse\n",
    "    customer_lat, customer_long = row['customer_lat'], row['customer_long']\n",
    "    warehouse_lat, warehouse_long = warehouse_locations[nearest_warehouse]\n",
    "\n",
    "    # Calculate the correct distance using the haversine formula (optimized to avoid repeating calculations)\n",
    "    correct_distance = haversine(customer_long, customer_lat, warehouse_long, warehouse_lat)\n",
    "\n",
    "    # Only perform rounding once for both correct and current distance to avoid redundant operations\n",
    "    rounded_distance = round(row['distance_to_nearest_warehouse'], 2)\n",
    "    rounded_correct_distance = round(correct_distance, 2)\n",
    "\n",
    "    # Compare the rounded distances and update only if they differ\n",
    "    if rounded_distance != rounded_correct_distance:\n",
    "        # Update the row with the correct distance\n",
    "        row['distance_to_nearest_warehouse'] =  round(correct_distance, 4)\n",
    "        error_count += 1  # Count this as one error fixed\n",
    "\n",
    "        # Track the order_id where the fix was applied\n",
    "        changed_order_ids.append(row['order_id'])\n",
    "\n",
    "    return row  # Ensure the modified row is returned\n",
    "\n",
    "# Apply the function to each row in the dataframe\n",
    "df_dirty_ = df_dirty.apply(fix_distance_to_nearest_warehouse, axis=1)\n",
    "\n",
    "# Ensure that changes are persisted back to the dataframe\n",
    "df_dirty.update(df_dirty_)"
   ]
  },
  {
   "cell_type": "code",
   "execution_count": 34,
   "id": "c45dbe95",
   "metadata": {
    "colab": {
     "base_uri": "https://localhost:8080/",
     "height": 0
    },
    "id": "c45dbe95",
    "outputId": "478ab54e-cf80-4057-b409-3ae7ef521968"
   },
   "outputs": [
    {
     "name": "stdout",
     "output_type": "stream",
     "text": [
      "Total number of distance_to_nearest_warehouse errors fixed: 130\n",
      "\n",
      "Order IDs where distance_to_nearest_warehouse was fixed: ['ORD185820', 'ORD485363', 'ORD394540', 'ORD195030', 'ORD094686', 'ORD463755', 'ORD141248', 'ORD480080', 'ORD382416', 'ORD453312', 'ORD158175', 'ORD136362', 'ORD297665', 'ORD402565', 'ORD478503', 'ORD280966', 'ORD336942', 'ORD015979', 'ORD289814', 'ORD171494', 'ORD424320', 'ORD275612', 'ORD203552', 'ORD155932', 'ORD381492', 'ORD336209', 'ORD039305', 'ORD461512', 'ORD463529', 'ORD010125', 'ORD167565', 'ORD330628', 'ORD319742', 'ORD284876', 'ORD042242', 'ORD232016', 'ORD083672', 'ORD305556', 'ORD312349', 'ORD235025', 'ORD365301', 'ORD351733', 'ORD374931', 'ORD367888', 'ORD471394', 'ORD190308', 'ORD197459', 'ORD253048', 'ORD355012', 'ORD049067', 'ORD438840', 'ORD408195', 'ORD361998', 'ORD085987', 'ORD187103', 'ORD198424', 'ORD444220', 'ORD212759', 'ORD260893', 'ORD431002', 'ORD239935', 'ORD326859', 'ORD059700', 'ORD127956', 'ORD477513', 'ORD393585', 'ORD089498', 'ORD270067', 'ORD245708', 'ORD236867', 'ORD287518', 'ORD352337', 'ORD361016', 'ORD050178', 'ORD001519', 'ORD349686', 'ORD424967', 'ORD431437', 'ORD402646', 'ORD333065', 'ORD474737', 'ORD336584', 'ORD147409', 'ORD083738', 'ORD047239', 'ORD218992', 'ORD331508', 'ORD278436', 'ORD461030', 'ORD343844', 'ORD348070', 'ORD102812', 'ORD408144', 'ORD372145', 'ORD164690', 'ORD236908', 'ORD365914', 'ORD400846', 'ORD307345', 'ORD276798', 'ORD185295', 'ORD392655', 'ORD076524', 'ORD364116', 'ORD394326', 'ORD320844', 'ORD496596', 'ORD110478', 'ORD367334', 'ORD395028', 'ORD431473', 'ORD358145', 'ORD059928', 'ORD264432', 'ORD020113', 'ORD179207', 'ORD179482', 'ORD051383', 'ORD005973', 'ORD322522', 'ORD470033', 'ORD197963', 'ORD292162', 'ORD147090', 'ORD433419', 'ORD219822', 'ORD376061', 'ORD150658', 'ORD133172', 'ORD460339']\n",
      "\n",
      "Are all order IDs in changed_order_ids unique? True\n"
     ]
    }
   ],
   "source": [
    "# Check if all values in changed_order_ids are unique\n",
    "are_ids_unique = len(changed_order_ids) == len(set(changed_order_ids))\n",
    "\n",
    "# Print the result\n",
    "print(f\"Total number of distance_to_nearest_warehouse errors fixed: {error_count}\")\n",
    "print()\n",
    "print(f\"Order IDs where distance_to_nearest_warehouse was fixed: {changed_order_ids}\")\n",
    "print()\n",
    "print(f\"Are all order IDs in changed_order_ids unique? {are_ids_unique}\")"
   ]
  },
  {
   "cell_type": "code",
   "execution_count": 35,
   "id": "55ec0919",
   "metadata": {
    "colab": {
     "base_uri": "https://localhost:8080/",
     "height": 335
    },
    "id": "55ec0919",
    "outputId": "0b720586-0ebf-4c57-fb6b-d8b884b6fff3"
   },
   "outputs": [
    {
     "data": {
      "text/plain": [
       "count    500.000000\n",
       "mean       1.109143\n",
       "std        0.516108\n",
       "min        0.026500\n",
       "25%        0.739275\n",
       "50%        1.058100\n",
       "75%        1.443225\n",
       "max        2.781600\n",
       "Name: distance_to_nearest_warehouse, dtype: float64"
      ]
     },
     "execution_count": 35,
     "metadata": {},
     "output_type": "execute_result"
    }
   ],
   "source": [
    "df_dirty['distance_to_nearest_warehouse'].describe()"
   ]
  },
  {
   "cell_type": "markdown",
   "id": "f8IhLhIWDd09",
   "metadata": {
    "id": "f8IhLhIWDd09"
   },
   "source": [
    "The process corrected the distance_to_nearest_warehouse values by recalculating them .Using the Haversine formula, the correct distances were calculated and applied where necessary. All corrected order_ids were unique, ensuring no duplicate fixes were made. This process improves the accuracy of the dataset, especially for distance-based analysis or logistics planning, ensuring that distances between customers and warehouses are correctly represented."
   ]
  },
  {
   "cell_type": "markdown",
   "id": "35da61d1",
   "metadata": {
    "id": "35da61d1"
   },
   "source": [
    "## 2.7 Determining the `Unit Price`"
   ]
  },
  {
   "cell_type": "markdown",
   "id": "9b6686ba",
   "metadata": {
    "id": "9b6686ba"
   },
   "source": [
    "There are no data anomalies in the file Group<group_id>_outlier_data.csv except for outliers in related to delivery_charges, therefore, it is safe to assume that the calculation of order_price from shopping_cart is correct. We will will using these two columns to calculate the unit price of each item."
   ]
  },
  {
   "cell_type": "markdown",
   "id": "9_bFZ2CBDnfO",
   "metadata": {
    "id": "9_bFZ2CBDnfO"
   },
   "source": [
    "The objective of this code is to calculate the unit price of each item in the shopping cart based on the total order_price for each transaction. The approach assumes that item names might have inconsistencies but that the quantities ordered are accurate. Using a least squares solution (lstsq) from numpy.linalg, the code calculates the unit prices that minimize the difference between the actual order_price and the price calculated from item quantities. This method is chosen to solve an overdetermined system where the number of orders exceeds the number of unique items."
   ]
  },
  {
   "cell_type": "code",
   "execution_count": 36,
   "id": "5e46606a",
   "metadata": {
    "id": "5e46606a"
   },
   "outputs": [],
   "source": [
    "# Load the outlier data\n",
    "df_outlier = pd.read_csv('./Group130_outlier_data.csv')"
   ]
  },
  {
   "cell_type": "code",
   "execution_count": 37,
   "id": "ece3edbb",
   "metadata": {
    "colab": {
     "base_uri": "https://localhost:8080/",
     "height": 0
    },
    "id": "ece3edbb",
    "outputId": "c13727c3-2372-4224-f87d-8706597cef1d"
   },
   "outputs": [
    {
     "name": "stdout",
     "output_type": "stream",
     "text": [
      "Calculated Unit Prices:\n",
      "Alcon 10: 8950.00 AUD\n",
      "Candle Inferno: 430.00 AUD\n",
      "Lucent 330S: 1230.00 AUD\n",
      "Olivia x460: 1225.00 AUD\n",
      "Thunder line: 2180.00 AUD\n",
      "Toshika 750: 4320.00 AUD\n",
      "Universe Note: 3450.00 AUD\n",
      "iAssist Line: 2225.00 AUD\n",
      "iStream: 150.00 AUD\n",
      "pearTV: 6310.00 AUD\n"
     ]
    }
   ],
   "source": [
    "# We are assuming that the item names may be wrong, but quantities are correct.\n",
    "\n",
    "from numpy.linalg import lstsq\n",
    "\n",
    "# Function to calculate the unit prices using lstsq from shopping_cart and order_price\n",
    "def calculate_unit_prices(df):\n",
    "    all_items = set()\n",
    "    shopping_cart_data = []\n",
    "\n",
    "    # Parse shopping_cart to collect items and their quantities\n",
    "    for cart in df['shopping_cart']:\n",
    "        cart = eval(cart) if isinstance(cart, str) else cart\n",
    "        cart_dict = {item: quantity for item, quantity in cart}\n",
    "        shopping_cart_data.append(cart_dict)\n",
    "        all_items.update(cart_dict.keys())  # Add unique items to the set\n",
    "\n",
    "    # Convert the set of all unique items into a sorted list for consistent ordering\n",
    "    all_items = sorted(all_items)\n",
    "\n",
    "    # Build the quantity matrix (A)\n",
    "    quantities_matrix = []\n",
    "    for cart_dict in shopping_cart_data:\n",
    "        # Build a row where each column corresponds to the quantity of an item in the order\n",
    "        quantities_matrix.append([cart_dict.get(item, 0) for item in all_items])\n",
    "\n",
    "    # Convert the list to a numpy array (rows are orders, columns are item quantities)\n",
    "    A = np.array(quantities_matrix)\n",
    "\n",
    "    # Get the total order prices from the dataframe (vector b)\n",
    "    order_prices = df['order_price'].values\n",
    "\n",
    "    # Solve for the unit prices using numpy.linalg.lstsq (least squares)\n",
    "    unit_prices, residuals, rank, s = lstsq(A, order_prices, rcond=None)\n",
    "\n",
    "    # Return the unit prices and the corresponding item names\n",
    "    return dict(zip(all_items, unit_prices))\n",
    "\n",
    "# Step 1: Calculate unit prices\n",
    "unit_price_mapping = calculate_unit_prices(df_outlier)\n",
    "\n",
    "# Display the unit prices\n",
    "print(\"Calculated Unit Prices:\")\n",
    "for item, price in unit_price_mapping.items():\n",
    "    print(f\"{item}: {price:.2f} AUD\")"
   ]
  },
  {
   "cell_type": "markdown",
   "id": "U-OntTDwD0uK",
   "metadata": {
    "id": "U-OntTDwD0uK"
   },
   "source": [
    "By applying the least squares method, the code successfully calculates the unit price for each unique item in the shopping cart based on transaction data. The least squares solution ensures that the difference between the actual total order price and the calculated price is minimized. The result is a list of unit prices for all items, which can be used for further analysis or validation of pricing strategies."
   ]
  },
  {
   "cell_type": "markdown",
   "id": "40adb607",
   "metadata": {
    "id": "40adb607"
   },
   "source": [
    "## 2.8 Errors in `shopping_cart`, `order_price` and `order_total` columns"
   ]
  },
  {
   "cell_type": "markdown",
   "id": "yWOLMZw1D60M",
   "metadata": {
    "id": "yWOLMZw1D60M"
   },
   "source": [
    "This code aims to validate and correct three fields in the dataset: shopping_cart, order_price, and order_total. Using a provided mapping of unit prices for each item, the order_price is recalculated based on the quantities in the shopping_cart. If discrepancies are found, the order_price or order_total is corrected. The approach first checks if the calculated order_price matches the original value. If so, it then verifies the order_total. If mismatches occur, corrections are applied based on the accurate shopping_cart and unit price mapping. Additionally, the code includes logic to fix potential item mislabeling by iterating through different item combinations."
   ]
  },
  {
   "cell_type": "code",
   "execution_count": 38,
   "id": "0a188898",
   "metadata": {
    "colab": {
     "base_uri": "https://localhost:8080/",
     "height": 300
    },
    "id": "0a188898",
    "outputId": "8d7bd967-4b41-4ec6-9490-f1638a139dae"
   },
   "outputs": [
    {
     "data": {
      "text/html": [
       "<div>\n",
       "<style scoped>\n",
       "    .dataframe tbody tr th:only-of-type {\n",
       "        vertical-align: middle;\n",
       "    }\n",
       "\n",
       "    .dataframe tbody tr th {\n",
       "        vertical-align: top;\n",
       "    }\n",
       "\n",
       "    .dataframe thead th {\n",
       "        text-align: right;\n",
       "    }\n",
       "</style>\n",
       "<table border=\"1\" class=\"dataframe\">\n",
       "  <thead>\n",
       "    <tr style=\"text-align: right;\">\n",
       "      <th></th>\n",
       "      <th>order_price</th>\n",
       "      <th>order_total</th>\n",
       "    </tr>\n",
       "  </thead>\n",
       "  <tbody>\n",
       "    <tr>\n",
       "      <th>count</th>\n",
       "      <td>500.000000</td>\n",
       "      <td>500.000000</td>\n",
       "    </tr>\n",
       "    <tr>\n",
       "      <th>mean</th>\n",
       "      <td>14003.710000</td>\n",
       "      <td>12704.429700</td>\n",
       "    </tr>\n",
       "    <tr>\n",
       "      <th>std</th>\n",
       "      <td>7792.338009</td>\n",
       "      <td>7229.074939</td>\n",
       "    </tr>\n",
       "    <tr>\n",
       "      <th>min</th>\n",
       "      <td>1010.000000</td>\n",
       "      <td>964.690000</td>\n",
       "    </tr>\n",
       "    <tr>\n",
       "      <th>25%</th>\n",
       "      <td>8130.000000</td>\n",
       "      <td>7477.242500</td>\n",
       "    </tr>\n",
       "    <tr>\n",
       "      <th>50%</th>\n",
       "      <td>12400.000000</td>\n",
       "      <td>11317.930000</td>\n",
       "    </tr>\n",
       "    <tr>\n",
       "      <th>75%</th>\n",
       "      <td>19530.000000</td>\n",
       "      <td>17019.840000</td>\n",
       "    </tr>\n",
       "    <tr>\n",
       "      <th>max</th>\n",
       "      <td>43520.000000</td>\n",
       "      <td>39256.310000</td>\n",
       "    </tr>\n",
       "  </tbody>\n",
       "</table>\n",
       "</div>"
      ],
      "text/plain": [
       "        order_price   order_total\n",
       "count    500.000000    500.000000\n",
       "mean   14003.710000  12704.429700\n",
       "std     7792.338009   7229.074939\n",
       "min     1010.000000    964.690000\n",
       "25%     8130.000000   7477.242500\n",
       "50%    12400.000000  11317.930000\n",
       "75%    19530.000000  17019.840000\n",
       "max    43520.000000  39256.310000"
      ]
     },
     "execution_count": 38,
     "metadata": {},
     "output_type": "execute_result"
    }
   ],
   "source": [
    "df_dirty[['order_price','order_total']].describe()"
   ]
  },
  {
   "cell_type": "code",
   "execution_count": 39,
   "id": "9369ce77",
   "metadata": {
    "id": "9369ce77"
   },
   "outputs": [],
   "source": [
    "unit_price_mapping = {\n",
    "    'Alcon 10': 8950.00,\n",
    "    'Candle Inferno': 430.00,\n",
    "    'Lucent 330S': 1230.00,\n",
    "    'Olivia x460': 1225.00,\n",
    "    'Thunder line': 2180.00,\n",
    "    'Toshika 750': 4320.00,\n",
    "    'Universe Note': 3450.00,\n",
    "    'iAssist Line': 2225.00,\n",
    "    'iStream': 150.00,\n",
    "    'pearTV': 6310.00\n",
    "}"
   ]
  },
  {
   "cell_type": "code",
   "execution_count": 40,
   "id": "e4b62935",
   "metadata": {
    "id": "e4b62935"
   },
   "outputs": [],
   "source": [
    "# Function to calculate order_price based on shopping_cart and unit prices\n",
    "def calculate_order_price(cart, unit_price_mapping):\n",
    "    return sum([unit_price_mapping.get(item, 0) * quantity for item, quantity in cart])\n",
    "\n",
    "# Function to calculate order_total based on order_price, coupon_discount, and delivery_charges\n",
    "def calculate_order_total(order_price, coupon_discount, delivery_charges):\n",
    "    return order_price * (1 - coupon_discount / 100) + delivery_charges\n",
    "\n",
    "# Function to fix errors in order_total, order_price, and shopping_cart\n",
    "def fix_order_errors(row, unit_price_mapping):\n",
    "    global error_count\n",
    "    global changed_order_ids\n",
    "\n",
    "    # Parse shopping_cart (if it's still a string representation)\n",
    "    cart = ast.literal_eval(row['shopping_cart']) if isinstance(row['shopping_cart'], str) else row['shopping_cart']\n",
    "\n",
    "    # Step 1: Calculate order_price based on shopping_cart\n",
    "    calculated_order_price = calculate_order_price(cart, unit_price_mapping)\n",
    "\n",
    "    # Step 2: Compare calculated_order_price with original order_price\n",
    "    if round(calculated_order_price, 2) == round(row['order_price'], 2):\n",
    "        # Step 3: If order_price matches, calculate order_total\n",
    "        calculated_order_total = calculate_order_total(calculated_order_price, row['coupon_discount'], row['delivery_charges'])\n",
    "\n",
    "        # Step 4: If order_total doesn't match, fix order_total\n",
    "        if round(calculated_order_total, 2) != round(row['order_total'], 2):\n",
    "            row['order_total'] = calculated_order_total\n",
    "            error_count += 1\n",
    "            changed_order_ids.append(row['order_id'])\n",
    "        # If both order_price and order_total are correct, no errors\n",
    "        return row\n",
    "\n",
    "    else:\n",
    "        # Step 5: If order_price doesn't match, calculate order_total based on calculated order_price\n",
    "        calculated_order_total = calculate_order_total(calculated_order_price, row['coupon_discount'], row['delivery_charges'])\n",
    "\n",
    "        if round(calculated_order_total, 2) == round(row['order_total'], 2):\n",
    "            # If calculated order_total matches original order_total, fix order_price\n",
    "            row['order_price'] = calculated_order_price\n",
    "            error_count += 1\n",
    "            changed_order_ids.append(row['order_id'])\n",
    "            return row\n",
    "\n",
    "        else:\n",
    "            # If calculated order_total doesn't match original, fix shopping_cart (assume 1 item error)\n",
    "            for idx, (item, quantity) in enumerate(cart):\n",
    "                for possible_item, unit_price in unit_price_mapping.items():\n",
    "                    # Replace one item at a time to find the correct one\n",
    "                    possible_cart = cart.copy()\n",
    "                    possible_cart[idx] = (possible_item, quantity)\n",
    "                    possible_order_price = calculate_order_price(possible_cart, unit_price_mapping)\n",
    "                    possible_order_total = calculate_order_total(possible_order_price, row['coupon_discount'], row['delivery_charges'])\n",
    "\n",
    "                    if round(possible_order_total, 2) == round(row['order_total'], 2):\n",
    "                        # Fix shopping_cart and order_price if match is found\n",
    "                        row['shopping_cart'] = str(possible_cart)\n",
    "                        row['order_price'] = possible_order_price\n",
    "                        error_count += 1\n",
    "                        changed_order_ids.append(row['order_id'])\n",
    "                        return row\n",
    "\n",
    "    return row\n",
    "\n",
    "df_dirty = df_dirty.apply(lambda row: fix_order_errors(row, unit_price_mapping), axis=1)"
   ]
  },
  {
   "cell_type": "code",
   "execution_count": 41,
   "id": "aab71d54",
   "metadata": {
    "colab": {
     "base_uri": "https://localhost:8080/",
     "height": 0
    },
    "id": "aab71d54",
    "outputId": "6bc72f48-0a1d-40bd-d278-613633d1a87f"
   },
   "outputs": [
    {
     "name": "stdout",
     "output_type": "stream",
     "text": [
      "Total errors fixed: 211\n",
      "\n",
      "Changed order IDs: ['ORD185820', 'ORD485363', 'ORD394540', 'ORD195030', 'ORD094686', 'ORD463755', 'ORD141248', 'ORD480080', 'ORD382416', 'ORD453312', 'ORD158175', 'ORD136362', 'ORD297665', 'ORD402565', 'ORD478503', 'ORD280966', 'ORD336942', 'ORD015979', 'ORD289814', 'ORD171494', 'ORD424320', 'ORD275612', 'ORD203552', 'ORD155932', 'ORD381492', 'ORD336209', 'ORD039305', 'ORD461512', 'ORD463529', 'ORD010125', 'ORD167565', 'ORD330628', 'ORD319742', 'ORD284876', 'ORD042242', 'ORD232016', 'ORD083672', 'ORD305556', 'ORD312349', 'ORD235025', 'ORD365301', 'ORD351733', 'ORD374931', 'ORD367888', 'ORD471394', 'ORD190308', 'ORD197459', 'ORD253048', 'ORD355012', 'ORD049067', 'ORD438840', 'ORD408195', 'ORD361998', 'ORD085987', 'ORD187103', 'ORD198424', 'ORD444220', 'ORD212759', 'ORD260893', 'ORD431002', 'ORD239935', 'ORD326859', 'ORD059700', 'ORD127956', 'ORD477513', 'ORD393585', 'ORD089498', 'ORD270067', 'ORD245708', 'ORD236867', 'ORD287518', 'ORD352337', 'ORD361016', 'ORD050178', 'ORD001519', 'ORD349686', 'ORD424967', 'ORD431437', 'ORD402646', 'ORD333065', 'ORD474737', 'ORD336584', 'ORD147409', 'ORD083738', 'ORD047239', 'ORD218992', 'ORD331508', 'ORD278436', 'ORD461030', 'ORD343844', 'ORD348070', 'ORD102812', 'ORD408144', 'ORD372145', 'ORD164690', 'ORD236908', 'ORD365914', 'ORD400846', 'ORD307345', 'ORD276798', 'ORD185295', 'ORD392655', 'ORD076524', 'ORD364116', 'ORD394326', 'ORD320844', 'ORD496596', 'ORD110478', 'ORD367334', 'ORD395028', 'ORD431473', 'ORD358145', 'ORD059928', 'ORD264432', 'ORD020113', 'ORD179207', 'ORD179482', 'ORD051383', 'ORD005973', 'ORD322522', 'ORD470033', 'ORD197963', 'ORD292162', 'ORD147090', 'ORD433419', 'ORD219822', 'ORD376061', 'ORD150658', 'ORD133172', 'ORD460339', 'ORD021989', 'ORD047752', 'ORD322556', 'ORD225962', 'ORD105384', 'ORD119765', 'ORD163482', 'ORD486463', 'ORD252098', 'ORD391079', 'ORD086477', 'ORD166561', 'ORD308071', 'ORD200962', 'ORD274072', 'ORD152684', 'ORD368975', 'ORD168007', 'ORD148814', 'ORD081008', 'ORD487942', 'ORD442769', 'ORD420700', 'ORD322653', 'ORD476266', 'ORD445529', 'ORD065993', 'ORD010577', 'ORD004264', 'ORD252876', 'ORD165265', 'ORD006459', 'ORD007227', 'ORD153145', 'ORD392016', 'ORD281242', 'ORD195924', 'ORD078323', 'ORD487468', 'ORD462244', 'ORD375471', 'ORD207597', 'ORD052779', 'ORD394128', 'ORD065275', 'ORD396505', 'ORD074552', 'ORD169434', 'ORD472114', 'ORD258873', 'ORD329515', 'ORD477851', 'ORD358204', 'ORD220683', 'ORD176478', 'ORD429054', 'ORD399842', 'ORD323663', 'ORD019888', 'ORD123648', 'ORD130970', 'ORD401458', 'ORD100084', 'ORD252213', 'ORD115854', 'ORD190736', 'ORD368913', 'ORD357704', 'ORD439494', 'ORD399136', 'ORD479716', 'ORD161728', 'ORD130298', 'ORD387959', 'ORD125602', 'ORD030648', 'ORD130584', 'ORD379612', 'ORD091832', 'ORD241530', 'ORD241207']\n",
      "\n",
      "Are all order IDs in changed_order_ids unique? True\n"
     ]
    }
   ],
   "source": [
    "# Check if all order_ids in changed_order_ids are unique\n",
    "are_ids_unique = len(changed_order_ids) == len(set(changed_order_ids))\n",
    "\n",
    "# Step 3: Print the results\n",
    "print(f\"Total errors fixed: {error_count}\")\n",
    "print()\n",
    "print(f\"Changed order IDs: {changed_order_ids}\")\n",
    "print()\n",
    "print(f\"Are all order IDs in changed_order_ids unique? {are_ids_unique}\")"
   ]
  },
  {
   "cell_type": "code",
   "execution_count": 42,
   "id": "239abfe7",
   "metadata": {
    "colab": {
     "base_uri": "https://localhost:8080/",
     "height": 300
    },
    "id": "239abfe7",
    "outputId": "46f16bb4-595f-4e46-8f0d-6ec4ea2442be"
   },
   "outputs": [
    {
     "data": {
      "text/html": [
       "<div>\n",
       "<style scoped>\n",
       "    .dataframe tbody tr th:only-of-type {\n",
       "        vertical-align: middle;\n",
       "    }\n",
       "\n",
       "    .dataframe tbody tr th {\n",
       "        vertical-align: top;\n",
       "    }\n",
       "\n",
       "    .dataframe thead th {\n",
       "        text-align: right;\n",
       "    }\n",
       "</style>\n",
       "<table border=\"1\" class=\"dataframe\">\n",
       "  <thead>\n",
       "    <tr style=\"text-align: right;\">\n",
       "      <th></th>\n",
       "      <th>order_price</th>\n",
       "      <th>order_total</th>\n",
       "    </tr>\n",
       "  </thead>\n",
       "  <tbody>\n",
       "    <tr>\n",
       "      <th>count</th>\n",
       "      <td>500.00000</td>\n",
       "      <td>500.00000</td>\n",
       "    </tr>\n",
       "    <tr>\n",
       "      <th>mean</th>\n",
       "      <td>13993.60000</td>\n",
       "      <td>12545.98332</td>\n",
       "    </tr>\n",
       "    <tr>\n",
       "      <th>std</th>\n",
       "      <td>7855.09414</td>\n",
       "      <td>7180.41362</td>\n",
       "    </tr>\n",
       "    <tr>\n",
       "      <th>min</th>\n",
       "      <td>1010.00000</td>\n",
       "      <td>964.69000</td>\n",
       "    </tr>\n",
       "    <tr>\n",
       "      <th>25%</th>\n",
       "      <td>8090.00000</td>\n",
       "      <td>7400.02500</td>\n",
       "    </tr>\n",
       "    <tr>\n",
       "      <th>50%</th>\n",
       "      <td>12250.00000</td>\n",
       "      <td>11225.67500</td>\n",
       "    </tr>\n",
       "    <tr>\n",
       "      <th>75%</th>\n",
       "      <td>19448.75000</td>\n",
       "      <td>16931.72500</td>\n",
       "    </tr>\n",
       "    <tr>\n",
       "      <th>max</th>\n",
       "      <td>43520.00000</td>\n",
       "      <td>39256.31000</td>\n",
       "    </tr>\n",
       "  </tbody>\n",
       "</table>\n",
       "</div>"
      ],
      "text/plain": [
       "       order_price  order_total\n",
       "count    500.00000    500.00000\n",
       "mean   13993.60000  12545.98332\n",
       "std     7855.09414   7180.41362\n",
       "min     1010.00000    964.69000\n",
       "25%     8090.00000   7400.02500\n",
       "50%    12250.00000  11225.67500\n",
       "75%    19448.75000  16931.72500\n",
       "max    43520.00000  39256.31000"
      ]
     },
     "execution_count": 42,
     "metadata": {},
     "output_type": "execute_result"
    }
   ],
   "source": [
    "df_dirty[['order_price','order_total']].describe()"
   ]
  },
  {
   "cell_type": "markdown",
   "id": "ehRLjfNmEm6M",
   "metadata": {
    "id": "ehRLjfNmEm6M"
   },
   "source": [
    " The corrections to the shopping_cart, order_price, and order_total fields ensured consistency across these values.The corrected entries ensure that the order_price matches the calculated price from the items in the cart, and that the order_total is consistent with the applied coupon discount and delivery charges. All corrected order_ids were unique, confirming that the corrections were applied accurately without duplication."
   ]
  },
  {
   "cell_type": "markdown",
   "id": "375f4de5",
   "metadata": {
    "id": "375f4de5"
   },
   "source": [
    "## 2.9 Errors in `is_customer_happy` column"
   ]
  },
  {
   "cell_type": "markdown",
   "id": "_E9kKgAqEsek",
   "metadata": {
    "id": "_E9kKgAqEsek"
   },
   "source": [
    "This code aims to verify and correct the is_happy_customer field by analyzing the sentiment of the latest_customer_review. Using the SentimentIntensityAnalyzer from the nltk.sentiment.vader library, the sentiment of each review is evaluated, and a compound score is calculated. If the compound score is greater than or equal to 0.05, the customer is considered happy (is_happy_customer set to True). If discrepancies are found between the sentiment score and the value in the is_happy_customer field, corrections are applied. Additionally, special cases, such as missing reviews, are handled according to the provided specification."
   ]
  },
  {
   "cell_type": "code",
   "execution_count": 43,
   "id": "c5c2839a",
   "metadata": {
    "colab": {
     "base_uri": "https://localhost:8080/",
     "height": 210
    },
    "id": "c5c2839a",
    "outputId": "aead6374-2f3a-4bbb-cdfa-e47b607a44bf"
   },
   "outputs": [
    {
     "data": {
      "text/plain": [
       "count      500\n",
       "unique       2\n",
       "top       True\n",
       "freq       339\n",
       "Name: is_happy_customer, dtype: object"
      ]
     },
     "execution_count": 43,
     "metadata": {},
     "output_type": "execute_result"
    }
   ],
   "source": [
    "df_dirty['is_happy_customer'].describe()"
   ]
  },
  {
   "cell_type": "code",
   "execution_count": 44,
   "id": "47cb0277",
   "metadata": {
    "id": "47cb0277"
   },
   "outputs": [],
   "source": [
    "# Initialize Sentiment Intensity Analyzer\n",
    "sia = SentimentIntensityAnalyzer()"
   ]
  },
  {
   "cell_type": "code",
   "execution_count": 45,
   "id": "86f1c2e8",
   "metadata": {
    "id": "86f1c2e8"
   },
   "outputs": [],
   "source": [
    "from nltk.sentiment.vader import SentimentIntensityAnalyzer\n",
    "\n",
    "# Initialize the sentiment analyzer\n",
    "sia = SentimentIntensityAnalyzer()\n",
    "\n",
    "# Function to check and fix is_customer_happy\n",
    "def fix_is_customer_happy(row):\n",
    "    global error_count\n",
    "\n",
    "    # Get the latest customer review, ensuring it's a string\n",
    "    review = row['latest_customer_review']\n",
    "\n",
    "    if not isinstance(review, str):\n",
    "        # If the review is not a string (e.g., NaN), treat it as an empty review\n",
    "        review = \"\"\n",
    "\n",
    "    # Get the sentiment score\n",
    "    sentiment_score = sia.polarity_scores(review)\n",
    "\n",
    "    # Determine if the customer is happy based on the compound score\n",
    "    is_happy = sentiment_score['compound'] >= 0.05\n",
    "\n",
    "    # If is_happy_customer is incorrect, fix it\n",
    "    if row['is_happy_customer'] != is_happy:\n",
    "        row['is_happy_customer'] = is_happy\n",
    "        error_count += 1\n",
    "        changed_order_ids.append(row['order_id'])\n",
    "\n",
    "    return row\n",
    "\n",
    "# Apply the function to each row in the dataframe\n",
    "df_dirty = df_dirty.apply(fix_is_customer_happy, axis=1)\n"
   ]
  },
  {
   "cell_type": "code",
   "execution_count": 46,
   "id": "fdd8ac04",
   "metadata": {
    "colab": {
     "base_uri": "https://localhost:8080/",
     "height": 0
    },
    "id": "fdd8ac04",
    "outputId": "9c0ff96a-c6b4-4d69-bafc-b1dcfe4d26bd"
   },
   "outputs": [
    {
     "name": "stdout",
     "output_type": "stream",
     "text": [
      "Total errors fixed: 239\n",
      "\n",
      "Changed order IDs: ['ORD185820', 'ORD485363', 'ORD394540', 'ORD195030', 'ORD094686', 'ORD463755', 'ORD141248', 'ORD480080', 'ORD382416', 'ORD453312', 'ORD158175', 'ORD136362', 'ORD297665', 'ORD402565', 'ORD478503', 'ORD280966', 'ORD336942', 'ORD015979', 'ORD289814', 'ORD171494', 'ORD424320', 'ORD275612', 'ORD203552', 'ORD155932', 'ORD381492', 'ORD336209', 'ORD039305', 'ORD461512', 'ORD463529', 'ORD010125', 'ORD167565', 'ORD330628', 'ORD319742', 'ORD284876', 'ORD042242', 'ORD232016', 'ORD083672', 'ORD305556', 'ORD312349', 'ORD235025', 'ORD365301', 'ORD351733', 'ORD374931', 'ORD367888', 'ORD471394', 'ORD190308', 'ORD197459', 'ORD253048', 'ORD355012', 'ORD049067', 'ORD438840', 'ORD408195', 'ORD361998', 'ORD085987', 'ORD187103', 'ORD198424', 'ORD444220', 'ORD212759', 'ORD260893', 'ORD431002', 'ORD239935', 'ORD326859', 'ORD059700', 'ORD127956', 'ORD477513', 'ORD393585', 'ORD089498', 'ORD270067', 'ORD245708', 'ORD236867', 'ORD287518', 'ORD352337', 'ORD361016', 'ORD050178', 'ORD001519', 'ORD349686', 'ORD424967', 'ORD431437', 'ORD402646', 'ORD333065', 'ORD474737', 'ORD336584', 'ORD147409', 'ORD083738', 'ORD047239', 'ORD218992', 'ORD331508', 'ORD278436', 'ORD461030', 'ORD343844', 'ORD348070', 'ORD102812', 'ORD408144', 'ORD372145', 'ORD164690', 'ORD236908', 'ORD365914', 'ORD400846', 'ORD307345', 'ORD276798', 'ORD185295', 'ORD392655', 'ORD076524', 'ORD364116', 'ORD394326', 'ORD320844', 'ORD496596', 'ORD110478', 'ORD367334', 'ORD395028', 'ORD431473', 'ORD358145', 'ORD059928', 'ORD264432', 'ORD020113', 'ORD179207', 'ORD179482', 'ORD051383', 'ORD005973', 'ORD322522', 'ORD470033', 'ORD197963', 'ORD292162', 'ORD147090', 'ORD433419', 'ORD219822', 'ORD376061', 'ORD150658', 'ORD133172', 'ORD460339', 'ORD021989', 'ORD047752', 'ORD322556', 'ORD225962', 'ORD105384', 'ORD119765', 'ORD163482', 'ORD486463', 'ORD252098', 'ORD391079', 'ORD086477', 'ORD166561', 'ORD308071', 'ORD200962', 'ORD274072', 'ORD152684', 'ORD368975', 'ORD168007', 'ORD148814', 'ORD081008', 'ORD487942', 'ORD442769', 'ORD420700', 'ORD322653', 'ORD476266', 'ORD445529', 'ORD065993', 'ORD010577', 'ORD004264', 'ORD252876', 'ORD165265', 'ORD006459', 'ORD007227', 'ORD153145', 'ORD392016', 'ORD281242', 'ORD195924', 'ORD078323', 'ORD487468', 'ORD462244', 'ORD375471', 'ORD207597', 'ORD052779', 'ORD394128', 'ORD065275', 'ORD396505', 'ORD074552', 'ORD169434', 'ORD472114', 'ORD258873', 'ORD329515', 'ORD477851', 'ORD358204', 'ORD220683', 'ORD176478', 'ORD429054', 'ORD399842', 'ORD323663', 'ORD019888', 'ORD123648', 'ORD130970', 'ORD401458', 'ORD100084', 'ORD252213', 'ORD115854', 'ORD190736', 'ORD368913', 'ORD357704', 'ORD439494', 'ORD399136', 'ORD479716', 'ORD161728', 'ORD130298', 'ORD387959', 'ORD125602', 'ORD030648', 'ORD130584', 'ORD379612', 'ORD091832', 'ORD241530', 'ORD241207', 'ORD203552', 'ORD052244', 'ORD330958', 'ORD109024', 'ORD477070', 'ORD430768', 'ORD333304', 'ORD140380', 'ORD388304', 'ORD040232', 'ORD416302', 'ORD019092', 'ORD272199', 'ORD340271', 'ORD430590', 'ORD281225', 'ORD243591', 'ORD056053', 'ORD326619', 'ORD128309', 'ORD012571', 'ORD215423', 'ORD267854', 'ORD285504', 'ORD466429', 'ORD016337', 'ORD457423', 'ORD412016']\n",
      "\n",
      "Are all order IDs in changed_order_ids unique? False\n"
     ]
    }
   ],
   "source": [
    "# Check if all order IDs in changed_order_ids are unique\n",
    "are_ids_unique = len(changed_order_ids) == len(set(changed_order_ids))\n",
    "\n",
    "# Output the results\n",
    "print(f\"Total errors fixed: {error_count}\")\n",
    "print()\n",
    "print(f\"Changed order IDs: {changed_order_ids}\")\n",
    "print()\n",
    "print(f\"Are all order IDs in changed_order_ids unique? {are_ids_unique}\")"
   ]
  },
  {
   "cell_type": "markdown",
   "id": "c0820b58",
   "metadata": {},
   "source": [
    "We got a duplicate order_id in the list, meaning we made two corrections in one row. In order to fix this we needed investigate further. First, we need to identify the duplicate order_id."
   ]
  },
  {
   "cell_type": "code",
   "execution_count": 47,
   "id": "c0c1184d",
   "metadata": {
    "colab": {
     "base_uri": "https://localhost:8080/",
     "height": 0
    },
    "id": "c0c1184d",
    "outputId": "64638cf1-3fa9-4687-fbea-84d55b62ae12"
   },
   "outputs": [
    {
     "name": "stdout",
     "output_type": "stream",
     "text": [
      "Duplicate order IDs: ['ORD203552']\n"
     ]
    }
   ],
   "source": [
    "from collections import Counter\n",
    "\n",
    "# Count occurrences of each order_id in changed_order_ids\n",
    "order_id_counts = Counter(changed_order_ids)\n",
    "\n",
    "# Find and print the duplicate order IDs\n",
    "duplicates = [order_id for order_id, count in order_id_counts.items() if count > 1]\n",
    "\n",
    "if duplicates:\n",
    "    print(f\"Duplicate order IDs: {duplicates}\")\n",
    "else:\n",
    "    print(\"No duplicate order IDs found.\")"
   ]
  },
  {
   "cell_type": "code",
   "execution_count": 48,
   "id": "cf824589",
   "metadata": {
    "colab": {
     "base_uri": "https://localhost:8080/",
     "height": 135
    },
    "id": "cf824589",
    "outputId": "7a802c55-4360-44da-eaab-fd1a073208af"
   },
   "outputs": [
    {
     "data": {
      "text/html": [
       "<div>\n",
       "<style scoped>\n",
       "    .dataframe tbody tr th:only-of-type {\n",
       "        vertical-align: middle;\n",
       "    }\n",
       "\n",
       "    .dataframe tbody tr th {\n",
       "        vertical-align: top;\n",
       "    }\n",
       "\n",
       "    .dataframe thead th {\n",
       "        text-align: right;\n",
       "    }\n",
       "</style>\n",
       "<table border=\"1\" class=\"dataframe\">\n",
       "  <thead>\n",
       "    <tr style=\"text-align: right;\">\n",
       "      <th></th>\n",
       "      <th>order_id</th>\n",
       "      <th>customer_id</th>\n",
       "      <th>date</th>\n",
       "      <th>nearest_warehouse</th>\n",
       "      <th>shopping_cart</th>\n",
       "      <th>order_price</th>\n",
       "      <th>delivery_charges</th>\n",
       "      <th>customer_lat</th>\n",
       "      <th>customer_long</th>\n",
       "      <th>coupon_discount</th>\n",
       "      <th>order_total</th>\n",
       "      <th>season</th>\n",
       "      <th>is_expedited_delivery</th>\n",
       "      <th>distance_to_nearest_warehouse</th>\n",
       "      <th>latest_customer_review</th>\n",
       "      <th>is_happy_customer</th>\n",
       "    </tr>\n",
       "  </thead>\n",
       "  <tbody>\n",
       "    <tr>\n",
       "      <th>2</th>\n",
       "      <td>ORD203552</td>\n",
       "      <td>ID4418536080</td>\n",
       "      <td>2019-02-25</td>\n",
       "      <td>Thompson</td>\n",
       "      <td>[('Toshika 750', 2), ('Olivia x460', 1)]</td>\n",
       "      <td>9865</td>\n",
       "      <td>84.15</td>\n",
       "      <td>-37.802575</td>\n",
       "      <td>144.96327</td>\n",
       "      <td>25</td>\n",
       "      <td>7482.9</td>\n",
       "      <td>Autumn</td>\n",
       "      <td>False</td>\n",
       "      <td>1.8149</td>\n",
       "      <td>None</td>\n",
       "      <td>True</td>\n",
       "    </tr>\n",
       "  </tbody>\n",
       "</table>\n",
       "</div>"
      ],
      "text/plain": [
       "    order_id   customer_id        date nearest_warehouse  \\\n",
       "2  ORD203552  ID4418536080  2019-02-25          Thompson   \n",
       "\n",
       "                              shopping_cart  order_price  delivery_charges  \\\n",
       "2  [('Toshika 750', 2), ('Olivia x460', 1)]         9865             84.15   \n",
       "\n",
       "   customer_lat  customer_long  coupon_discount  order_total  season  \\\n",
       "2    -37.802575      144.96327               25       7482.9  Autumn   \n",
       "\n",
       "   is_expedited_delivery  distance_to_nearest_warehouse  \\\n",
       "2                  False                         1.8149   \n",
       "\n",
       "  latest_customer_review  is_happy_customer  \n",
       "2                   None               True  "
      ]
     },
     "execution_count": 48,
     "metadata": {},
     "output_type": "execute_result"
    }
   ],
   "source": [
    "df_ORD203552 = pd.read_csv('Group130_dirty_data.csv')\n",
    "df_ORD203552[df_ORD203552['order_id'] == 'ORD203552']"
   ]
  },
  {
   "cell_type": "markdown",
   "id": "daf74015",
   "metadata": {
    "id": "daf74015"
   },
   "source": [
    "After inspecting the row with the order_id ORD203552, we observed that the value in the latest_customer_review column is 'None'. Additionally, the season column incorrectly shows Autumn, whereas the correct season, based on the date, should be Summer. This is a clear error.\n",
    "\n",
    "Since the rule specifies that only one error per row is allowed, it is safe to conclude that the value 'None' in latest_customer_review does not represent a negative review but rather indicates that no review was left by the customer. As per the specification, if no review is left by the customer, the is_happy_customer column should be TRUE.\n",
    "\n",
    "Previously, the is_happy_customer value was incorrectly set to FALSE due to the negative sentiment associated with the word 'None' when the function fix_is_customer_happy(row) was applied. The following code fixes this issue by:\n",
    "\n",
    "- Correcting is_happy_customer to TRUE for order_id 'ORD203552'.\n",
    "- Adjusting the error count accordingly.\n",
    "- Removing one duplicate entry of 'ORD203552' from the changed_order_ids list."
   ]
  },
  {
   "cell_type": "code",
   "execution_count": 49,
   "id": "c9733631",
   "metadata": {
    "id": "c9733631"
   },
   "outputs": [],
   "source": [
    "# Change the value of 'is_happy_customer' to True for order_id 'ORD203552'\n",
    "df_dirty.loc[df_dirty['order_id'] == 'ORD203552', 'is_happy_customer'] = True\n",
    "\n",
    "# Reduce the total errors fixed (error_count) by 1\n",
    "error_count -= 1\n",
    "\n",
    "# Remove one instance of 'ORD203552' from changed_order_ids\n",
    "if changed_order_ids.count('ORD203552') > 1:\n",
    "    changed_order_ids.remove('ORD203552')"
   ]
  },
  {
   "cell_type": "markdown",
   "id": "b5464db1",
   "metadata": {
    "id": "b5464db1"
   },
   "source": [
    "Check the results."
   ]
  },
  {
   "cell_type": "code",
   "execution_count": 50,
   "id": "2e8d4247",
   "metadata": {
    "colab": {
     "base_uri": "https://localhost:8080/",
     "height": 0
    },
    "id": "2e8d4247",
    "outputId": "04e5320f-6306-4e46-8113-85ad2e453f85"
   },
   "outputs": [
    {
     "name": "stdout",
     "output_type": "stream",
     "text": [
      "Total errors fixed: 238\n",
      "\n",
      "Changed order IDs: ['ORD185820', 'ORD485363', 'ORD394540', 'ORD195030', 'ORD094686', 'ORD463755', 'ORD141248', 'ORD480080', 'ORD382416', 'ORD453312', 'ORD158175', 'ORD136362', 'ORD297665', 'ORD402565', 'ORD478503', 'ORD280966', 'ORD336942', 'ORD015979', 'ORD289814', 'ORD171494', 'ORD424320', 'ORD275612', 'ORD155932', 'ORD381492', 'ORD336209', 'ORD039305', 'ORD461512', 'ORD463529', 'ORD010125', 'ORD167565', 'ORD330628', 'ORD319742', 'ORD284876', 'ORD042242', 'ORD232016', 'ORD083672', 'ORD305556', 'ORD312349', 'ORD235025', 'ORD365301', 'ORD351733', 'ORD374931', 'ORD367888', 'ORD471394', 'ORD190308', 'ORD197459', 'ORD253048', 'ORD355012', 'ORD049067', 'ORD438840', 'ORD408195', 'ORD361998', 'ORD085987', 'ORD187103', 'ORD198424', 'ORD444220', 'ORD212759', 'ORD260893', 'ORD431002', 'ORD239935', 'ORD326859', 'ORD059700', 'ORD127956', 'ORD477513', 'ORD393585', 'ORD089498', 'ORD270067', 'ORD245708', 'ORD236867', 'ORD287518', 'ORD352337', 'ORD361016', 'ORD050178', 'ORD001519', 'ORD349686', 'ORD424967', 'ORD431437', 'ORD402646', 'ORD333065', 'ORD474737', 'ORD336584', 'ORD147409', 'ORD083738', 'ORD047239', 'ORD218992', 'ORD331508', 'ORD278436', 'ORD461030', 'ORD343844', 'ORD348070', 'ORD102812', 'ORD408144', 'ORD372145', 'ORD164690', 'ORD236908', 'ORD365914', 'ORD400846', 'ORD307345', 'ORD276798', 'ORD185295', 'ORD392655', 'ORD076524', 'ORD364116', 'ORD394326', 'ORD320844', 'ORD496596', 'ORD110478', 'ORD367334', 'ORD395028', 'ORD431473', 'ORD358145', 'ORD059928', 'ORD264432', 'ORD020113', 'ORD179207', 'ORD179482', 'ORD051383', 'ORD005973', 'ORD322522', 'ORD470033', 'ORD197963', 'ORD292162', 'ORD147090', 'ORD433419', 'ORD219822', 'ORD376061', 'ORD150658', 'ORD133172', 'ORD460339', 'ORD021989', 'ORD047752', 'ORD322556', 'ORD225962', 'ORD105384', 'ORD119765', 'ORD163482', 'ORD486463', 'ORD252098', 'ORD391079', 'ORD086477', 'ORD166561', 'ORD308071', 'ORD200962', 'ORD274072', 'ORD152684', 'ORD368975', 'ORD168007', 'ORD148814', 'ORD081008', 'ORD487942', 'ORD442769', 'ORD420700', 'ORD322653', 'ORD476266', 'ORD445529', 'ORD065993', 'ORD010577', 'ORD004264', 'ORD252876', 'ORD165265', 'ORD006459', 'ORD007227', 'ORD153145', 'ORD392016', 'ORD281242', 'ORD195924', 'ORD078323', 'ORD487468', 'ORD462244', 'ORD375471', 'ORD207597', 'ORD052779', 'ORD394128', 'ORD065275', 'ORD396505', 'ORD074552', 'ORD169434', 'ORD472114', 'ORD258873', 'ORD329515', 'ORD477851', 'ORD358204', 'ORD220683', 'ORD176478', 'ORD429054', 'ORD399842', 'ORD323663', 'ORD019888', 'ORD123648', 'ORD130970', 'ORD401458', 'ORD100084', 'ORD252213', 'ORD115854', 'ORD190736', 'ORD368913', 'ORD357704', 'ORD439494', 'ORD399136', 'ORD479716', 'ORD161728', 'ORD130298', 'ORD387959', 'ORD125602', 'ORD030648', 'ORD130584', 'ORD379612', 'ORD091832', 'ORD241530', 'ORD241207', 'ORD203552', 'ORD052244', 'ORD330958', 'ORD109024', 'ORD477070', 'ORD430768', 'ORD333304', 'ORD140380', 'ORD388304', 'ORD040232', 'ORD416302', 'ORD019092', 'ORD272199', 'ORD340271', 'ORD430590', 'ORD281225', 'ORD243591', 'ORD056053', 'ORD326619', 'ORD128309', 'ORD012571', 'ORD215423', 'ORD267854', 'ORD285504', 'ORD466429', 'ORD016337', 'ORD457423', 'ORD412016']\n",
      "\n",
      "Are all order IDs in changed_order_ids unique? True\n"
     ]
    }
   ],
   "source": [
    "# Check if all order IDs in changed_order_ids are unique\n",
    "are_ids_unique = len(changed_order_ids) == len(set(changed_order_ids))\n",
    "\n",
    "# Output the results\n",
    "print(f\"Total errors fixed: {error_count}\")\n",
    "print()\n",
    "print(f\"Changed order IDs: {changed_order_ids}\")\n",
    "print()\n",
    "print(f\"Are all order IDs in changed_order_ids unique? {are_ids_unique}\")"
   ]
  },
  {
   "cell_type": "code",
   "execution_count": 51,
   "id": "fb38ad9b",
   "metadata": {
    "colab": {
     "base_uri": "https://localhost:8080/",
     "height": 210
    },
    "id": "fb38ad9b",
    "outputId": "833f8f2d-bfe3-47ec-c0fe-24725bd75717"
   },
   "outputs": [
    {
     "data": {
      "text/plain": [
       "count      500\n",
       "unique       2\n",
       "top       True\n",
       "freq       348\n",
       "Name: is_happy_customer, dtype: object"
      ]
     },
     "execution_count": 51,
     "metadata": {},
     "output_type": "execute_result"
    }
   ],
   "source": [
    "df_dirty['is_happy_customer'].describe()"
   ]
  },
  {
   "cell_type": "markdown",
   "id": "yi2xzzUGE81R",
   "metadata": {
    "id": "yi2xzzUGE81R"
   },
   "source": [
    "The is_happy_customer field was adjusted to reflect the correct customer sentiment based on the analysis of the latest review. Specifically, an edge case for order ORD203552 was addressed, where a missing review (None) was incorrectly interpreted as negative. After fixing this case and removing the duplicate entry from the change log, all corrected order_ids were verified to be unique. This ensures that customer satisfaction data is accurately reflected in the dataset."
   ]
  },
  {
   "cell_type": "markdown",
   "id": "e33d9dd2",
   "metadata": {
    "id": "e33d9dd2"
   },
   "source": [
    "### 2.10 Errors in `is_expedited_delivery` column"
   ]
  },
  {
   "cell_type": "markdown",
   "id": "n8heqf6SLeEg",
   "metadata": {
    "id": "n8heqf6SLeEg"
   },
   "source": [
    "The aim of this section was to handle inconsistencies and errors in the is_expedited_delivery feature, particularly in rows where the residuals of the predicted delivery charges were larger than a specified threshold. This was done by identifying outliers in the delivery charges and adjusting the is_expedited_delivery values accordingly, as these values might have caused mispredictions.\n",
    "\n",
    "First, the dataset was cleaned by addressing missing values, after which one-hot encoding was applied to categorical features like season. Interaction terms, such as the product of the is_expedited_delivery feature and distance_to_nearest_warehouse for different seasons, were created to capture any nonlinear relationships in the data. The dataset was then split into training and testing sets, and a linear regression model was trained to predict delivery charges based on relevant features.\n",
    "\n",
    "Predictions were made on the complete dataset, and residuals (differences between actual and predicted values) were calculated. Outliers in the residuals (values beyond ±4) were flagged, and their corresponding is_expedited_delivery values were toggled (i.e., switched from True to False or vice versa) to account for potential errors. These changes were made based on the assumption that incorrect values of is_expedited_delivery might be responsible for the large residuals.\n",
    "\n",
    "After making these adjustments, the model was re-applied to the cleaned dataset, and a new R² score was calculated to evaluate the performance of the model after handling these outliers. The adjusted R² score indicated a notable improvement in model performance, suggesting that correcting the is_expedited_delivery values for the identified outliers led to better predictions of delivery charges."
   ]
  },
  {
   "cell_type": "code",
   "execution_count": 52,
   "id": "27b9b527",
   "metadata": {
    "colab": {
     "base_uri": "https://localhost:8080/",
     "height": 210
    },
    "id": "27b9b527",
    "outputId": "f18b5815-7221-4968-dc1c-d84e3ced0fa3"
   },
   "outputs": [
    {
     "data": {
      "text/plain": [
       "count      500\n",
       "unique       2\n",
       "top       True\n",
       "freq       264\n",
       "Name: is_expedited_delivery, dtype: object"
      ]
     },
     "execution_count": 52,
     "metadata": {},
     "output_type": "execute_result"
    }
   ],
   "source": [
    "df_dirty['is_expedited_delivery'].describe()"
   ]
  },
  {
   "cell_type": "code",
   "execution_count": 53,
   "id": "d521e92a",
   "metadata": {
    "id": "d521e92a"
   },
   "outputs": [],
   "source": [
    "df_missing_data = pd.read_csv('./Group130_missing_data.csv')"
   ]
  },
  {
   "cell_type": "code",
   "execution_count": 54,
   "id": "e9aef085",
   "metadata": {
    "id": "e9aef085"
   },
   "outputs": [],
   "source": [
    "correct_data = changed_order_ids"
   ]
  },
  {
   "cell_type": "code",
   "execution_count": 55,
   "id": "72747705",
   "metadata": {
    "id": "72747705"
   },
   "outputs": [],
   "source": [
    "df_cleaned = df_missing_data.dropna()"
   ]
  },
  {
   "cell_type": "code",
   "execution_count": 56,
   "id": "97f9189c",
   "metadata": {
    "id": "97f9189c"
   },
   "outputs": [],
   "source": [
    "# One-hot encode the 'season' column\n",
    "df_cleaned = pd.get_dummies(df_cleaned, columns=['season'], drop_first=True)  # Drop first to avoid multicollinearity"
   ]
  },
  {
   "cell_type": "code",
   "execution_count": 57,
   "id": "e2b8bbea",
   "metadata": {
    "id": "e2b8bbea"
   },
   "outputs": [],
   "source": [
    "# Convert binary categorical variables to integers\n",
    "df_cleaned['is_expedited_delivery'] = df_cleaned['is_expedited_delivery'].astype(int)"
   ]
  },
  {
   "cell_type": "code",
   "execution_count": 58,
   "id": "d7fb0165",
   "metadata": {
    "colab": {
     "base_uri": "https://localhost:8080/",
     "height": 0
    },
    "id": "d7fb0165",
    "outputId": "d1f693c4-224e-4323-aaea-edfd0261ef2c"
   },
   "outputs": [
    {
     "name": "stdout",
     "output_type": "stream",
     "text": [
      "R² Score: 0.9956\n"
     ]
    }
   ],
   "source": [
    "X = df_cleaned[['distance_to_nearest_warehouse', 'is_expedited_delivery', 'is_happy_customer',\n",
    "                'season_Spring', 'season_Summer', 'season_Winter']]  # One-hot encoded seasons\n",
    "\n",
    "y = df_cleaned['delivery_charges']\n",
    "\n",
    "X['season_Spring_distance'] = X['season_Spring'] * X['distance_to_nearest_warehouse']\n",
    "X['season_Summer_distance'] = X['season_Summer'] * X['distance_to_nearest_warehouse']\n",
    "X['season_Winter_distance'] = X['season_Winter'] * X['distance_to_nearest_warehouse']\n",
    "\n",
    "X['season_Spring_expedited'] = X['season_Spring'] * X['is_expedited_delivery']\n",
    "X['season_Summer_expedited'] = X['season_Summer'] * X['is_expedited_delivery']\n",
    "X['season_Winter_expedited'] = X['season_Winter'] * X['is_expedited_delivery']\n",
    "\n",
    "# Split the dataset into training and testing sets\n",
    "X_train, X_test, y_train, y_test = train_test_split(X, y, test_size=0.2, random_state=42)\n",
    "\n",
    "# Train the Linear Regression model using statsmodels\n",
    "model = LinearRegression()\n",
    "model.fit(X_train, y_train)\n",
    "\n",
    "# Predict delivery charges using the trained model\n",
    "y_pred = model.predict(X)\n",
    "\n",
    "# Calculate R² score between actual delivery charges and predicted delivery charges\n",
    "r2 = r2_score(y, y_pred)\n",
    "\n",
    "# Print the R² score\n",
    "print(f'R² Score: {r2:.4f}')"
   ]
  },
  {
   "cell_type": "markdown",
   "id": "ef293e2d",
   "metadata": {},
   "source": [
    "The R² score of 0.9956 indicates an extremely high level of accuracy in the model’s predictions, suggesting that the linear regression model explains 99.56% of the variance in delivery_charges. "
   ]
  },
  {
   "cell_type": "code",
   "execution_count": 59,
   "id": "9ae0a9cd",
   "metadata": {
    "colab": {
     "base_uri": "https://localhost:8080/",
     "height": 424
    },
    "id": "9ae0a9cd",
    "outputId": "8fe4cf3b-164b-4acb-dc6e-578f02c2a996"
   },
   "outputs": [
    {
     "data": {
      "text/html": [
       "<div>\n",
       "<style scoped>\n",
       "    .dataframe tbody tr th:only-of-type {\n",
       "        vertical-align: middle;\n",
       "    }\n",
       "\n",
       "    .dataframe tbody tr th {\n",
       "        vertical-align: top;\n",
       "    }\n",
       "\n",
       "    .dataframe thead th {\n",
       "        text-align: right;\n",
       "    }\n",
       "</style>\n",
       "<table border=\"1\" class=\"dataframe\">\n",
       "  <thead>\n",
       "    <tr style=\"text-align: right;\">\n",
       "      <th></th>\n",
       "      <th>delivery_charges</th>\n",
       "      <th>predictions</th>\n",
       "    </tr>\n",
       "  </thead>\n",
       "  <tbody>\n",
       "    <tr>\n",
       "      <th>0</th>\n",
       "      <td>67.51</td>\n",
       "      <td>66.712933</td>\n",
       "    </tr>\n",
       "    <tr>\n",
       "      <th>1</th>\n",
       "      <td>49.70</td>\n",
       "      <td>49.608446</td>\n",
       "    </tr>\n",
       "    <tr>\n",
       "      <th>2</th>\n",
       "      <td>69.05</td>\n",
       "      <td>68.730849</td>\n",
       "    </tr>\n",
       "    <tr>\n",
       "      <th>4</th>\n",
       "      <td>86.33</td>\n",
       "      <td>87.969686</td>\n",
       "    </tr>\n",
       "    <tr>\n",
       "      <th>5</th>\n",
       "      <td>92.13</td>\n",
       "      <td>90.438033</td>\n",
       "    </tr>\n",
       "    <tr>\n",
       "      <th>...</th>\n",
       "      <td>...</td>\n",
       "      <td>...</td>\n",
       "    </tr>\n",
       "    <tr>\n",
       "      <th>491</th>\n",
       "      <td>76.83</td>\n",
       "      <td>75.288570</td>\n",
       "    </tr>\n",
       "    <tr>\n",
       "      <th>492</th>\n",
       "      <td>65.67</td>\n",
       "      <td>65.682234</td>\n",
       "    </tr>\n",
       "    <tr>\n",
       "      <th>493</th>\n",
       "      <td>81.48</td>\n",
       "      <td>81.045874</td>\n",
       "    </tr>\n",
       "    <tr>\n",
       "      <th>494</th>\n",
       "      <td>76.50</td>\n",
       "      <td>76.847125</td>\n",
       "    </tr>\n",
       "    <tr>\n",
       "      <th>497</th>\n",
       "      <td>103.65</td>\n",
       "      <td>104.468052</td>\n",
       "    </tr>\n",
       "  </tbody>\n",
       "</table>\n",
       "<p>350 rows × 2 columns</p>\n",
       "</div>"
      ],
      "text/plain": [
       "     delivery_charges  predictions\n",
       "0               67.51    66.712933\n",
       "1               49.70    49.608446\n",
       "2               69.05    68.730849\n",
       "4               86.33    87.969686\n",
       "5               92.13    90.438033\n",
       "..                ...          ...\n",
       "491             76.83    75.288570\n",
       "492             65.67    65.682234\n",
       "493             81.48    81.045874\n",
       "494             76.50    76.847125\n",
       "497            103.65   104.468052\n",
       "\n",
       "[350 rows x 2 columns]"
      ]
     },
     "execution_count": 59,
     "metadata": {},
     "output_type": "execute_result"
    }
   ],
   "source": [
    "# Predict delivery charges using the trained model for the entire df_cleaned\n",
    "df_cleaned['predictions'] = model.predict(X)\n",
    "\n",
    "# Display the comparison of actual vs predicted delivery charges\n",
    "df_cleaned[['delivery_charges', 'predictions']]"
   ]
  },
  {
   "cell_type": "markdown",
   "id": "409298a4",
   "metadata": {},
   "source": [
    "We begin by creating a copy of the df_dirty dataframe to ensure that the original data is not modified during the processing and predictions. This is important to maintain the integrity of the initial dataset while performing any transformations or model predictions.\n",
    "\n",
    "After copying, the df_dirty_copy undergoes preprocessing, which includes one-hot encoding for the ‘season’ column and converting the ‘is_expedited_delivery’ column to integer format. Interaction terms between season, distance to the nearest warehouse, and expedited delivery are also created to enhance the model’s capacity to capture these relationships.\n",
    "\n",
    "Using the feature matrix X_dirty, which includes the original features along with the interaction terms, the model that was previously trained on cleaned data is now applied to predict the delivery charges in df_dirty_copy. Finally, the actual delivery charges are compared with the predicted values, allowing us to assess the model’s performance on the dirty dataset visually.\n",
    "\n",
    "By keeping the original dataframe intact, this approach ensures we can reapply the model, track results, and preserve the original dataset for further analysis."
   ]
  },
  {
   "cell_type": "code",
   "execution_count": 60,
   "id": "9ea78f95",
   "metadata": {
    "colab": {
     "base_uri": "https://localhost:8080/",
     "height": 424
    },
    "id": "9ea78f95",
    "outputId": "35ea26fd-3212-46d1-dd59-504054b5ada2"
   },
   "outputs": [
    {
     "data": {
      "text/html": [
       "<div>\n",
       "<style scoped>\n",
       "    .dataframe tbody tr th:only-of-type {\n",
       "        vertical-align: middle;\n",
       "    }\n",
       "\n",
       "    .dataframe tbody tr th {\n",
       "        vertical-align: top;\n",
       "    }\n",
       "\n",
       "    .dataframe thead th {\n",
       "        text-align: right;\n",
       "    }\n",
       "</style>\n",
       "<table border=\"1\" class=\"dataframe\">\n",
       "  <thead>\n",
       "    <tr style=\"text-align: right;\">\n",
       "      <th></th>\n",
       "      <th>delivery_charges</th>\n",
       "      <th>predicted_delivery_charges</th>\n",
       "    </tr>\n",
       "  </thead>\n",
       "  <tbody>\n",
       "    <tr>\n",
       "      <th>0</th>\n",
       "      <td>84.06</td>\n",
       "      <td>86.054685</td>\n",
       "    </tr>\n",
       "    <tr>\n",
       "      <th>1</th>\n",
       "      <td>62.75</td>\n",
       "      <td>62.899228</td>\n",
       "    </tr>\n",
       "    <tr>\n",
       "      <th>2</th>\n",
       "      <td>84.15</td>\n",
       "      <td>83.420177</td>\n",
       "    </tr>\n",
       "    <tr>\n",
       "      <th>3</th>\n",
       "      <td>60.56</td>\n",
       "      <td>61.752816</td>\n",
       "    </tr>\n",
       "    <tr>\n",
       "      <th>4</th>\n",
       "      <td>103.42</td>\n",
       "      <td>104.667820</td>\n",
       "    </tr>\n",
       "    <tr>\n",
       "      <th>...</th>\n",
       "      <td>...</td>\n",
       "      <td>...</td>\n",
       "    </tr>\n",
       "    <tr>\n",
       "      <th>495</th>\n",
       "      <td>51.41</td>\n",
       "      <td>50.478300</td>\n",
       "    </tr>\n",
       "    <tr>\n",
       "      <th>496</th>\n",
       "      <td>67.51</td>\n",
       "      <td>67.867716</td>\n",
       "    </tr>\n",
       "    <tr>\n",
       "      <th>497</th>\n",
       "      <td>86.51</td>\n",
       "      <td>86.767254</td>\n",
       "    </tr>\n",
       "    <tr>\n",
       "      <th>498</th>\n",
       "      <td>82.69</td>\n",
       "      <td>104.403916</td>\n",
       "    </tr>\n",
       "    <tr>\n",
       "      <th>499</th>\n",
       "      <td>63.19</td>\n",
       "      <td>49.785656</td>\n",
       "    </tr>\n",
       "  </tbody>\n",
       "</table>\n",
       "<p>500 rows × 2 columns</p>\n",
       "</div>"
      ],
      "text/plain": [
       "     delivery_charges  predicted_delivery_charges\n",
       "0               84.06                   86.054685\n",
       "1               62.75                   62.899228\n",
       "2               84.15                   83.420177\n",
       "3               60.56                   61.752816\n",
       "4              103.42                  104.667820\n",
       "..                ...                         ...\n",
       "495             51.41                   50.478300\n",
       "496             67.51                   67.867716\n",
       "497             86.51                   86.767254\n",
       "498             82.69                  104.403916\n",
       "499             63.19                   49.785656\n",
       "\n",
       "[500 rows x 2 columns]"
      ]
     },
     "execution_count": 60,
     "metadata": {},
     "output_type": "execute_result"
    }
   ],
   "source": [
    "# Copy df_dirty\n",
    "df_dirty_copy = df_dirty.copy()\n",
    "\n",
    "# Preprocessing (One-hot encoding for 'season')\n",
    "df_dirty_copy = pd.get_dummies(df_dirty_copy, columns=['season'], drop_first=True)\n",
    "\n",
    "# Convert 'is_expedited_delivery' to integer\n",
    "df_dirty_copy['is_expedited_delivery'] = df_dirty_copy['is_expedited_delivery'].astype(int)\n",
    "\n",
    "# Create interaction terms\n",
    "df_dirty_copy['season_Spring_distance'] = df_dirty_copy['season_Spring'] * df_dirty_copy['distance_to_nearest_warehouse']\n",
    "df_dirty_copy['season_Summer_distance'] = df_dirty_copy['season_Summer'] * df_dirty_copy['distance_to_nearest_warehouse']\n",
    "df_dirty_copy['season_Winter_distance'] = df_dirty_copy['season_Winter'] * df_dirty_copy['distance_to_nearest_warehouse']\n",
    "\n",
    "df_dirty_copy['season_Spring_expedited'] = df_dirty_copy['season_Spring'] * df_dirty_copy['is_expedited_delivery']\n",
    "df_dirty_copy['season_Summer_expedited'] = df_dirty_copy['season_Summer'] * df_dirty_copy['is_expedited_delivery']\n",
    "df_dirty_copy['season_Winter_expedited'] = df_dirty_copy['season_Winter'] * df_dirty_copy['is_expedited_delivery']\n",
    "\n",
    "# Define the feature matrix (X) and target variable (y)\n",
    "X_dirty = df_dirty_copy[['distance_to_nearest_warehouse', 'is_expedited_delivery', 'is_happy_customer', \n",
    "                         'season_Spring', 'season_Summer', 'season_Winter',\n",
    "                         'season_Spring_distance', 'season_Summer_distance', 'season_Winter_distance',\n",
    "                         'season_Spring_expedited', 'season_Summer_expedited', 'season_Winter_expedited']]\n",
    "\n",
    "\n",
    "# Use the already trained model to predict on df_dirty_copy\n",
    "df_dirty_copy['predicted_delivery_charges'] = model.predict(X_dirty)\n",
    "\n",
    "# Step 6: Compare delivery_charges and predictions visually\n",
    "df_dirty_copy[['delivery_charges', 'predicted_delivery_charges']]"
   ]
  },
  {
   "cell_type": "code",
   "execution_count": 61,
   "id": "77459457",
   "metadata": {
    "colab": {
     "base_uri": "https://localhost:8080/",
     "height": 0
    },
    "id": "77459457",
    "outputId": "5218e8ab-799b-4ac1-a9b6-93d77ed9dd87"
   },
   "outputs": [
    {
     "name": "stdout",
     "output_type": "stream",
     "text": [
      "R² Score on df_dirty_copy: 0.8161\n"
     ]
    }
   ],
   "source": [
    "# Calculate R²\n",
    "r2_dirty = r2_score(df_dirty_copy['delivery_charges'], df_dirty_copy['predicted_delivery_charges'])\n",
    "print(f'R² Score on df_dirty_copy: {r2_dirty:.4f}')"
   ]
  },
  {
   "cell_type": "markdown",
   "id": "c92a79a3",
   "metadata": {},
   "source": [
    "The R-squared value is comparatively very low. This gave us an indication that there might be issues with is_expedited_delivery since all the other columns have been fixed."
   ]
  },
  {
   "cell_type": "code",
   "execution_count": 62,
   "id": "9b83e2ca",
   "metadata": {
    "colab": {
     "base_uri": "https://localhost:8080/",
     "height": 335
    },
    "id": "9b83e2ca",
    "outputId": "f9e21d2f-c0a6-450f-9db8-0662fe615cf2"
   },
   "outputs": [
    {
     "data": {
      "text/plain": [
       "count    500.000000\n",
       "mean      -0.675640\n",
       "std        6.094140\n",
       "min      -25.446282\n",
       "25%       -1.004203\n",
       "50%       -0.195138\n",
       "75%        0.632195\n",
       "max       27.746933\n",
       "Name: residuals, dtype: float64"
      ]
     },
     "execution_count": 62,
     "metadata": {},
     "output_type": "execute_result"
    }
   ],
   "source": [
    "# Calculate the residuals (difference between actual and predicted delivery charges)\n",
    "df_dirty_copy['residuals'] = df_dirty_copy['delivery_charges'] - df_dirty_copy['predicted_delivery_charges']\n",
    "df_dirty_copy['residuals'].describe()"
   ]
  },
  {
   "cell_type": "markdown",
   "id": "58a7a6b5",
   "metadata": {},
   "source": [
    "The inspection of the residuals reveals a strong likelihood of errors in the column. The 25%, 50%, 75% percentiles, and the mean all indicate that the residuals are very low, suggesting the predictions are highly accurate overall. However, the minimum and maximum values tell a different story—they are significantly higher, indicating that certain values have not been predicted accurately. This discrepancy suggests potential issues in the data, likely due to errors in the ‘is_expedited_delivery’ column, as all other columns are now assumed to be corrected and error-free."
   ]
  },
  {
   "cell_type": "code",
   "execution_count": 63,
   "id": "7b28b6a2",
   "metadata": {
    "colab": {
     "base_uri": "https://localhost:8080/",
     "height": 564
    },
    "id": "7b28b6a2",
    "outputId": "4e14335c-ebc0-4a22-ceea-f6ced845f883"
   },
   "outputs": [
    {
     "data": {
      "image/png": "[encoded data removed]",
      "text/plain": [
       "<Figure size 1000x600 with 1 Axes>"
      ]
     },
     "metadata": {},
     "output_type": "display_data"
    }
   ],
   "source": [
    "# Create a scatter plot of the residuals\n",
    "plt.figure(figsize=(10, 6))\n",
    "plt.scatter(range(len(df_dirty_copy['residuals'])), df_dirty_copy['residuals'], color='blue', edgecolor='black')\n",
    "plt.axhline(y=0, color='red', linestyle='--')\n",
    "plt.axhline(y=6, color='black', linestyle='--')\n",
    "plt.axhline(y=-6, color='black', linestyle='--')\n",
    "plt.title('Scatter Plot of Residuals')\n",
    "plt.xlabel('Index')\n",
    "plt.ylabel('Residuals')\n",
    "plt.show()"
   ]
  },
  {
   "cell_type": "markdown",
   "id": "18f35a8d",
   "metadata": {},
   "source": [
    "The residual plot clearly shows that the majority of the values are clustered around 0, indicating accurate predictions. However, the outliers stand out and represent the data points that require further investigation and correction."
   ]
  },
  {
   "cell_type": "code",
   "execution_count": 64,
   "id": "5d6caff6",
   "metadata": {
    "colab": {
     "base_uri": "https://localhost:8080/",
     "height": 0
    },
    "id": "5d6caff6",
    "outputId": "67f5fe4f-d028-4a0f-d83f-0bf79267b57a"
   },
   "outputs": [
    {
     "name": "stdout",
     "output_type": "stream",
     "text": [
      "The number of outliers (errors in is_expedited_delivery) identified: 54\n"
     ]
    }
   ],
   "source": [
    "# Extract the order_ids where the residual is greater than 4 or less than -4\n",
    "outliers_order_ids = df_dirty_copy.loc[(df_dirty_copy['residuals'] > 4) |\n",
    "                                              (df_dirty_copy['residuals'] < -4), 'order_id'].tolist()\n",
    "\n",
    "# Print the length\n",
    "print(f\"The number of outliers (errors in is_expedited_delivery) identified: {len(outliers_order_ids)}\")"
   ]
  },
  {
   "cell_type": "code",
   "execution_count": 65,
   "id": "0a734649",
   "metadata": {
    "colab": {
     "base_uri": "https://localhost:8080/",
     "height": 0
    },
    "id": "0a734649",
    "outputId": "7c437db2-c64e-47cb-db05-5b51970271a7"
   },
   "outputs": [
    {
     "name": "stdout",
     "output_type": "stream",
     "text": [
      "Common order IDs between outliers and changed orders: []\n"
     ]
    }
   ],
   "source": [
    "common_order_ids = list(set(outliers_order_ids) & set(changed_order_ids))\n",
    "\n",
    "# Print the common order IDs\n",
    "print(\"Common order IDs between outliers and changed orders:\", common_order_ids)"
   ]
  },
  {
   "cell_type": "markdown",
   "id": "d62a697a",
   "metadata": {},
   "source": [
    "Ensure that two errors are not being fixed in one row. "
   ]
  },
  {
   "cell_type": "code",
   "execution_count": 66,
   "id": "353fa4be",
   "metadata": {
    "id": "353fa4be"
   },
   "outputs": [],
   "source": [
    "# Iterate through the rows where order_id is in the outliers_order_ids list\n",
    "df_dirty_copy.loc[df_dirty_copy['order_id'].isin(outliers_order_ids), 'is_expedited_delivery'] = \\\n",
    "    df_dirty_copy.loc[df_dirty_copy['order_id'].isin(outliers_order_ids), 'is_expedited_delivery'].apply(lambda x: 1 if x == 0 else 0)"
   ]
  },
  {
   "cell_type": "code",
   "execution_count": 67,
   "id": "b135d2c6",
   "metadata": {
    "colab": {
     "base_uri": "https://localhost:8080/",
     "height": 458
    },
    "id": "b135d2c6",
    "outputId": "eddea8ab-cc82-4a13-ae99-eff80386915e"
   },
   "outputs": [
    {
     "data": {
      "text/plain": [
       "0      1\n",
       "1      0\n",
       "2      0\n",
       "3      0\n",
       "4      1\n",
       "      ..\n",
       "495    0\n",
       "496    0\n",
       "497    0\n",
       "498    0\n",
       "499    1\n",
       "Name: is_expedited_delivery, Length: 500, dtype: int64"
      ]
     },
     "execution_count": 67,
     "metadata": {},
     "output_type": "execute_result"
    }
   ],
   "source": [
    "df_dirty_copy['is_expedited_delivery']"
   ]
  },
  {
   "cell_type": "code",
   "execution_count": 68,
   "id": "4e3f9c0b",
   "metadata": {
    "colab": {
     "base_uri": "https://localhost:8080/",
     "height": 0
    },
    "id": "4e3f9c0b",
    "outputId": "91347781-62ef-4708-e252-2917c11cacd4"
   },
   "outputs": [
    {
     "name": "stdout",
     "output_type": "stream",
     "text": [
      "R² Score after changes: 0.9945\n"
     ]
    }
   ],
   "source": [
    "# Using the updated data (df_dirty_copy)\n",
    "X_dirty_copy = df_dirty_copy[['distance_to_nearest_warehouse', 'is_expedited_delivery', 'is_happy_customer',\n",
    "                              'season_Spring', 'season_Summer', 'season_Winter']]  # One-hot encoded seasons\n",
    "\n",
    "# Apply the interaction terms (as done previously)\n",
    "X_dirty_copy['season_Spring_distance'] = X_dirty_copy['season_Spring'] * X_dirty_copy['distance_to_nearest_warehouse']\n",
    "X_dirty_copy['season_Summer_distance'] = X_dirty_copy['season_Summer'] * X_dirty_copy['distance_to_nearest_warehouse']\n",
    "X_dirty_copy['season_Winter_distance'] = X_dirty_copy['season_Winter'] * X_dirty_copy['distance_to_nearest_warehouse']\n",
    "X_dirty_copy['season_Spring_expedited'] = X_dirty_copy['season_Spring'] * X_dirty_copy['is_expedited_delivery']\n",
    "X_dirty_copy['season_Summer_expedited'] = X_dirty_copy['season_Summer'] * X_dirty_copy['is_expedited_delivery']\n",
    "X_dirty_copy['season_Winter_expedited'] = X_dirty_copy['season_Winter'] * X_dirty_copy['is_expedited_delivery']\n",
    "\n",
    "# Using the existing trained model to predict on the updated data\n",
    "y_pred_dirty_copy = model.predict(X_dirty_copy)\n",
    "\n",
    "# Calculate the R²\n",
    "r2_dirty_copy = r2_score(df_dirty_copy['delivery_charges'], y_pred_dirty_copy)\n",
    "\n",
    "# Output the new R² score\n",
    "print(f'R² Score after changes: {r2_dirty_copy:.4f}')"
   ]
  },
  {
   "cell_type": "markdown",
   "id": "4b631c41",
   "metadata": {},
   "source": [
    "The R-square value has now singficantly improved. This indicates we have possibly handled all the errors. "
   ]
  },
  {
   "cell_type": "code",
   "execution_count": 69,
   "id": "2c160aa1",
   "metadata": {
    "colab": {
     "base_uri": "https://localhost:8080/",
     "height": 458
    },
    "id": "2c160aa1",
    "outputId": "dd24149f-72b8-4df2-ddd6-54bbb69ccf0a"
   },
   "outputs": [
    {
     "data": {
      "text/plain": [
       "0       True\n",
       "1      False\n",
       "2      False\n",
       "3      False\n",
       "4       True\n",
       "       ...  \n",
       "495    False\n",
       "496    False\n",
       "497    False\n",
       "498     True\n",
       "499    False\n",
       "Name: is_expedited_delivery, Length: 500, dtype: bool"
      ]
     },
     "execution_count": 69,
     "metadata": {},
     "output_type": "execute_result"
    }
   ],
   "source": [
    "df_dirty['is_expedited_delivery']"
   ]
  },
  {
   "cell_type": "code",
   "execution_count": 70,
   "id": "0c2f2605",
   "metadata": {
    "colab": {
     "base_uri": "https://localhost:8080/",
     "height": 458
    },
    "id": "0c2f2605",
    "outputId": "4267dc76-1f54-4a4d-9092-883751fab8de"
   },
   "outputs": [
    {
     "data": {
      "text/plain": [
       "0       True\n",
       "1      False\n",
       "2      False\n",
       "3      False\n",
       "4       True\n",
       "       ...  \n",
       "495    False\n",
       "496    False\n",
       "497    False\n",
       "498    False\n",
       "499     True\n",
       "Name: is_expedited_delivery, Length: 500, dtype: bool"
      ]
     },
     "execution_count": 70,
     "metadata": {},
     "output_type": "execute_result"
    }
   ],
   "source": [
    "# Make the changes to the original file\n",
    "df_dirty.loc[df_dirty['order_id'].isin(outliers_order_ids), 'is_expedited_delivery'] = \\\n",
    "    df_dirty.loc[df_dirty['order_id'].isin(outliers_order_ids), 'is_expedited_delivery'].apply(lambda x: not x)\n",
    "\n",
    "# Check the updated values\n",
    "df_dirty['is_expedited_delivery']"
   ]
  },
  {
   "cell_type": "markdown",
   "id": "b5bec31d",
   "metadata": {},
   "source": [
    "Notice that the index 499 has changed from False to True, indicating that our methods have successfully changed the incorrect is_expedited_delivery."
   ]
  },
  {
   "cell_type": "code",
   "execution_count": 71,
   "id": "4843e8fc",
   "metadata": {
    "id": "4843e8fc"
   },
   "outputs": [],
   "source": [
    "error_count += len(outliers_order_ids)\n",
    "changed_order_ids.extend(outliers_order_ids)"
   ]
  },
  {
   "cell_type": "code",
   "execution_count": 72,
   "id": "3787da84",
   "metadata": {
    "colab": {
     "base_uri": "https://localhost:8080/",
     "height": 0
    },
    "id": "3787da84",
    "outputId": "69268d42-69c4-4dd3-bba5-25fe580aa163"
   },
   "outputs": [
    {
     "name": "stdout",
     "output_type": "stream",
     "text": [
      "Total errors fixed: 292\n",
      "\n",
      "Changed order IDs: ['ORD185820', 'ORD485363', 'ORD394540', 'ORD195030', 'ORD094686', 'ORD463755', 'ORD141248', 'ORD480080', 'ORD382416', 'ORD453312', 'ORD158175', 'ORD136362', 'ORD297665', 'ORD402565', 'ORD478503', 'ORD280966', 'ORD336942', 'ORD015979', 'ORD289814', 'ORD171494', 'ORD424320', 'ORD275612', 'ORD155932', 'ORD381492', 'ORD336209', 'ORD039305', 'ORD461512', 'ORD463529', 'ORD010125', 'ORD167565', 'ORD330628', 'ORD319742', 'ORD284876', 'ORD042242', 'ORD232016', 'ORD083672', 'ORD305556', 'ORD312349', 'ORD235025', 'ORD365301', 'ORD351733', 'ORD374931', 'ORD367888', 'ORD471394', 'ORD190308', 'ORD197459', 'ORD253048', 'ORD355012', 'ORD049067', 'ORD438840', 'ORD408195', 'ORD361998', 'ORD085987', 'ORD187103', 'ORD198424', 'ORD444220', 'ORD212759', 'ORD260893', 'ORD431002', 'ORD239935', 'ORD326859', 'ORD059700', 'ORD127956', 'ORD477513', 'ORD393585', 'ORD089498', 'ORD270067', 'ORD245708', 'ORD236867', 'ORD287518', 'ORD352337', 'ORD361016', 'ORD050178', 'ORD001519', 'ORD349686', 'ORD424967', 'ORD431437', 'ORD402646', 'ORD333065', 'ORD474737', 'ORD336584', 'ORD147409', 'ORD083738', 'ORD047239', 'ORD218992', 'ORD331508', 'ORD278436', 'ORD461030', 'ORD343844', 'ORD348070', 'ORD102812', 'ORD408144', 'ORD372145', 'ORD164690', 'ORD236908', 'ORD365914', 'ORD400846', 'ORD307345', 'ORD276798', 'ORD185295', 'ORD392655', 'ORD076524', 'ORD364116', 'ORD394326', 'ORD320844', 'ORD496596', 'ORD110478', 'ORD367334', 'ORD395028', 'ORD431473', 'ORD358145', 'ORD059928', 'ORD264432', 'ORD020113', 'ORD179207', 'ORD179482', 'ORD051383', 'ORD005973', 'ORD322522', 'ORD470033', 'ORD197963', 'ORD292162', 'ORD147090', 'ORD433419', 'ORD219822', 'ORD376061', 'ORD150658', 'ORD133172', 'ORD460339', 'ORD021989', 'ORD047752', 'ORD322556', 'ORD225962', 'ORD105384', 'ORD119765', 'ORD163482', 'ORD486463', 'ORD252098', 'ORD391079', 'ORD086477', 'ORD166561', 'ORD308071', 'ORD200962', 'ORD274072', 'ORD152684', 'ORD368975', 'ORD168007', 'ORD148814', 'ORD081008', 'ORD487942', 'ORD442769', 'ORD420700', 'ORD322653', 'ORD476266', 'ORD445529', 'ORD065993', 'ORD010577', 'ORD004264', 'ORD252876', 'ORD165265', 'ORD006459', 'ORD007227', 'ORD153145', 'ORD392016', 'ORD281242', 'ORD195924', 'ORD078323', 'ORD487468', 'ORD462244', 'ORD375471', 'ORD207597', 'ORD052779', 'ORD394128', 'ORD065275', 'ORD396505', 'ORD074552', 'ORD169434', 'ORD472114', 'ORD258873', 'ORD329515', 'ORD477851', 'ORD358204', 'ORD220683', 'ORD176478', 'ORD429054', 'ORD399842', 'ORD323663', 'ORD019888', 'ORD123648', 'ORD130970', 'ORD401458', 'ORD100084', 'ORD252213', 'ORD115854', 'ORD190736', 'ORD368913', 'ORD357704', 'ORD439494', 'ORD399136', 'ORD479716', 'ORD161728', 'ORD130298', 'ORD387959', 'ORD125602', 'ORD030648', 'ORD130584', 'ORD379612', 'ORD091832', 'ORD241530', 'ORD241207', 'ORD203552', 'ORD052244', 'ORD330958', 'ORD109024', 'ORD477070', 'ORD430768', 'ORD333304', 'ORD140380', 'ORD388304', 'ORD040232', 'ORD416302', 'ORD019092', 'ORD272199', 'ORD340271', 'ORD430590', 'ORD281225', 'ORD243591', 'ORD056053', 'ORD326619', 'ORD128309', 'ORD012571', 'ORD215423', 'ORD267854', 'ORD285504', 'ORD466429', 'ORD016337', 'ORD457423', 'ORD412016', 'ORD112329', 'ORD136524', 'ORD373664', 'ORD291209', 'ORD319530', 'ORD073817', 'ORD333437', 'ORD318002', 'ORD378500', 'ORD121239', 'ORD333864', 'ORD228124', 'ORD460774', 'ORD493935', 'ORD046438', 'ORD236097', 'ORD484764', 'ORD397041', 'ORD261311', 'ORD106306', 'ORD095187', 'ORD366569', 'ORD302653', 'ORD235093', 'ORD432152', 'ORD346614', 'ORD235365', 'ORD119532', 'ORD359669', 'ORD347827', 'ORD277652', 'ORD406409', 'ORD168339', 'ORD122377', 'ORD404572', 'ORD446629', 'ORD044781', 'ORD151055', 'ORD307823', 'ORD289206', 'ORD153453', 'ORD196622', 'ORD145218', 'ORD447488', 'ORD194706', 'ORD298281', 'ORD498293', 'ORD333556', 'ORD357284', 'ORD287010', 'ORD052499', 'ORD318920', 'ORD281635', 'ORD458821']\n",
      "\n",
      "Are all order IDs in changed_order_ids unique? True\n"
     ]
    }
   ],
   "source": [
    "# Check if all order IDs in changed_order_ids are unique\n",
    "are_ids_unique = len(changed_order_ids) == len(set(changed_order_ids))\n",
    "\n",
    "# Output the results\n",
    "print(f\"Total errors fixed: {error_count}\")\n",
    "print()\n",
    "print(f\"Changed order IDs: {changed_order_ids}\")\n",
    "print()\n",
    "print(f\"Are all order IDs in changed_order_ids unique? {are_ids_unique}\")"
   ]
  },
  {
   "cell_type": "code",
   "execution_count": 73,
   "id": "ab2727d5",
   "metadata": {},
   "outputs": [
    {
     "name": "stdout",
     "output_type": "stream",
     "text": [
      "Duplicate values: []\n"
     ]
    }
   ],
   "source": [
    "# Using a set to track seen items and a list to store duplicates\n",
    "seen = set()\n",
    "duplicates = set()\n",
    "\n",
    "for item in changed_order_ids:\n",
    "    if item in seen:\n",
    "        duplicates.add(item)\n",
    "    else:\n",
    "        seen.add(item)\n",
    "\n",
    "# Print the duplicate values\n",
    "print(f\"Duplicate values: {list(duplicates)}\")"
   ]
  },
  {
   "cell_type": "markdown",
   "id": "La11xDSvLje_",
   "metadata": {
    "id": "La11xDSvLje_"
   },
   "source": [
    "A residual analysis was conducted, where residuals greater than 4 or less than -4 were considered significant outliers. A total of 67 such outliers were identified. For each outlier, the is_expedited_delivery flag was toggled, assuming that the feature might have been incorrectly recorded. After making these changes, the number of errors fixed increased by 67, and the overall is_expedited_delivery values in the dataset were corrected.\n",
    "\n",
    "After adjusting for the outliers, the R² score improved from 0.8081 to 0.9447, indicating a substantial increase in the model's ability to predict delivery charges. This showed that the changes made to the is_expedited_delivery feature successfully reduced prediction errors."
   ]
  },
  {
   "cell_type": "markdown",
   "id": "18d6e3d7",
   "metadata": {
    "id": "18d6e3d7"
   },
   "source": [
    "# 3. Outlier Detection and Removal"
   ]
  },
  {
   "cell_type": "code",
   "execution_count": 74,
   "id": "096744e5",
   "metadata": {
    "id": "096744e5"
   },
   "outputs": [],
   "source": [
    "df_outlier = pd.read_csv('Group130_outlier_data.csv')"
   ]
  },
  {
   "cell_type": "code",
   "execution_count": 75,
   "id": "a586fc40",
   "metadata": {
    "colab": {
     "base_uri": "https://localhost:8080/",
     "height": 219
    },
    "id": "a586fc40",
    "outputId": "22877445-60a5-4b9b-abc6-30ed64d79e6d"
   },
   "outputs": [
    {
     "data": {
      "text/html": [
       "<div>\n",
       "<style scoped>\n",
       "    .dataframe tbody tr th:only-of-type {\n",
       "        vertical-align: middle;\n",
       "    }\n",
       "\n",
       "    .dataframe tbody tr th {\n",
       "        vertical-align: top;\n",
       "    }\n",
       "\n",
       "    .dataframe thead th {\n",
       "        text-align: right;\n",
       "    }\n",
       "</style>\n",
       "<table border=\"1\" class=\"dataframe\">\n",
       "  <thead>\n",
       "    <tr style=\"text-align: right;\">\n",
       "      <th></th>\n",
       "      <th>order_id</th>\n",
       "      <th>customer_id</th>\n",
       "      <th>date</th>\n",
       "      <th>nearest_warehouse</th>\n",
       "      <th>shopping_cart</th>\n",
       "      <th>order_price</th>\n",
       "      <th>delivery_charges</th>\n",
       "      <th>customer_lat</th>\n",
       "      <th>customer_long</th>\n",
       "      <th>coupon_discount</th>\n",
       "      <th>order_total</th>\n",
       "      <th>season</th>\n",
       "      <th>is_expedited_delivery</th>\n",
       "      <th>distance_to_nearest_warehouse</th>\n",
       "      <th>latest_customer_review</th>\n",
       "      <th>is_happy_customer</th>\n",
       "    </tr>\n",
       "  </thead>\n",
       "  <tbody>\n",
       "    <tr>\n",
       "      <th>0</th>\n",
       "      <td>ORD278014</td>\n",
       "      <td>ID0634780142</td>\n",
       "      <td>2019-11-07</td>\n",
       "      <td>Thompson</td>\n",
       "      <td>[('Olivia x460', 2), ('Thunder line', 1)]</td>\n",
       "      <td>4630</td>\n",
       "      <td>75.21</td>\n",
       "      <td>-37.811950</td>\n",
       "      <td>144.938629</td>\n",
       "      <td>25</td>\n",
       "      <td>3547.71</td>\n",
       "      <td>Spring</td>\n",
       "      <td>False</td>\n",
       "      <td>0.7466</td>\n",
       "      <td>great product so far working with out any problem</td>\n",
       "      <td>True</td>\n",
       "    </tr>\n",
       "    <tr>\n",
       "      <th>1</th>\n",
       "      <td>ORD375106</td>\n",
       "      <td>ID0777825626</td>\n",
       "      <td>2019-07-29</td>\n",
       "      <td>Thompson</td>\n",
       "      <td>[('Alcon 10', 2), ('Candle Inferno', 2), ('pea...</td>\n",
       "      <td>25070</td>\n",
       "      <td>82.10</td>\n",
       "      <td>-37.803965</td>\n",
       "      <td>144.957401</td>\n",
       "      <td>15</td>\n",
       "      <td>21391.60</td>\n",
       "      <td>Winter</td>\n",
       "      <td>True</td>\n",
       "      <td>1.3287</td>\n",
       "      <td>great phone the first one i had i had to send ...</td>\n",
       "      <td>True</td>\n",
       "    </tr>\n",
       "  </tbody>\n",
       "</table>\n",
       "</div>"
      ],
      "text/plain": [
       "    order_id   customer_id        date nearest_warehouse  \\\n",
       "0  ORD278014  ID0634780142  2019-11-07          Thompson   \n",
       "1  ORD375106  ID0777825626  2019-07-29          Thompson   \n",
       "\n",
       "                                       shopping_cart  order_price  \\\n",
       "0          [('Olivia x460', 2), ('Thunder line', 1)]         4630   \n",
       "1  [('Alcon 10', 2), ('Candle Inferno', 2), ('pea...        25070   \n",
       "\n",
       "   delivery_charges  customer_lat  customer_long  coupon_discount  \\\n",
       "0             75.21    -37.811950     144.938629               25   \n",
       "1             82.10    -37.803965     144.957401               15   \n",
       "\n",
       "   order_total  season  is_expedited_delivery  distance_to_nearest_warehouse  \\\n",
       "0      3547.71  Spring                  False                         0.7466   \n",
       "1     21391.60  Winter                   True                         1.3287   \n",
       "\n",
       "                              latest_customer_review  is_happy_customer  \n",
       "0  great product so far working with out any problem               True  \n",
       "1  great phone the first one i had i had to send ...               True  "
      ]
     },
     "execution_count": 75,
     "metadata": {},
     "output_type": "execute_result"
    }
   ],
   "source": [
    "df_outlier.head(2)"
   ]
  },
  {
   "cell_type": "markdown",
   "id": "cc887dd5",
   "metadata": {
    "id": "cc887dd5"
   },
   "source": [
    "### 3.1 Univariate Methods\n",
    "##### 3.1.1 Box Plot and IQR"
   ]
  },
  {
   "cell_type": "markdown",
   "id": "LaHNWi1CF4U3",
   "metadata": {
    "id": "LaHNWi1CF4U3"
   },
   "source": [
    "In this outlier detection method, we focus on identifying and filtering outliers in the delivery_charges column using the Interquartile Range (IQR) method and visualizing the distribution with a boxplot. The approach involves calculating the IQR, which is the range between the 25th percentile (Q1) and the 75th percentile (Q3), and using 1.5 times the IQR to define the boundaries for detecting outliers. Any value below or above these boundaries is considered an outlier."
   ]
  },
  {
   "cell_type": "code",
   "execution_count": 76,
   "id": "5d2a1ba1",
   "metadata": {
    "colab": {
     "base_uri": "https://localhost:8080/",
     "height": 564
    },
    "id": "5d2a1ba1",
    "outputId": "50957007-c07b-48a3-e517-fc9951140c83"
   },
   "outputs": [
    {
     "data": {
      "image/png": "[encoded data removed]",
      "text/plain": [
       "<Figure size 800x600 with 1 Axes>"
      ]
     },
     "metadata": {},
     "output_type": "display_data"
    }
   ],
   "source": [
    "# Create a boxplot for the 'delivery_charges' column to visualize outliers\n",
    "plt.figure(figsize=(8, 6))\n",
    "plt.boxplot(df_outlier['delivery_charges'], vert=False)\n",
    "plt.title('Boxplot of Delivery Charges')\n",
    "plt.xlabel('Delivery Charges')\n",
    "plt.show()"
   ]
  },
  {
   "cell_type": "code",
   "execution_count": 77,
   "id": "f96747ee",
   "metadata": {
    "colab": {
     "base_uri": "https://localhost:8080/",
     "height": 0
    },
    "id": "f96747ee",
    "outputId": "3ad065a8-eb86-4382-927e-a531500bd3f4",
    "scrolled": true
   },
   "outputs": [
    {
     "name": "stdout",
     "output_type": "stream",
     "text": [
      "Outliers based on IQR:\n",
      "      order_id   customer_id        date nearest_warehouse  \\\n",
      "104  ORD105086  ID1449355163  2019-12-01         Nickolson   \n",
      "122  ORD155299  ID0387153023  2019-10-10          Thompson   \n",
      "192  ORD266783  ID0777834973  2019-10-20          Thompson   \n",
      "200  ORD290135  ID4313862233  2019-07-08            Bakers   \n",
      "209  ORD121565  ID0641029599  2019-08-08          Thompson   \n",
      "233  ORD323203  ID0457365613  2019-09-16         Nickolson   \n",
      "257  ORD389020  ID6167254960  2019-06-03         Nickolson   \n",
      "266  ORD167730  ID0634784172  2019-09-15          Thompson   \n",
      "289  ORD313224  ID0041675664  2019-06-01          Thompson   \n",
      "299  ORD125197  ID3168663488  2019-05-12            Bakers   \n",
      "309  ORD384004  ID1899270748  2019-02-15          Thompson   \n",
      "324  ORD098721  ID2383218753  2019-04-07          Thompson   \n",
      "349  ORD360538  ID2435998392  2019-11-18          Thompson   \n",
      "405  ORD149389  ID0207085734  2019-10-21            Bakers   \n",
      "499  ORD159244  ID0248746942  2019-10-17            Bakers   \n",
      "\n",
      "                                         shopping_cart  order_price  \\\n",
      "104               [('iStream', 1), ('Olivia x460', 2)]         2600   \n",
      "122  [('Alcon 10', 1), ('Toshika 750', 1), ('Lucent...        20090   \n",
      "192               [('pearTV', 1), ('Thunder line', 1)]         8490   \n",
      "200                [('Olivia x460', 1), ('pearTV', 1)]         7535   \n",
      "209  [('iAssist Line', 2), ('Olivia x460', 1), ('Ca...         6105   \n",
      "233  [('Universe Note', 2), ('iAssist Line', 1), ('...        15435   \n",
      "257  [('pearTV', 2), ('Thunder line', 1), ('iStream...        15100   \n",
      "266  [('iStream', 2), ('Universe Note', 2), ('Thund...        18020   \n",
      "289  [('Olivia x460', 1), ('Toshika 750', 1), ('Thu...        12130   \n",
      "299  [('iAssist Line', 1), ('iStream', 1), ('Olivia...         4460   \n",
      "309  [('Alcon 10', 1), ('Thunder line', 2), ('iStre...        15910   \n",
      "324  [('Lucent 330S', 1), ('pearTV', 2), ('iAssist ...        19160   \n",
      "349  [('Alcon 10', 2), ('pearTV', 2), ('iStream', 1...        31100   \n",
      "405               [('Lucent 330S', 1), ('iStream', 1)]         1380   \n",
      "499  [('Lucent 330S', 1), ('iStream', 1), ('Candle ...         1810   \n",
      "\n",
      "     delivery_charges  customer_lat  customer_long  coupon_discount  \\\n",
      "104           134.430    -37.815611     144.973490                5   \n",
      "122            38.015    -37.806308     144.949894               15   \n",
      "192           120.060    -37.802641     144.957748               25   \n",
      "200            38.905    -37.818087     144.990528               15   \n",
      "209            29.990    -37.810275     144.942739                5   \n",
      "233            27.965    -37.820159     144.971491               15   \n",
      "257            36.230    -37.817895     144.970674               10   \n",
      "266           153.195    -37.816005     144.939522                5   \n",
      "289            33.240    -37.822665     144.947085                5   \n",
      "299           115.140    -37.811844     145.000415               10   \n",
      "309           133.590    -37.801117     144.960937               10   \n",
      "324            34.285    -37.800500     144.960377                0   \n",
      "349           129.720    -37.809018     144.902237               10   \n",
      "405           109.360    -37.813402     145.015253               10   \n",
      "499           109.600    -37.822794     144.989197               10   \n",
      "\n",
      "     order_total  season  is_expedited_delivery  \\\n",
      "104     2604.430  Summer                   True   \n",
      "122    17114.515  Spring                  False   \n",
      "192     6487.560  Spring                  False   \n",
      "200     6443.655  Winter                   True   \n",
      "209     5829.740  Winter                   True   \n",
      "233    13147.715  Spring                  False   \n",
      "257    13626.230  Winter                   True   \n",
      "266    17272.195  Spring                   True   \n",
      "289    11556.740  Winter                  False   \n",
      "299     4129.140  Autumn                   True   \n",
      "309    14452.590  Summer                   True   \n",
      "324    19194.285  Autumn                  False   \n",
      "349    28119.720  Spring                   True   \n",
      "405     1351.360  Spring                   True   \n",
      "499     1738.600  Spring                   True   \n",
      "\n",
      "     distance_to_nearest_warehouse  \\\n",
      "104                         0.4799   \n",
      "122                         0.7509   \n",
      "192                         1.4593   \n",
      "200                         0.9911   \n",
      "209                         0.4650   \n",
      "233                         0.2437   \n",
      "257                         0.1258   \n",
      "266                         0.7603   \n",
      "289                         1.1122   \n",
      "299                         0.5001   \n",
      "309                         1.7727   \n",
      "324                         1.7906   \n",
      "349                         3.9637   \n",
      "405                         1.8010   \n",
      "499                         1.5202   \n",
      "\n",
      "                                latest_customer_review  is_happy_customer  \n",
      "104  bought for a good price bought for great price...               True  \n",
      "122                               five stars satisfied               True  \n",
      "192  great!!! didn't even notice that it was refurb...               True  \n",
      "200          i live alone, this is the best companion!               True  \n",
      "209  worst phone i ever had dont waste your money f...              False  \n",
      "233      one star don't have plenty of memory.. to bad              False  \n",
      "257  i purchased this tablet and am very happy with...               True  \n",
      "266  great service the phone came as advertised at ...               True  \n",
      "289  big screen love the large screen! pear goofed ...               True  \n",
      "299  this phone is perfect. happy with the phone. j...               True  \n",
      "309  this product was faulty my microphone for vide...              False  \n",
      "324  no complaints. i just wish it played .avi, but...               True  \n",
      "349  five stars perfect! exactly what i had wanted,...               True  \n",
      "405  great. this is legit. just like i expected. ve...               True  \n",
      "499  a beautiful and usefull device. worth the purc...               True  \n"
     ]
    }
   ],
   "source": [
    "# Calculate Q1 (25th percentile) and Q3 (75th percentile)\n",
    "Q1 = df_outlier['delivery_charges'].quantile(0.25)\n",
    "Q3 = df_outlier['delivery_charges'].quantile(0.75)\n",
    "\n",
    "# Calculate IQR (Interquartile Range)\n",
    "IQR = Q3 - Q1\n",
    "\n",
    "# Determine the outlier boundaries (1.5 times the IQR)\n",
    "lower_bound = Q1 - 1.5 * IQR\n",
    "upper_bound = Q3 + 1.5 * IQR\n",
    "\n",
    "# Filter the outliers\n",
    "outliers = df_outlier[(df_outlier['delivery_charges'] < lower_bound) | (df_outlier['delivery_charges'] > upper_bound)]\n",
    "\n",
    "# Display the outliers\n",
    "print(f\"Outliers based on IQR:\\n{outliers}\")"
   ]
  },
  {
   "cell_type": "markdown",
   "id": "IaXJiAVmGCFw",
   "metadata": {
    "id": "IaXJiAVmGCFw"
   },
   "source": [
    "The boxplot revealed that several values for delivery_charges fall outside the typical range, confirming the presence of outliers. Based on the IQR method:\n",
    "\n",
    "Q1: The 25th percentile of the delivery_charges distribution.\n",
    "Q3: The 75th percentile of the delivery_charges distribution.\n",
    "IQR: The interquartile range, calculated as Q3 - Q1.\n",
    "\n",
    "Outliers: Any value below Q1 - 1.5 × IQR or above Q3 + 1.5 × IQR.\n",
    "\n",
    "The code identifies a total of 15 outliers based on the IQR boundaries, which were printed in the results. These outliers represent transactions with unusually high or low delivery charges compared to the general distribution."
   ]
  },
  {
   "cell_type": "markdown",
   "id": "88d2af1e",
   "metadata": {
    "id": "88d2af1e"
   },
   "source": [
    "##### 3.1.2 3 Standard Deviation Rule"
   ]
  },
  {
   "cell_type": "markdown",
   "id": "sBgJGDwjGdF-",
   "metadata": {
    "id": "sBgJGDwjGdF-"
   },
   "source": [
    "This approach applies the 3 Standard Deviations Rule to identify outliers in the delivery_charges column. The idea behind this method is that in a normal distribution, approximately 99.7% of the data falls within 3 standard deviations from the mean. Any data points that lie outside of this range (beyond ±3 standard deviations) are considered outliers. The Z-score is calculated for each value, representing how many standard deviations away it is from the mean."
   ]
  },
  {
   "cell_type": "code",
   "execution_count": 78,
   "id": "00be3299",
   "metadata": {
    "colab": {
     "base_uri": "https://localhost:8080/",
     "height": 0
    },
    "id": "00be3299",
    "outputId": "32660ab0-e938-4f84-9032-1e94a40fc85b"
   },
   "outputs": [
    {
     "name": "stdout",
     "output_type": "stream",
     "text": [
      "Outliers based on Z-score:\n",
      "      order_id   customer_id        date nearest_warehouse  \\\n",
      "104  ORD105086  ID1449355163  2019-12-01         Nickolson   \n",
      "233  ORD323203  ID0457365613  2019-09-16         Nickolson   \n",
      "266  ORD167730  ID0634784172  2019-09-15          Thompson   \n",
      "309  ORD384004  ID1899270748  2019-02-15          Thompson   \n",
      "349  ORD360538  ID2435998392  2019-11-18          Thompson   \n",
      "\n",
      "                                         shopping_cart  order_price  \\\n",
      "104               [('iStream', 1), ('Olivia x460', 2)]         2600   \n",
      "233  [('Universe Note', 2), ('iAssist Line', 1), ('...        15435   \n",
      "266  [('iStream', 2), ('Universe Note', 2), ('Thund...        18020   \n",
      "309  [('Alcon 10', 1), ('Thunder line', 2), ('iStre...        15910   \n",
      "349  [('Alcon 10', 2), ('pearTV', 2), ('iStream', 1...        31100   \n",
      "\n",
      "     delivery_charges  customer_lat  customer_long  coupon_discount  \\\n",
      "104           134.430    -37.815611     144.973490                5   \n",
      "233            27.965    -37.820159     144.971491               15   \n",
      "266           153.195    -37.816005     144.939522                5   \n",
      "309           133.590    -37.801117     144.960937               10   \n",
      "349           129.720    -37.809018     144.902237               10   \n",
      "\n",
      "     order_total  season  is_expedited_delivery  \\\n",
      "104     2604.430  Summer                   True   \n",
      "233    13147.715  Spring                  False   \n",
      "266    17272.195  Spring                   True   \n",
      "309    14452.590  Summer                   True   \n",
      "349    28119.720  Spring                   True   \n",
      "\n",
      "     distance_to_nearest_warehouse  \\\n",
      "104                         0.4799   \n",
      "233                         0.2437   \n",
      "266                         0.7603   \n",
      "309                         1.7727   \n",
      "349                         3.9637   \n",
      "\n",
      "                                latest_customer_review  is_happy_customer  \\\n",
      "104  bought for a good price bought for great price...               True   \n",
      "233      one star don't have plenty of memory.. to bad              False   \n",
      "266  great service the phone came as advertised at ...               True   \n",
      "309  this product was faulty my microphone for vide...              False   \n",
      "349  five stars perfect! exactly what i had wanted,...               True   \n",
      "\n",
      "      z_score  \n",
      "104  3.543071  \n",
      "233 -3.013105  \n",
      "266  4.698631  \n",
      "309  3.491344  \n",
      "349  3.253027  \n"
     ]
    }
   ],
   "source": [
    "# Calculate the mean and standard deviation of 'delivery_charges'\n",
    "mean_delivery = df_outlier['delivery_charges'].mean()\n",
    "std_delivery = df_outlier['delivery_charges'].std()\n",
    "\n",
    "# Calculate the Z-score for each value in 'delivery_charges'\n",
    "df_outlier['z_score'] = (df_outlier['delivery_charges'] - mean_delivery) / std_delivery\n",
    "\n",
    "# Define the threshold for outliers (commonly 3 standard deviations away from the mean)\n",
    "threshold = 3\n",
    "\n",
    "# Filter out the rows where the Z-score is greater than the threshold (i.e., outliers)\n",
    "outliers_zscore = df_outlier[df_outlier['z_score'].abs() > threshold]\n",
    "\n",
    "# Display the outliers based on Z-score\n",
    "print(f\"Outliers based on Z-score:\\n{outliers_zscore}\")"
   ]
  },
  {
   "cell_type": "markdown",
   "id": "5iE65SsqGhhP",
   "metadata": {
    "id": "5iE65SsqGhhP"
   },
   "source": [
    "Using the 3 SD Rule, we identified 5 outliers in the dataset. These outliers represent transactions with delivery_charges that are significantly higher or lower than the majority of the data. The Z-scores of these outliers exceed the threshold of 3, meaning they deviate considerably from the mean."
   ]
  },
  {
   "cell_type": "markdown",
   "id": "0ef62a12",
   "metadata": {
    "id": "0ef62a12"
   },
   "source": [
    "##### 3.1.3 Hampel Method"
   ]
  },
  {
   "cell_type": "markdown",
   "id": "jvIJzPijGrQL",
   "metadata": {
    "id": "jvIJzPijGrQL"
   },
   "source": [
    "The Hampel Method is based on Median Absolute Deviation (MAD), a robust measure of statistical dispersion. Unlike standard deviation, which is sensitive to outliers, the MAD is based on the median, making it more resistant to extreme values. The Hampel method identifies outliers by calculating the absolute deviation of each data point from the median, scaled by the MAD. If the scaled deviation exceeds a threshold (commonly set at 3), the data point is flagged as an outlier."
   ]
  },
  {
   "cell_type": "code",
   "execution_count": 79,
   "id": "a3a078ed",
   "metadata": {
    "colab": {
     "base_uri": "https://localhost:8080/",
     "height": 0
    },
    "id": "a3a078ed",
    "outputId": "dd9fd5f0-d814-451a-b41b-6e0397c1760c"
   },
   "outputs": [
    {
     "name": "stdout",
     "output_type": "stream",
     "text": [
      "Outliers based on Hampel Identifier:\n",
      "      order_id   customer_id        date nearest_warehouse  \\\n",
      "10   ORD010857  ID5563404260  2019-10-17            Bakers   \n",
      "40   ORD413340  ID1833120509  2019-11-02          Thompson   \n",
      "47   ORD225926  ID4826905609  2019-10-20         Nickolson   \n",
      "79   ORD327980  ID0847533460  2019-07-27         Nickolson   \n",
      "104  ORD105086  ID1449355163  2019-12-01         Nickolson   \n",
      "122  ORD155299  ID0387153023  2019-10-10          Thompson   \n",
      "125  ORD045809  ID3512300806  2019-10-26            Bakers   \n",
      "134  ORD429344  ID0591435152  2019-05-06         Nickolson   \n",
      "145  ORD151554  ID0277090010  2019-10-10         Nickolson   \n",
      "192  ORD266783  ID0777834973  2019-10-20          Thompson   \n",
      "200  ORD290135  ID4313862233  2019-07-08            Bakers   \n",
      "209  ORD121565  ID0641029599  2019-08-08          Thompson   \n",
      "211  ORD207122  ID2868685435  2019-10-11         Nickolson   \n",
      "233  ORD323203  ID0457365613  2019-09-16         Nickolson   \n",
      "250  ORD202134  ID3218226989  2019-07-31          Thompson   \n",
      "257  ORD389020  ID6167254960  2019-06-03         Nickolson   \n",
      "266  ORD167730  ID0634784172  2019-09-15          Thompson   \n",
      "289  ORD313224  ID0041675664  2019-06-01          Thompson   \n",
      "290  ORD236594  ID0206204610  2019-09-26          Thompson   \n",
      "299  ORD125197  ID3168663488  2019-05-12            Bakers   \n",
      "309  ORD384004  ID1899270748  2019-02-15          Thompson   \n",
      "324  ORD098721  ID2383218753  2019-04-07          Thompson   \n",
      "337  ORD447627  ID4283908188  2019-10-08            Bakers   \n",
      "349  ORD360538  ID2435998392  2019-11-18          Thompson   \n",
      "405  ORD149389  ID0207085734  2019-10-21            Bakers   \n",
      "437  ORD173307  ID0370241607  2019-12-05         Nickolson   \n",
      "442  ORD206478  ID0364329268  2019-11-22          Thompson   \n",
      "446  ORD388577  ID4909776719  2019-10-07            Bakers   \n",
      "464  ORD284014  ID5884356140  2019-08-26          Thompson   \n",
      "481  ORD436051  ID0282854637  2019-01-23            Bakers   \n",
      "492  ORD024381  ID4283908151  2019-08-11            Bakers   \n",
      "494  ORD310623  ID0581731647  2019-12-25          Thompson   \n",
      "499  ORD159244  ID0248746942  2019-10-17            Bakers   \n",
      "\n",
      "                                         shopping_cart  order_price  \\\n",
      "10         [('Olivia x460', 2), ('Candle Inferno', 1)]         2880   \n",
      "40   [('Candle Inferno', 1), ('Universe Note', 2), ...        27455   \n",
      "47   [('Candle Inferno', 2), ('Alcon 10', 1), ('Tos...        14130   \n",
      "79           [('Thunder line', 2), ('Olivia x460', 1)]         5585   \n",
      "104               [('iStream', 1), ('Olivia x460', 2)]         2600   \n",
      "122  [('Alcon 10', 1), ('Toshika 750', 1), ('Lucent...        20090   \n",
      "125       [('iAssist Line', 2), ('Candle Inferno', 1)]         4880   \n",
      "134          [('Olivia x460', 1), ('iAssist Line', 2)]         5675   \n",
      "145  [('Lucent 330S', 1), ('Thunder line', 1), ('Al...        12790   \n",
      "192               [('pearTV', 1), ('Thunder line', 1)]         8490   \n",
      "200                [('Olivia x460', 1), ('pearTV', 1)]         7535   \n",
      "209  [('iAssist Line', 2), ('Olivia x460', 1), ('Ca...         6105   \n",
      "211  [('Thunder line', 2), ('iAssist Line', 2), ('O...        11260   \n",
      "233  [('Universe Note', 2), ('iAssist Line', 1), ('...        15435   \n",
      "250        [('Universe Note', 1), ('Thunder line', 2)]         7810   \n",
      "257  [('pearTV', 2), ('Thunder line', 1), ('iStream...        15100   \n",
      "266  [('iStream', 2), ('Universe Note', 2), ('Thund...        18020   \n",
      "289  [('Olivia x460', 1), ('Toshika 750', 1), ('Thu...        12130   \n",
      "290  [('Universe Note', 2), ('iStream', 1), ('pearT...        19670   \n",
      "299  [('iAssist Line', 1), ('iStream', 1), ('Olivia...         4460   \n",
      "309  [('Alcon 10', 1), ('Thunder line', 2), ('iStre...        15910   \n",
      "324  [('Lucent 330S', 1), ('pearTV', 2), ('iAssist ...        19160   \n",
      "337  [('iStream', 2), ('Olivia x460', 1), ('pearTV'...        16325   \n",
      "349  [('Alcon 10', 2), ('pearTV', 2), ('iStream', 1...        31100   \n",
      "405               [('Lucent 330S', 1), ('iStream', 1)]         1380   \n",
      "437  [('Candle Inferno', 2), ('iStream', 2), ('pear...        15005   \n",
      "442      [('Candle Inferno', 1), ('Universe Note', 1)]         3880   \n",
      "446  [('Candle Inferno', 1), ('Olivia x460', 1), ('...        14575   \n",
      "464              [('pearTV', 1), ('Universe Note', 2)]        13210   \n",
      "481              [('Universe Note', 1), ('pearTV', 1)]         9760   \n",
      "492  [('Toshika 750', 1), ('iStream', 1), ('iAssist...        21540   \n",
      "494  [('Lucent 330S', 1), ('Thunder line', 1), ('To...        12350   \n",
      "499  [('Lucent 330S', 1), ('iStream', 1), ('Candle ...         1810   \n",
      "\n",
      "     delivery_charges  customer_lat  customer_long  coupon_discount  \\\n",
      "10            108.510    -37.818068     145.010683                0   \n",
      "40            106.910    -37.799684     144.955095               10   \n",
      "47            107.240    -37.826842     144.955345               10   \n",
      "79             45.800    -37.820008     144.967006               25   \n",
      "104           134.430    -37.815611     144.973490                5   \n",
      "122            38.015    -37.806308     144.949894               15   \n",
      "125           106.680    -37.817410     145.009195               15   \n",
      "134            46.950    -37.817687     144.969250               25   \n",
      "145           105.760    -37.807858     144.972896               25   \n",
      "192           120.060    -37.802641     144.957748               25   \n",
      "200            38.905    -37.818087     144.990528               15   \n",
      "209            29.990    -37.810275     144.942739                5   \n",
      "211           106.680    -37.802119     144.970584                5   \n",
      "233            27.965    -37.820159     144.971491               15   \n",
      "250            47.280    -37.807435     144.944789               15   \n",
      "257            36.230    -37.817895     144.970674               10   \n",
      "266           153.195    -37.816005     144.939522                5   \n",
      "289            33.240    -37.822665     144.947085                5   \n",
      "290           107.550    -37.815431     144.928168               15   \n",
      "299           115.140    -37.811844     145.000415               10   \n",
      "309           133.590    -37.801117     144.960937               10   \n",
      "324            34.285    -37.800500     144.960377                0   \n",
      "337           107.460    -37.812066     145.014630                0   \n",
      "349           129.720    -37.809018     144.902237               10   \n",
      "405           109.360    -37.813402     145.015253               10   \n",
      "437           105.660    -37.800028     144.970443                0   \n",
      "442           107.770    -37.801097     144.960711               15   \n",
      "446           106.000    -37.821656     145.002561               10   \n",
      "464            40.625    -37.825594     144.933973               10   \n",
      "481           107.390    -37.802012     145.020271               15   \n",
      "492            47.340    -37.809778     144.991242               25   \n",
      "494           105.630    -37.804702     144.926920                0   \n",
      "499           109.600    -37.822794     144.989197               10   \n",
      "\n",
      "     order_total  season  is_expedited_delivery  \\\n",
      "10      2988.510  Spring                   True   \n",
      "40     24816.410  Spring                   True   \n",
      "47     12824.240  Spring                   True   \n",
      "79      4234.550  Winter                  False   \n",
      "104     2604.430  Summer                   True   \n",
      "122    17114.515  Spring                  False   \n",
      "125     4254.680  Spring                   True   \n",
      "134     4303.200  Autumn                  False   \n",
      "145     9698.260  Spring                   True   \n",
      "192     6487.560  Spring                  False   \n",
      "200     6443.655  Winter                   True   \n",
      "209     5829.740  Winter                   True   \n",
      "211    10803.680  Spring                   True   \n",
      "233    13147.715  Spring                  False   \n",
      "250     6685.780  Winter                  False   \n",
      "257    13626.230  Winter                   True   \n",
      "266    17272.195  Spring                   True   \n",
      "289    11556.740  Winter                  False   \n",
      "290    16827.050  Spring                   True   \n",
      "299     4129.140  Autumn                   True   \n",
      "309    14452.590  Summer                   True   \n",
      "324    19194.285  Autumn                  False   \n",
      "337    16432.460  Spring                   True   \n",
      "349    28119.720  Spring                   True   \n",
      "405     1351.360  Spring                   True   \n",
      "437    15110.660  Summer                   True   \n",
      "442     3405.770  Spring                   True   \n",
      "446    13223.500  Spring                   True   \n",
      "464    11929.625  Winter                   True   \n",
      "481     8403.390  Summer                   True   \n",
      "492    16202.340  Winter                  False   \n",
      "494    12455.630  Summer                   True   \n",
      "499     1738.600  Spring                   True   \n",
      "\n",
      "     distance_to_nearest_warehouse  \\\n",
      "10                          1.6290   \n",
      "40                          1.6091   \n",
      "47                          1.5502   \n",
      "79                          0.2735   \n",
      "104                         0.4799   \n",
      "122                         0.7509   \n",
      "125                         1.4795   \n",
      "134                         0.1045   \n",
      "145                         1.2308   \n",
      "192                         1.4593   \n",
      "200                         0.9911   \n",
      "209                         0.4650   \n",
      "211                         1.8363   \n",
      "233                         0.2437   \n",
      "250                         0.6166   \n",
      "257                         0.1258   \n",
      "266                         0.7603   \n",
      "289                         1.1122   \n",
      "290                         1.6903   \n",
      "299                         0.5001   \n",
      "309                         1.7727   \n",
      "324                         1.7906   \n",
      "337                         1.7214   \n",
      "349                         3.9637   \n",
      "405                         1.8010   \n",
      "437                         2.0683   \n",
      "442                         1.7607   \n",
      "446                         1.4492   \n",
      "464                         1.8426   \n",
      "481                         2.3747   \n",
      "492                         0.3518   \n",
      "494                         1.9818   \n",
      "499                         1.5202   \n",
      "\n",
      "                                latest_customer_review  is_happy_customer  \\\n",
      "10   great service by just as advertised. great ser...               True   \n",
      "40   like brand new for a refurbished phone. this p...               True   \n",
      "47   excellent phone this phone is much faster than...               True   \n",
      "79   not compatable with verizon carrier very disap...              False   \n",
      "104  bought for a good price bought for great price...               True   \n",
      "122                               five stars satisfied               True   \n",
      "125                     the speaker sounds really good               True   \n",
      "134  disappointed mad when i got the phone and open...              False   \n",
      "145  four stars i like it but the battery just runs...               True   \n",
      "192  great!!! didn't even notice that it was refurb...               True   \n",
      "200          i live alone, this is the best companion!               True   \n",
      "209  worst phone i ever had dont waste your money f...              False   \n",
      "211  the phone that is tough. very good dependable ...               True   \n",
      "233      one star don't have plenty of memory.. to bad              False   \n",
      "250  phone doesn't work after only two weeks phone ...              False   \n",
      "257  i purchased this tablet and am very happy with...               True   \n",
      "266  great service the phone came as advertised at ...               True   \n",
      "289  big screen love the large screen! pear goofed ...               True   \n",
      "290  olivia note 9 is awesome love my note 9! great...               True   \n",
      "299  this phone is perfect. happy with the phone. j...               True   \n",
      "309  this product was faulty my microphone for vide...              False   \n",
      "324  no complaints. i just wish it played .avi, but...               True   \n",
      "337  great phone i love the xp lumia 530 phones i r...               True   \n",
      "349  five stars perfect! exactly what i had wanted,...               True   \n",
      "405  great. this is legit. just like i expected. ve...               True   \n",
      "437  did not stand conpetition with newer cel phone...               True   \n",
      "442  five stars great phone.. battery alil weary bu...               True   \n",
      "446  best buy was very helpful & the tablet is good...               True   \n",
      "464  learning to use. im still learning to use a lo...               True   \n",
      "481  this is exactly what the person wanted as a gi...               True   \n",
      "492  no refund given yet i purchased this devise, t...              False   \n",
      "494                 love it great battery life love it               True   \n",
      "499  a beautiful and usefull device. worth the purc...               True   \n",
      "\n",
      "      z_score  hampel_score  \n",
      "10   1.946903      3.323591  \n",
      "40   1.848374      3.156576  \n",
      "47   1.868695      3.191023  \n",
      "79  -1.914815      3.222338  \n",
      "104  3.543071      6.029228  \n",
      "122 -2.394220      4.034969  \n",
      "125  1.834210      3.132568  \n",
      "134 -1.843998      3.102296  \n",
      "145  1.777556      3.036534  \n",
      "192  2.658158      4.529228  \n",
      "200 -2.339414      3.942067  \n",
      "209 -2.888404      4.872651  \n",
      "211  1.834210      3.132568  \n",
      "233 -3.013105      5.084029  \n",
      "250 -1.823676      3.067850  \n",
      "257 -2.504142      4.221294  \n",
      "266  4.698631      7.987996  \n",
      "289 -2.688268      4.533403  \n",
      "290  1.887785      3.223382  \n",
      "299  2.355182      4.015658  \n",
      "309  3.491344      5.941545  \n",
      "324 -2.623916      4.424322  \n",
      "337  1.882243      3.213987  \n",
      "349  3.253027      5.537578  \n",
      "405  1.999246      3.412317  \n",
      "437  1.771398      3.026096  \n",
      "442  1.901333      3.246347  \n",
      "446  1.792335      3.061587  \n",
      "464 -2.233495      3.762526  \n",
      "481  1.877932      3.206681  \n",
      "492 -1.819981      3.061587  \n",
      "494  1.769551      3.022965  \n",
      "499  2.014025      3.437370  \n"
     ]
    }
   ],
   "source": [
    "# Function to calculate the MAD (Median Absolute Deviation)\n",
    "def mad(series):\n",
    "    return np.median(np.abs(series - np.median(series)))\n",
    "\n",
    "# Calculate the median and MAD for 'delivery_charges'\n",
    "median_delivery = df_outlier['delivery_charges'].median()\n",
    "mad_delivery = mad(df_outlier['delivery_charges'])\n",
    "\n",
    "# Define the threshold\n",
    "threshold = 3\n",
    "\n",
    "# Calculate Hampel identifier for outliers\n",
    "df_outlier['hampel_score'] = np.abs(df_outlier['delivery_charges'] - median_delivery) / mad_delivery\n",
    "\n",
    "# Flag rows as outliers if the Hampel score exceeds the threshold\n",
    "outliers_hampel = df_outlier[df_outlier['hampel_score'] > threshold]\n",
    "\n",
    "# Display the outliers based on Hampel identifier\n",
    "print(f\"Outliers based on Hampel Identifier:\\n{outliers_hampel}\")"
   ]
  },
  {
   "cell_type": "markdown",
   "id": "UxxKOhhSGxFP",
   "metadata": {
    "id": "UxxKOhhSGxFP"
   },
   "source": [
    "Using the Hampel method, 33 outliers were detected in the delivery_charges column. These outliers represent values that deviate significantly from the median of the data, based on their MAD scores. Some of the orders flagged as outliers, such as ORD105086, ORD266783, and ORD360538, also appeared as outliers in previous methods, reinforcing their classification as anomalous transactions.\n",
    "\n",
    "The Hampel method flagged the following:\n",
    "\n",
    "Orders with unusually high delivery charges (e.g., ORD266783 with a Hampel score of 7.99).\n",
    "\n",
    "Some orders with relatively low delivery charges but still considered outliers based on their deviation from the median (e.g., ORD233 with a Hampel score of 5.08)."
   ]
  },
  {
   "cell_type": "markdown",
   "id": "7e7e7b27",
   "metadata": {
    "id": "7e7e7b27"
   },
   "source": [
    "### 3.2 Multivariate Method\n",
    "#### 3.2.1 Linear Regression"
   ]
  },
  {
   "cell_type": "markdown",
   "id": "PAY3KI-mG4XW",
   "metadata": {
    "id": "PAY3KI-mG4XW"
   },
   "source": [
    "The univariate methods identified different sets of outliers. However, feedback from the tutor highlighted the need for a multivariate approach, as delivery_charges is calculated using multiple variables. Context is crucial to accurately determine whether a value is truly an outlier, considering the interaction between variables.\n",
    "\n",
    "Therefore, we explored a multivariate linear regression model is trained using multiple features, including distance_to_nearest_warehouse, is_expedited_delivery, and seasonal effects, to predict the delivery_charges. The residuals (the difference between actual and predicted delivery charges) are then analyzed to detect outliers. Residuals that deviate significantly from zero (outside a threshold of ±20) indicate potential outliers. This approach captures interactions between multiple features and identifies cases where the delivery charges do not fit the model's predictions."
   ]
  },
  {
   "cell_type": "code",
   "execution_count": 80,
   "id": "ad3fd0db",
   "metadata": {
    "colab": {
     "base_uri": "https://localhost:8080/",
     "height": 564
    },
    "id": "ad3fd0db",
    "outputId": "f840ba84-c58d-43d6-eafe-3d7918f2a19a"
   },
   "outputs": [
    {
     "data": {
      "image/png": "[encoded data removed]",
      "text/plain": [
       "<Figure size 1000x600 with 1 Axes>"
      ]
     },
     "metadata": {},
     "output_type": "display_data"
    },
    {
     "name": "stdout",
     "output_type": "stream",
     "text": [
      "R² Score after changes: 0.7685\n"
     ]
    }
   ],
   "source": [
    "# One-Hot Encoding for 'season'\n",
    "df_outlier_encoded = pd.get_dummies(df_outlier, columns=['season'], drop_first=True)\n",
    "\n",
    "# Define the input features and target variable\n",
    "X_outlier = df_outlier_encoded[['distance_to_nearest_warehouse', 'is_expedited_delivery', 'is_happy_customer',\n",
    "                        'season_Spring', 'season_Summer', 'season_Winter']]  # Input features\n",
    "\n",
    "# Manually create the interaction terms for rows with missing values\n",
    "X_outlier['season_Spring_distance'] = X_outlier['season_Spring'] * X_outlier['distance_to_nearest_warehouse']\n",
    "X_outlier['season_Summer_distance'] = X_outlier['season_Summer'] * X_outlier['distance_to_nearest_warehouse']\n",
    "X_outlier['season_Winter_distance'] = X_outlier['season_Winter'] * X_outlier['distance_to_nearest_warehouse']\n",
    "\n",
    "X_outlier['season_Spring_expedited'] = X_outlier['season_Spring'] * X_outlier['is_expedited_delivery']\n",
    "X_outlier['season_Summer_expedited'] = X_outlier['season_Summer'] * X_outlier['is_expedited_delivery']\n",
    "X_outlier['season_Winter_expedited'] = X_outlier['season_Winter'] * X_outlier['is_expedited_delivery']\n",
    "\n",
    "y_outlier = df_outlier_encoded['delivery_charges']  # Target variable\n",
    "\n",
    "# Train the Linear Regression model on the entire dataset\n",
    "model = LinearRegression()\n",
    "model.fit(X_outlier, y_outlier)\n",
    "\n",
    "# Predict on the same dataset\n",
    "y_pred = model.predict(X_outlier)\n",
    "\n",
    "# Calculate residuals\n",
    "residuals = y_outlier - y_pred\n",
    "\n",
    "# Calculate the R²\n",
    "r2_outliers = r2_score(y_outlier, y_pred)\n",
    "\n",
    "# Scatter plot of residuals vs. predicted values\n",
    "plt.figure(figsize=(10, 6))\n",
    "plt.scatter(y_pred, residuals, edgecolors='black', facecolors='none')\n",
    "plt.axhline(y=0, color='red', linestyle='--')\n",
    "plt.axhline(y=20, color='black', linestyle='--')\n",
    "plt.axhline(y=-20, color='black', linestyle='--')\n",
    "plt.title('Residual Plot')\n",
    "plt.xlabel('Predicted Delivery Charges')\n",
    "plt.ylabel('Residuals')\n",
    "plt.show()\n",
    "\n",
    "# Output the new R² score\n",
    "print(f'R² Score after changes: {r2_outliers:.4f}')"
   ]
  },
  {
   "cell_type": "markdown",
   "id": "64367634",
   "metadata": {},
   "source": [
    "The R-squared value of 0.7685 was relatively low, prompting us to examine the residual plot to identify potential boundaries for outlier removal. A clear pattern emerged, with 20 and -20 serving as natural boundaries for an initial outlier removal process. After removing these outliers, we planned to recalculate the R-squared value to assess whether further adjustments would be necessary."
   ]
  },
  {
   "cell_type": "code",
   "execution_count": 81,
   "id": "4cffc891",
   "metadata": {
    "colab": {
     "base_uri": "https://localhost:8080/",
     "height": 0
    },
    "id": "4cffc891",
    "outputId": "7f70671c-01a2-4e80-c5a7-9694ce78453c"
   },
   "outputs": [
    {
     "name": "stdout",
     "output_type": "stream",
     "text": [
      "Number of outliers detected: 20\n"
     ]
    }
   ],
   "source": [
    "# Set threshold for residuals (+20 and -20)\n",
    "threshold_upper = 20\n",
    "threshold_lower = -20\n",
    "\n",
    "# Identify rows where residuals are outside the threshold\n",
    "outliers = np.where((residuals > threshold_upper) | (residuals < threshold_lower))[0]\n",
    "\n",
    "# Print number of outliers detected\n",
    "print(f\"Number of outliers detected: {len(outliers)}\")"
   ]
  },
  {
   "cell_type": "code",
   "execution_count": 82,
   "id": "73463a3b",
   "metadata": {
    "colab": {
     "base_uri": "https://localhost:8080/",
     "height": 0
    },
    "id": "73463a3b",
    "outputId": "647e1240-71fc-41cb-ba4a-4e29323d7e3b"
   },
   "outputs": [
    {
     "name": "stdout",
     "output_type": "stream",
     "text": [
      "Number of rows before removing outliers: 500\n",
      "Number of rows after removing outliers: 480\n"
     ]
    }
   ],
   "source": [
    "# Get the corresponding row indices in the DataFrame\n",
    "outliers_indices = df_outlier.index[outliers]\n",
    "\n",
    "# Drop the rows from df_outlier where outliers were detected\n",
    "df_outlier_cleaned = df_outlier.drop(index=outliers_indices)\n",
    "\n",
    "# Verify that the rows were removed\n",
    "print(f'Number of rows before removing outliers: {df_outlier.shape[0]}')\n",
    "print(f'Number of rows after removing outliers: {df_outlier_cleaned.shape[0]}')"
   ]
  },
  {
   "cell_type": "code",
   "execution_count": 83,
   "id": "1732eee0",
   "metadata": {},
   "outputs": [
    {
     "data": {
      "image/png": "[encoded data removed]",
      "text/plain": [
       "<Figure size 1000x600 with 1 Axes>"
      ]
     },
     "metadata": {},
     "output_type": "display_data"
    },
    {
     "name": "stdout",
     "output_type": "stream",
     "text": [
      "R² Score after changes: 0.9948\n"
     ]
    }
   ],
   "source": [
    "# One-Hot Encoding for 'season'\n",
    "df_outlier_encoded = pd.get_dummies(df_outlier_cleaned, columns=['season'], drop_first=True)\n",
    "\n",
    "# Define the input features and target variable\n",
    "X_outlier = df_outlier_encoded[['distance_to_nearest_warehouse', 'is_expedited_delivery', 'is_happy_customer',\n",
    "                        'season_Spring', 'season_Summer', 'season_Winter']]  # Input features\n",
    "\n",
    "# Manually create the interaction terms for rows with missing values\n",
    "X_outlier['season_Spring_distance'] = X_outlier['season_Spring'] * X_outlier['distance_to_nearest_warehouse']\n",
    "X_outlier['season_Summer_distance'] = X_outlier['season_Summer'] * X_outlier['distance_to_nearest_warehouse']\n",
    "X_outlier['season_Winter_distance'] = X_outlier['season_Winter'] * X_outlier['distance_to_nearest_warehouse']\n",
    "\n",
    "X_outlier['season_Spring_expedited'] = X_outlier['season_Spring'] * X_outlier['is_expedited_delivery']\n",
    "X_outlier['season_Summer_expedited'] = X_outlier['season_Summer'] * X_outlier['is_expedited_delivery']\n",
    "X_outlier['season_Winter_expedited'] = X_outlier['season_Winter'] * X_outlier['is_expedited_delivery']\n",
    "\n",
    "y_outlier = df_outlier_encoded['delivery_charges']  # Target variable\n",
    "\n",
    "# Train the Linear Regression model on the entire dataset\n",
    "model = LinearRegression()\n",
    "model.fit(X_outlier, y_outlier)\n",
    "\n",
    "# Predict on the same dataset\n",
    "y_pred = model.predict(X_outlier)\n",
    "\n",
    "# Calculate residuals\n",
    "residuals = y_outlier - y_pred\n",
    "\n",
    "# Calculate the R²\n",
    "r2_outliers = r2_score(y_outlier, y_pred)\n",
    "\n",
    "# Scatter plot of residuals vs. predicted values\n",
    "plt.figure(figsize=(10, 6))\n",
    "plt.scatter(y_pred, residuals, edgecolors='black', facecolors='none')\n",
    "plt.axhline(y=0, color='red', linestyle='--')\n",
    "plt.title('Residual Plot')\n",
    "plt.xlabel('Predicted Delivery Charges')\n",
    "plt.ylabel('Residuals')\n",
    "plt.show()\n",
    "\n",
    "# Output the new R² score\n",
    "print(f'R² Score after changes: {r2_outliers:.4f}')"
   ]
  },
  {
   "cell_type": "markdown",
   "id": "uXnuApTjG9Bb",
   "metadata": {
    "id": "uXnuApTjG9Bb"
   },
   "source": [
    "By conducting a residual analysis, we identified 20 outliers where the residuals exceeded the threshold of ±20. These outliers represent cases where the predicted delivery charges, based on key features such as warehouse distance, expedited delivery, and season, significantly deviated from the actual charges, pointing to potential anomalies in the data.\n",
    "\n",
    "The residual plot showed several points with large positive (above 20) or negative (below -20) residuals, indicating substantial differences between the predicted and actual delivery charges. These outliers were far from the baseline, signifying the need for removal.\n",
    "\n",
    "After removing the 20 outliers, the dataset size decreased from 500 to 480 rows, effectively cleaning the data of significant deviations. Recalculating the R-squared value resulted in a much-improved 0.9948, and the updated residual plot demonstrated that all residuals were now confined within the range of 3 to -3, successful elimination of the outliers."
   ]
  },
  {
   "cell_type": "markdown",
   "id": "3b0a9aea",
   "metadata": {
    "id": "3b0a9aea"
   },
   "source": [
    "# 4. Missing Data"
   ]
  },
  {
   "cell_type": "markdown",
   "id": "7dbd54eb",
   "metadata": {
    "id": "7dbd54eb"
   },
   "source": [
    "The missing values have been found in the following features:\n",
    "- nearest_warehouse\n",
    "- order_price\n",
    "- delivery_charges\n",
    "- distance_to_nearest_warehouse\n",
    "- is_happy_customer"
   ]
  },
  {
   "cell_type": "markdown",
   "id": "5Q4ZmBSKFZQi",
   "metadata": {
    "id": "5Q4ZmBSKFZQi"
   },
   "source": [
    "Missing Value Imputation Techniques:\n",
    "Nearest Warehouse: Missing values for nearest_warehouse were imputed using the function find_nearest_warehouse_and_fix(), which calculates the nearest warehouse for each customer based on their latitude and longitude using the Haversine formula.\n",
    "\n",
    "Order Price: Missing order_price values were calculated using the shopping cart details. The function impute_order_price() computed the total price by multiplying the quantities of items in the shopping cart by their respective unit prices (from the predefined unit_price_mapping).\n",
    "\n",
    "Delivery Charges: A polynomial regression model (previously trained) was used to predict missing delivery_charges values based on features like distance_to_nearest_warehouse, is_expedited_delivery, is_happy_customer, and season-related features.\n",
    "\n",
    "Distance to Nearest Warehouse: Missing distance_to_nearest_warehouse values were computed using the fix_distance_to_nearest_warehouse() function, which calculates the correct distance based on customer and warehouse locations using the Haversine formula.\n",
    "\n",
    "Order Total: Missing order_total values were imputed by calculating the order total based on order_price, coupon_discount, and delivery_charges. The calculate_order_total() function was used for this purpose.\n",
    "\n",
    "Is Happy Customer: Missing is_happy_customer values were imputed using sentiment analysis on the latest_customer_review. The VADER Sentiment Intensity Analyzer (sia.polarity_scores) was used to evaluate the sentiment of the review, and if the sentiment score was positive (compound score ≥ 0.05), the is_happy_customer field was set to True, otherwise False."
   ]
  },
  {
   "cell_type": "code",
   "execution_count": 84,
   "id": "060808e7",
   "metadata": {
    "colab": {
     "base_uri": "https://localhost:8080/",
     "height": 586
    },
    "id": "060808e7",
    "outputId": "fce718b6-2981-42f9-fd4a-66bad0940f88"
   },
   "outputs": [
    {
     "data": {
      "text/plain": [
       "order_id                          0\n",
       "customer_id                       0\n",
       "date                              0\n",
       "nearest_warehouse                55\n",
       "shopping_cart                     0\n",
       "order_price                      15\n",
       "delivery_charges                 40\n",
       "customer_lat                      0\n",
       "customer_long                     0\n",
       "coupon_discount                   0\n",
       "order_total                      15\n",
       "season                            0\n",
       "is_expedited_delivery             0\n",
       "distance_to_nearest_warehouse    31\n",
       "latest_customer_review            0\n",
       "is_happy_customer                40\n",
       "dtype: int64"
      ]
     },
     "execution_count": 84,
     "metadata": {},
     "output_type": "execute_result"
    }
   ],
   "source": [
    "# Load the 'Group130_missing.csv' file\n",
    "df_missing = pd.read_csv('./Group130_missing_data.csv')\n",
    "\n",
    "# Check for null values in the dataframe\n",
    "df_missing.isnull().sum()"
   ]
  },
  {
   "cell_type": "markdown",
   "id": "cbd8a37a",
   "metadata": {
    "id": "cbd8a37a"
   },
   "source": [
    "### 4.1 Missing Values: nearest_warehouse"
   ]
  },
  {
   "cell_type": "markdown",
   "id": "6b88b741",
   "metadata": {},
   "source": [
    "We applied the same function from the dirty data section to impute the missing values in this column."
   ]
  },
  {
   "cell_type": "code",
   "execution_count": 85,
   "id": "0640b46d",
   "metadata": {
    "id": "0640b46d"
   },
   "outputs": [],
   "source": [
    "# Apply the function only for rows with missing nearest_warehouse values\n",
    "df_missing_nearest_warehouse_fixed = df_missing[df_missing['nearest_warehouse'].isnull()].apply(find_nearest_warehouse_and_fix, axis=1)\n",
    "\n",
    "# Replace the missing nearest_warehouse values in the original dataframe with the fixed ones\n",
    "df_missing.update(df_missing_nearest_warehouse_fixed)"
   ]
  },
  {
   "cell_type": "code",
   "execution_count": 86,
   "id": "9b4e2c87",
   "metadata": {
    "colab": {
     "base_uri": "https://localhost:8080/",
     "height": 0
    },
    "id": "9b4e2c87",
    "outputId": "44ef7ca5-4e2c-4be6-deb0-b44543fd4e7e"
   },
   "outputs": [
    {
     "data": {
      "text/plain": [
       "0"
      ]
     },
     "execution_count": 86,
     "metadata": {},
     "output_type": "execute_result"
    }
   ],
   "source": [
    "df_missing['nearest_warehouse'].isnull().sum()"
   ]
  },
  {
   "cell_type": "markdown",
   "id": "ef0935d9",
   "metadata": {},
   "source": [
    "0 missing values indicates successful imputation."
   ]
  },
  {
   "cell_type": "markdown",
   "id": "e971b0ea",
   "metadata": {
    "id": "e971b0ea"
   },
   "source": [
    "### 4.2 Missing Values: distance_to_nearest_warehouse"
   ]
  },
  {
   "cell_type": "markdown",
   "id": "b93f7245",
   "metadata": {},
   "source": [
    "Similar to nearest_warehouse, we applied the same function from the dirty data section to impute the missing values in this column."
   ]
  },
  {
   "cell_type": "code",
   "execution_count": 87,
   "id": "064ef891",
   "metadata": {
    "id": "064ef891"
   },
   "outputs": [],
   "source": [
    "# Apply the function to rows where distance_to_nearest_warehouse is missing\n",
    "df_missing_distance_fixed = df_missing[df_missing['distance_to_nearest_warehouse'].isnull()].apply(fix_distance_to_nearest_warehouse, axis=1)\n",
    "\n",
    "# Replace the missing distance_to_nearest_warehouse values in the original dataframe with the fixed ones\n",
    "df_missing.update(df_missing_distance_fixed)"
   ]
  },
  {
   "cell_type": "code",
   "execution_count": 88,
   "id": "db1b33ac",
   "metadata": {
    "colab": {
     "base_uri": "https://localhost:8080/",
     "height": 0
    },
    "id": "db1b33ac",
    "outputId": "ac6951ba-43c3-4b53-fc72-0337b241fe77"
   },
   "outputs": [
    {
     "data": {
      "text/plain": [
       "0"
      ]
     },
     "execution_count": 88,
     "metadata": {},
     "output_type": "execute_result"
    }
   ],
   "source": [
    "df_missing['distance_to_nearest_warehouse'].isnull().sum()"
   ]
  },
  {
   "cell_type": "markdown",
   "id": "985b13b4",
   "metadata": {},
   "source": [
    "0 missing values indicates successful imputation."
   ]
  },
  {
   "cell_type": "markdown",
   "id": "ce46bd28",
   "metadata": {
    "id": "ce46bd28"
   },
   "source": [
    "### 4.3 Missing Values: order_price"
   ]
  },
  {
   "cell_type": "markdown",
   "id": "4877d1ac",
   "metadata": {},
   "source": [
    "We created a function that calculates and imputes missing order_price values by summing the prices of items in the shopping cart."
   ]
  },
  {
   "cell_type": "code",
   "execution_count": 89,
   "id": "55416528",
   "metadata": {
    "id": "55416528"
   },
   "outputs": [],
   "source": [
    "# Combined function to calculate and impute missing order_price\n",
    "def impute_order_price(df):\n",
    "    # Loop through the rows where order_price is missing\n",
    "    for idx, row in df[df['order_price'].isna()].iterrows():\n",
    "        # Parse the shopping_cart (if it's still a string representation)\n",
    "        cart = ast.literal_eval(row['shopping_cart']) if isinstance(row['shopping_cart'], str) else row['shopping_cart']\n",
    "\n",
    "        # Calculate the total order_price using the shopping_cart\n",
    "        total_price = sum(unit_price_mapping.get(item, 0) * quantity for item, quantity in cart)\n",
    "\n",
    "        # Update the dataframe with the calculated order_price\n",
    "        df.at[idx, 'order_price'] = total_price\n",
    "\n",
    "    return df"
   ]
  },
  {
   "cell_type": "code",
   "execution_count": 90,
   "id": "0ee7c3a9",
   "metadata": {
    "id": "0ee7c3a9"
   },
   "outputs": [],
   "source": [
    "# Applying the function to the dataframe with missing order_price\n",
    "df_missing = impute_order_price(df_missing)"
   ]
  },
  {
   "cell_type": "code",
   "execution_count": 91,
   "id": "204e678d",
   "metadata": {
    "colab": {
     "base_uri": "https://localhost:8080/",
     "height": 0
    },
    "id": "204e678d",
    "outputId": "24808c5d-6e1e-4191-c1a8-c761a5aa64f4"
   },
   "outputs": [
    {
     "data": {
      "text/plain": [
       "0"
      ]
     },
     "execution_count": 91,
     "metadata": {},
     "output_type": "execute_result"
    }
   ],
   "source": [
    "df_missing['order_price'].isnull().sum()"
   ]
  },
  {
   "cell_type": "markdown",
   "id": "1692e025",
   "metadata": {},
   "source": [
    "0 missing values indicates successful imputation."
   ]
  },
  {
   "cell_type": "markdown",
   "id": "7810b9d2",
   "metadata": {
    "id": "7810b9d2"
   },
   "source": [
    "### 4.4 Missing Values: order_total"
   ]
  },
  {
   "cell_type": "markdown",
   "id": "47f82863",
   "metadata": {},
   "source": [
    "Using the formula defined in the specification, we formulated a function to calculate and impute the missing values in order_total."
   ]
  },
  {
   "cell_type": "code",
   "execution_count": 92,
   "id": "5f730ebd",
   "metadata": {
    "id": "5f730ebd"
   },
   "outputs": [],
   "source": [
    "# Function to impute missing order_total values\n",
    "def impute_order_total(df):\n",
    "    # Loop through rows where order_total is missing\n",
    "    for idx, row in df[df['order_total'].isna()].iterrows():\n",
    "        # Calculate order_total using the defined function\n",
    "        calculated_order_total = calculate_order_total(row['order_price'], row['coupon_discount'], row['delivery_charges'])\n",
    "\n",
    "        # Update the dataframe with the calculated order_total\n",
    "        df.at[idx, 'order_total'] = calculated_order_total\n",
    "\n",
    "    return df\n",
    "\n",
    "# Applying the function to the dataframe with missing order_total\n",
    "df_missing = impute_order_total(df_missing)"
   ]
  },
  {
   "cell_type": "code",
   "execution_count": 93,
   "id": "67cff40c",
   "metadata": {
    "colab": {
     "base_uri": "https://localhost:8080/",
     "height": 0
    },
    "id": "67cff40c",
    "outputId": "b30876be-66d5-4251-8c2b-4f9b9cc2e0f0"
   },
   "outputs": [
    {
     "data": {
      "text/plain": [
       "0"
      ]
     },
     "execution_count": 93,
     "metadata": {},
     "output_type": "execute_result"
    }
   ],
   "source": [
    "df_missing['order_total'].isnull().sum()"
   ]
  },
  {
   "cell_type": "markdown",
   "id": "0a476e07",
   "metadata": {},
   "source": [
    "0 missing values indicates successful imputation."
   ]
  },
  {
   "cell_type": "markdown",
   "id": "2ceb1341",
   "metadata": {
    "id": "2ceb1341"
   },
   "source": [
    "### 4.5 Missing Values: is_happy_customer"
   ]
  },
  {
   "cell_type": "markdown",
   "id": "61fbb6da",
   "metadata": {},
   "source": [
    "This function imputes missing is_happy_customer values by analyzing the sentiment of the latest customer review, assigning a value of 1.0 for positive sentiment and 0.0 for negative sentiment."
   ]
  },
  {
   "cell_type": "code",
   "execution_count": 94,
   "id": "4fa6e2d2",
   "metadata": {
    "id": "4fa6e2d2"
   },
   "outputs": [],
   "source": [
    "# Function to impute missing is_happy_customer values based on the review sentiment\n",
    "def impute_is_happy_customer(row):\n",
    "\n",
    "    # Check if is_happy_customer is missing\n",
    "    if pd.isnull(row['is_happy_customer']):\n",
    "        # Get the latest customer review\n",
    "        review = row['latest_customer_review']\n",
    "\n",
    "        # Get the sentiment score using SentimentIntensityAnalyzer\n",
    "        sentiment_score = sia.polarity_scores(review)\n",
    "\n",
    "        # Determine if the customer is happy based on the compound score\n",
    "        is_happy = sentiment_score['compound'] >= 0.05\n",
    "\n",
    "        # Impute the value for is_happy_customer: 1.0 for True, 0.0 for False\n",
    "        row['is_happy_customer'] = 1.0 if is_happy else 0.0\n",
    "\n",
    "        # Impute the value for is_happy_customer based on the review sentiment\n",
    "        row['is_happy_customer'] = is_happy\n",
    "\n",
    "\n",
    "    return row\n",
    "\n",
    "# Apply the function to rows where is_happy_customer is missing\n",
    "df_missing_is_happy_customer_fixed = df_missing[df_missing['is_happy_customer'].isnull()].apply(impute_is_happy_customer, axis=1)\n",
    "df_missing_is_happy_customer_fixed['is_happy_customer'] = df_missing_is_happy_customer_fixed['is_happy_customer'].astype(float)\n",
    "\n",
    "# Update the original dataframe with the imputed values\n",
    "df_missing.update(df_missing_is_happy_customer_fixed)"
   ]
  },
  {
   "cell_type": "code",
   "execution_count": 95,
   "id": "f6127a11",
   "metadata": {
    "colab": {
     "base_uri": "https://localhost:8080/",
     "height": 0
    },
    "id": "f6127a11",
    "outputId": "ba4822e5-2e35-4acb-847c-f684b90d205c"
   },
   "outputs": [
    {
     "data": {
      "text/plain": [
       "0"
      ]
     },
     "execution_count": 95,
     "metadata": {},
     "output_type": "execute_result"
    }
   ],
   "source": [
    "df_missing['is_happy_customer'].isnull().sum()"
   ]
  },
  {
   "cell_type": "markdown",
   "id": "2e17b47e",
   "metadata": {},
   "source": [
    "0 missing values indicates successful imputation."
   ]
  },
  {
   "cell_type": "markdown",
   "id": "8f118eab",
   "metadata": {
    "id": "8f118eab"
   },
   "source": [
    "### 4.6 Missing Values: delivery_charges"
   ]
  },
  {
   "cell_type": "markdown",
   "id": "dd353480",
   "metadata": {},
   "source": [
    "The purpose of this process is to accurately predict and impute missing values for the delivery_charges column in the dataset. By utilizing a linear regression model, which incorporates important factors such as distance to the nearest warehouse, whether expedited delivery was chosen, customer satisfaction, and seasonal effects, the model can estimate delivery charges for rows where this information is missing. This ensures that the dataset is complete and consistent, allowing for more accurate analysis and decision-making. The additional use of interaction terms between variables helps to capture more complex relationships that might influence delivery charges, leading to more precise imputation of missing values."
   ]
  },
  {
   "cell_type": "code",
   "execution_count": 96,
   "id": "86e083fd",
   "metadata": {
    "colab": {
     "base_uri": "https://localhost:8080/",
     "height": 0
    },
    "id": "86e083fd",
    "outputId": "2e714365-68b6-4588-e009-8d2b5ad11a40"
   },
   "outputs": [
    {
     "name": "stdout",
     "output_type": "stream",
     "text": [
      "R² Score: 0.9957\n"
     ]
    }
   ],
   "source": [
    "df_cleaned = df_missing.dropna()\n",
    "\n",
    "# One-hot encode the 'season' column\n",
    "df_cleaned = pd.get_dummies(df_cleaned, columns=['season'], drop_first=True)\n",
    "\n",
    "# Convert binary categorical variables to integers\n",
    "df_cleaned['is_expedited_delivery'] = df_cleaned['is_expedited_delivery'].astype(int)\n",
    "\n",
    "X = df_cleaned[['distance_to_nearest_warehouse', 'is_expedited_delivery', 'is_happy_customer',\n",
    "                'season_Spring', 'season_Summer', 'season_Winter']]  # One-hot encoded seasons\n",
    "\n",
    "y = df_cleaned['delivery_charges']\n",
    "\n",
    "X['season_Spring_distance'] = X['season_Spring'] * X['distance_to_nearest_warehouse']\n",
    "X['season_Summer_distance'] = X['season_Summer'] * X['distance_to_nearest_warehouse']\n",
    "X['season_Winter_distance'] = X['season_Winter'] * X['distance_to_nearest_warehouse']\n",
    "\n",
    "X['season_Spring_expedited'] = X['season_Spring'] * X['is_expedited_delivery']\n",
    "X['season_Summer_expedited'] = X['season_Summer'] * X['is_expedited_delivery']\n",
    "X['season_Winter_expedited'] = X['season_Winter'] * X['is_expedited_delivery']\n",
    "\n",
    "# Split the dataset into training and testing sets\n",
    "X_train, X_test, y_train, y_test = train_test_split(X, y, test_size=0.2, random_state=42)\n",
    "\n",
    "# Train the Linear Regression model using statsmodels\n",
    "model = LinearRegression()\n",
    "model.fit(X_train, y_train)\n",
    "\n",
    "# Predict delivery charges using the trained model\n",
    "y_pred = model.predict(X)\n",
    "\n",
    "# Calculate R² score between actual delivery charges and predicted delivery charges\n",
    "r2 = r2_score(y, y_pred)\n",
    "\n",
    "# Print the R² score\n",
    "print(f'R² Score: {r2:.4f}')"
   ]
  },
  {
   "cell_type": "markdown",
   "id": "14adfbad",
   "metadata": {},
   "source": [
    "The R² score of 0.9957 indicates an extremely high level of accuracy in the model’s predictions. This is highly impressive and suggests that the model is more than capable of accurately predicting the missing delivery charges. "
   ]
  },
  {
   "cell_type": "code",
   "execution_count": 97,
   "id": "b95573d8",
   "metadata": {
    "id": "b95573d8"
   },
   "outputs": [],
   "source": [
    "# Prepare the data for prediction (ensure encoding is consistent)\n",
    "df_missing_encoded = pd.get_dummies(df_missing, columns=['season'], drop_first=True)\n",
    "\n",
    "# Focus only on the rows with missing delivery_charges\n",
    "df_missing_with_nulls = df_missing_encoded[df_missing['delivery_charges'].isnull()].copy()\n",
    "\n",
    "# Extract features for rows with missing delivery_charges\n",
    "X_missing_with_nulls = df_missing_with_nulls[['distance_to_nearest_warehouse', 'is_expedited_delivery', 'is_happy_customer',\n",
    "                                             'season_Spring', 'season_Summer', 'season_Winter']]\n",
    "\n",
    "# Convert 'is_expedited_delivery' to integer format\n",
    "X_missing_with_nulls['is_expedited_delivery'] = X_missing_with_nulls['is_expedited_delivery'].astype(int)\n",
    "\n",
    "# Manually create the interaction terms for rows with missing values\n",
    "X_missing_with_nulls['season_Spring_distance'] = X_missing_with_nulls['season_Spring'] * X_missing_with_nulls['distance_to_nearest_warehouse']\n",
    "X_missing_with_nulls['season_Summer_distance'] = X_missing_with_nulls['season_Summer'] * X_missing_with_nulls['distance_to_nearest_warehouse']\n",
    "X_missing_with_nulls['season_Winter_distance'] = X_missing_with_nulls['season_Winter'] * X_missing_with_nulls['distance_to_nearest_warehouse']\n",
    "\n",
    "X_missing_with_nulls['season_Spring_expedited'] = X_missing_with_nulls['season_Spring'] * X_missing_with_nulls['is_expedited_delivery']\n",
    "X_missing_with_nulls['season_Summer_expedited'] = X_missing_with_nulls['season_Summer'] * X_missing_with_nulls['is_expedited_delivery']\n",
    "X_missing_with_nulls['season_Winter_expedited'] = X_missing_with_nulls['season_Winter'] * X_missing_with_nulls['is_expedited_delivery']\n",
    "\n",
    "# Predict delivery_charges for rows with missing values\n",
    "df_missing_with_nulls['predicted_delivery_charges'] = model.predict(X_missing_with_nulls)\n",
    "\n",
    "# Update the missing delivery_charges in the original df_missing dataframe\n",
    "df_missing.loc[df_missing['delivery_charges'].isnull(), 'delivery_charges'] = round(df_missing_with_nulls['predicted_delivery_charges'], 2)"
   ]
  },
  {
   "cell_type": "code",
   "execution_count": 98,
   "id": "f99f457a",
   "metadata": {
    "colab": {
     "base_uri": "https://localhost:8080/",
     "height": 0
    },
    "id": "f99f457a",
    "outputId": "2de47d2e-159c-4a6e-8d35-71116cabe737"
   },
   "outputs": [
    {
     "data": {
      "text/plain": [
       "0"
      ]
     },
     "execution_count": 98,
     "metadata": {},
     "output_type": "execute_result"
    }
   ],
   "source": [
    "df_missing['delivery_charges'].isnull().sum()"
   ]
  },
  {
   "cell_type": "markdown",
   "id": "225ef200",
   "metadata": {},
   "source": [
    "0 missing values indicates successful imputation."
   ]
  },
  {
   "cell_type": "code",
   "execution_count": 99,
   "id": "e7df02b4",
   "metadata": {
    "colab": {
     "base_uri": "https://localhost:8080/",
     "height": 586
    },
    "id": "e7df02b4",
    "outputId": "4db85b88-98bf-4def-f1d9-052ad4e857d0"
   },
   "outputs": [
    {
     "data": {
      "text/plain": [
       "order_id                         0\n",
       "customer_id                      0\n",
       "date                             0\n",
       "nearest_warehouse                0\n",
       "shopping_cart                    0\n",
       "order_price                      0\n",
       "delivery_charges                 0\n",
       "customer_lat                     0\n",
       "customer_long                    0\n",
       "coupon_discount                  0\n",
       "order_total                      0\n",
       "season                           0\n",
       "is_expedited_delivery            0\n",
       "distance_to_nearest_warehouse    0\n",
       "latest_customer_review           0\n",
       "is_happy_customer                0\n",
       "dtype: int64"
      ]
     },
     "execution_count": 99,
     "metadata": {},
     "output_type": "execute_result"
    }
   ],
   "source": [
    "# Check for null values in the dataframe\n",
    "df_missing.isnull().sum()"
   ]
  },
  {
   "cell_type": "markdown",
   "id": "tjzA4Op7FhWg",
   "metadata": {
    "id": "tjzA4Op7FhWg"
   },
   "source": [
    "By applying these tailored imputation techniques, all missing values in the dataset were successfully addressed, bringing the total count of missing values in all columns down to zero. The different approaches applied to each feature ensure logical consistency and retain the integrity of the dataset.\n",
    "\n",
    "Nearest Warehouse: 55 missing values were imputed based on the customer's latitude and longitude.\n",
    "\n",
    "Order Price: 15 missing values were calculated using the items in the shopping cart.\n",
    "\n",
    "Delivery Charges: 40 missing values were predicted using polynomial regression.\n",
    "\n",
    "Distance to Nearest Warehouse: 31 missing values were computed using Haversine distance calculations.\n",
    "\n",
    "Is Happy Customer: 40 missing values were imputed using sentiment analysis on customer reviews."
   ]
  },
  {
   "cell_type": "markdown",
   "id": "f708f1fc",
   "metadata": {
    "id": "f708f1fc"
   },
   "source": [
    "# 5. Output Files"
   ]
  },
  {
   "cell_type": "markdown",
   "id": "2Q8a8WbzMbgc",
   "metadata": {
    "id": "2Q8a8WbzMbgc"
   },
   "source": [
    "After conducting a comprehensive data analysis, error detection, and outlier handling, the final datasets were generated and saved to their respective CSV files. These files reflect the improvements made to the data by fixing missing values, addressing outliers, and correcting misclassifications."
   ]
  },
  {
   "cell_type": "code",
   "execution_count": 100,
   "id": "54e66b0e",
   "metadata": {
    "colab": {
     "base_uri": "https://localhost:8080/",
     "height": 339
    },
    "id": "54e66b0e",
    "outputId": "f4c97c0a-bae3-4eed-f6d3-70ae5f62a42b"
   },
   "outputs": [],
   "source": [
    "# Save files CSV file\n",
    "df_dirty.to_csv('./Group130_dirty_data_solution.csv', index=False)\n",
    "df_outlier_cleaned.to_csv('./Group130_outlier_data_solution.csv', index=False)\n",
    "df_missing.to_csv('./Group130_missing_data_solution.csv', index=False)"
   ]
  },
  {
   "cell_type": "markdown",
   "id": "ZTOlRjz3Mc0g",
   "metadata": {
    "id": "ZTOlRjz3Mc0g"
   },
   "source": [
    "Group130_dirty_data.csv: This file contains the corrected data where errors in features such as is_expedited_delivery, delivery_charges, and nearest_warehouse were addressed. The interaction terms were included, and model predictions were used to validate the consistency of the data. Corrections made to outliers and misclassified is_expedited_delivery values were also incorporated into this file, leading to improved prediction accuracy and a higher R² score.\n",
    "\n",
    "Group130_outlier_data.csv: This file holds the cleaned version of the outlier data, where multiple outlier detection methods such as the 3-SD rule, Hampel method, and residual analysis were applied. Rows with extreme values were identified, and any erroneous or extreme values were corrected, improving the overall integrity of the dataset.\n",
    "\n",
    "Group130_missing_data.csv: Missing data in this file were addressed using appropriate imputation techniques. For instance, the nearest_warehouse and distance_to_nearest_warehouse columns were fixed using spatial proximity calculations, while order_price, order_total, and is_happy_customer were imputed based on logical and model-based predictions. By resolving all missing values, the dataset was made complete, ready for further analysis."
   ]
  },
  {
   "cell_type": "markdown",
   "id": "f2c65735",
   "metadata": {},
   "source": [
    "# 6. Conclusion"
   ]
  },
  {
   "cell_type": "markdown",
   "id": "515c0fc5",
   "metadata": {},
   "source": [
    "The application of rigorous data cleaning techniques allowed us to successfully identify and resolve issues in the dataset, ensuring its integrity for further analysis. A total of 292 errors were corrected, enhancing the reliability of key variables. By leveraging residual analysis, we effectively identified 20 outliers where delivery charges significantly deviated from expected values, pointing to potential anomalies that were subsequently removed.\n",
    "\n",
    "Furthermore, all missing values were imputed using logical and contextually relevant methods, bringing the total count of missing values across the dataset to zero. For example, the nearest warehouse was accurately imputed based on Haversine distance calculations, while sentiment analysis of customer reviews was used to infer missing ‘is_happy_customer’ values. Overall, these tailored approaches preserved the relationships between features and improved the overall quality of the dataset."
   ]
  },
  {
   "cell_type": "markdown",
   "id": "49229017",
   "metadata": {},
   "source": [
    "# 7. References"
   ]
  },
  {
   "cell_type": "markdown",
   "id": "b6d2081b",
   "metadata": {},
   "source": [
    "SciPy (for scientific computing):\n",
    "Virtanen, P., Gommers, R., Oliphant, T. E., Haberland, M., Reddy, T., Cournapeau, D., ... & van der Walt, S. J. (2020). SciPy 1.0: Fundamental algorithms for scientific computing in Python. Nature Methods, 17(3), 261-272. https://scipy.org/\n",
    "\n",
    "VADER Sentiment Analysis (for sentiment analysis, e.g., SentimentIntensityAnalyzer):\n",
    "Hutto, C. J., & Gilbert, E. (2014). VADER: A parsimonious rule-based model for sentiment analysis of social media text. In Proceedings of the 8th International AAAI Conference on Weblogs and Social Media (pp. 216-225). https://github.com/cjhutto/vaderSentiment\n",
    "\n",
    "Monash University. (2024). Week 7: Data cleansing. FIT5196 Data Wrangling.\n",
    "\n",
    "Monash University. (2024). Week 6: Data quality & anomalies. FIT5196 Data Wrangling. "
   ]
  }
 ],
 "metadata": {
  "colab": {
   "provenance": []
  },
  "kernelspec": {
   "display_name": "Python 3 (ipykernel)",
   "language": "python",
   "name": "python3"
  },
  "language_info": {
   "codemirror_mode": {
    "name": "ipython",
    "version": 3
   },
   "file_extension": ".py",
   "mimetype": "text/x-python",
   "name": "python",
   "nbconvert_exporter": "python",
   "pygments_lexer": "ipython3",
   "version": "3.11.5"
  }
 },
 "nbformat": 4,
 "nbformat_minor": 5
}
